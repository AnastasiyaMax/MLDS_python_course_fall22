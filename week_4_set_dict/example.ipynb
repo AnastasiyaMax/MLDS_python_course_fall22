{
 "cells": [
  {
   "cell_type": "markdown",
   "metadata": {},
   "source": [
    "## Task 1\n",
    "\n",
    "* `username` – developer's username\n",
    "* `commits` – number of commits by the developer\n",
    "* `changed_lines` – number of changed lines\n",
    "* `new_files` – number of new files added by dev\n",
    "\n",
    "Sorted by username"
   ]
  },
  {
   "cell_type": "markdown",
   "metadata": {},
   "source": [
    "### pandas"
   ]
  },
  {
   "cell_type": "code",
   "execution_count": 1,
   "metadata": {},
   "outputs": [],
   "source": [
    "import pandas as pd\n",
    "from pandas.io.json import json_normalize\n",
    "import json"
   ]
  },
  {
   "cell_type": "code",
   "execution_count": 2,
   "metadata": {},
   "outputs": [],
   "source": [
    "with open('commits.json', 'r') as f:\n",
    "    data = json.load(f)"
   ]
  },
  {
   "cell_type": "code",
   "execution_count": 3,
   "metadata": {
    "scrolled": false
   },
   "outputs": [
    {
     "data": {
      "text/plain": [
       "{'username': 'bober38',\n",
       " 'commit_time': '2021/03/12 05:45:02',\n",
       " 'files': [{'name': 'utils/net.py', 'changed_lines': 85}]}"
      ]
     },
     "execution_count": 3,
     "metadata": {},
     "output_type": "execute_result"
    }
   ],
   "source": [
    "data[0]"
   ]
  },
  {
   "cell_type": "code",
   "execution_count": 4,
   "metadata": {},
   "outputs": [
    {
     "name": "stderr",
     "output_type": "stream",
     "text": [
      "<ipython-input-4-611468bd04a9>:1: FutureWarning: pandas.io.json.json_normalize is deprecated, use pandas.json_normalize instead\n",
      "  df = json_normalize(data, 'files', ['username', 'commit_time'])\n"
     ]
    },
    {
     "data": {
      "text/html": [
       "<div>\n",
       "<style scoped>\n",
       "    .dataframe tbody tr th:only-of-type {\n",
       "        vertical-align: middle;\n",
       "    }\n",
       "\n",
       "    .dataframe tbody tr th {\n",
       "        vertical-align: top;\n",
       "    }\n",
       "\n",
       "    .dataframe thead th {\n",
       "        text-align: right;\n",
       "    }\n",
       "</style>\n",
       "<table border=\"1\" class=\"dataframe\">\n",
       "  <thead>\n",
       "    <tr style=\"text-align: right;\">\n",
       "      <th></th>\n",
       "      <th>name</th>\n",
       "      <th>changed_lines</th>\n",
       "      <th>username</th>\n",
       "      <th>commit_time</th>\n",
       "    </tr>\n",
       "  </thead>\n",
       "  <tbody>\n",
       "    <tr>\n",
       "      <th>0</th>\n",
       "      <td>utils/net.py</td>\n",
       "      <td>85</td>\n",
       "      <td>bober38</td>\n",
       "      <td>2021/03/12 05:45:02</td>\n",
       "    </tr>\n",
       "    <tr>\n",
       "      <th>1</th>\n",
       "      <td>library/utils.py</td>\n",
       "      <td>36</td>\n",
       "      <td>coder007</td>\n",
       "      <td>2021/03/02 15:01:24</td>\n",
       "    </tr>\n",
       "    <tr>\n",
       "      <th>2</th>\n",
       "      <td>quality/utils.py</td>\n",
       "      <td>38</td>\n",
       "      <td>vanessic</td>\n",
       "      <td>2021/01/22 10:14:08</td>\n",
       "    </tr>\n",
       "    <tr>\n",
       "      <th>3</th>\n",
       "      <td>core/library.py</td>\n",
       "      <td>17</td>\n",
       "      <td>john_snow</td>\n",
       "      <td>2021/01/16 15:21:07</td>\n",
       "    </tr>\n",
       "    <tr>\n",
       "      <th>4</th>\n",
       "      <td>frontend/tools.py</td>\n",
       "      <td>6</td>\n",
       "      <td>john_snow</td>\n",
       "      <td>2021/01/16 15:21:07</td>\n",
       "    </tr>\n",
       "  </tbody>\n",
       "</table>\n",
       "</div>"
      ],
      "text/plain": [
       "                name  changed_lines   username          commit_time\n",
       "0       utils/net.py             85    bober38  2021/03/12 05:45:02\n",
       "1   library/utils.py             36   coder007  2021/03/02 15:01:24\n",
       "2   quality/utils.py             38   vanessic  2021/01/22 10:14:08\n",
       "3    core/library.py             17  john_snow  2021/01/16 15:21:07\n",
       "4  frontend/tools.py              6  john_snow  2021/01/16 15:21:07"
      ]
     },
     "execution_count": 4,
     "metadata": {},
     "output_type": "execute_result"
    }
   ],
   "source": [
    "df = json_normalize(data, 'files', ['username', 'commit_time'])\n",
    "df.head()"
   ]
  },
  {
   "cell_type": "code",
   "execution_count": 5,
   "metadata": {},
   "outputs": [],
   "source": [
    "df['commit_time'] = pd.to_datetime(df['commit_time'])"
   ]
  },
  {
   "cell_type": "code",
   "execution_count": 6,
   "metadata": {},
   "outputs": [
    {
     "data": {
      "text/plain": [
       "username\n",
       "bober38         885\n",
       "coder007        396\n",
       "ivan_ivanov    1473\n",
       "john_snow      1211\n",
       "pet            1896\n",
       "vanessic       1622\n",
       "yegor          1341\n",
       "zeno           1211\n",
       "Name: changed_lines, dtype: int64"
      ]
     },
     "execution_count": 6,
     "metadata": {},
     "output_type": "execute_result"
    }
   ],
   "source": [
    "df.groupby('username')['changed_lines'].sum()"
   ]
  },
  {
   "cell_type": "code",
   "execution_count": 7,
   "metadata": {},
   "outputs": [
    {
     "data": {
      "text/plain": [
       "username\n",
       "bober38        12\n",
       "coder007        7\n",
       "ivan_ivanov    15\n",
       "john_snow      12\n",
       "pet            14\n",
       "vanessic       14\n",
       "yegor          14\n",
       "zeno           12\n",
       "Name: commit_time, dtype: int64"
      ]
     },
     "execution_count": 7,
     "metadata": {},
     "output_type": "execute_result"
    }
   ],
   "source": [
    "df.groupby('username')['commit_time'].nunique()"
   ]
  },
  {
   "cell_type": "code",
   "execution_count": 8,
   "metadata": {},
   "outputs": [
    {
     "data": {
      "text/html": [
       "<div>\n",
       "<style scoped>\n",
       "    .dataframe tbody tr th:only-of-type {\n",
       "        vertical-align: middle;\n",
       "    }\n",
       "\n",
       "    .dataframe tbody tr th {\n",
       "        vertical-align: top;\n",
       "    }\n",
       "\n",
       "    .dataframe thead th {\n",
       "        text-align: right;\n",
       "    }\n",
       "</style>\n",
       "<table border=\"1\" class=\"dataframe\">\n",
       "  <thead>\n",
       "    <tr style=\"text-align: right;\">\n",
       "      <th></th>\n",
       "      <th></th>\n",
       "      <th>commit_time</th>\n",
       "    </tr>\n",
       "    <tr>\n",
       "      <th>name</th>\n",
       "      <th>username</th>\n",
       "      <th></th>\n",
       "    </tr>\n",
       "  </thead>\n",
       "  <tbody>\n",
       "    <tr>\n",
       "      <th rowspan=\"5\" valign=\"top\">backend/library.py</th>\n",
       "      <th>vanessic</th>\n",
       "      <td>2021-01-16 05:58:01</td>\n",
       "    </tr>\n",
       "    <tr>\n",
       "      <th>john_snow</th>\n",
       "      <td>2021-01-18 00:13:13</td>\n",
       "    </tr>\n",
       "    <tr>\n",
       "      <th>yegor</th>\n",
       "      <td>2021-03-13 15:34:49</td>\n",
       "    </tr>\n",
       "    <tr>\n",
       "      <th>ivan_ivanov</th>\n",
       "      <td>2021-03-14 03:24:59</td>\n",
       "    </tr>\n",
       "    <tr>\n",
       "      <th>coder007</th>\n",
       "      <td>2021-03-17 05:24:34</td>\n",
       "    </tr>\n",
       "    <tr>\n",
       "      <th>...</th>\n",
       "      <th>...</th>\n",
       "      <td>...</td>\n",
       "    </tr>\n",
       "    <tr>\n",
       "      <th>utils/tools.py</th>\n",
       "      <th>vanessic</th>\n",
       "      <td>2021-03-15 07:39:18</td>\n",
       "    </tr>\n",
       "    <tr>\n",
       "      <th rowspan=\"4\" valign=\"top\">utils/utils.py</th>\n",
       "      <th>john_snow</th>\n",
       "      <td>2021-01-03 06:01:48</td>\n",
       "    </tr>\n",
       "    <tr>\n",
       "      <th>coder007</th>\n",
       "      <td>2021-01-16 20:52:16</td>\n",
       "    </tr>\n",
       "    <tr>\n",
       "      <th>yegor</th>\n",
       "      <td>2021-02-27 10:56:31</td>\n",
       "    </tr>\n",
       "    <tr>\n",
       "      <th>ivan_ivanov</th>\n",
       "      <td>2021-03-01 11:29:35</td>\n",
       "    </tr>\n",
       "  </tbody>\n",
       "</table>\n",
       "<p>125 rows × 1 columns</p>\n",
       "</div>"
      ],
      "text/plain": [
       "                                       commit_time\n",
       "name               username                       \n",
       "backend/library.py vanessic    2021-01-16 05:58:01\n",
       "                   john_snow   2021-01-18 00:13:13\n",
       "                   yegor       2021-03-13 15:34:49\n",
       "                   ivan_ivanov 2021-03-14 03:24:59\n",
       "                   coder007    2021-03-17 05:24:34\n",
       "...                                            ...\n",
       "utils/tools.py     vanessic    2021-03-15 07:39:18\n",
       "utils/utils.py     john_snow   2021-01-03 06:01:48\n",
       "                   coder007    2021-01-16 20:52:16\n",
       "                   yegor       2021-02-27 10:56:31\n",
       "                   ivan_ivanov 2021-03-01 11:29:35\n",
       "\n",
       "[125 rows x 1 columns]"
      ]
     },
     "execution_count": 8,
     "metadata": {},
     "output_type": "execute_result"
    }
   ],
   "source": [
    "agg = df.groupby(['name', 'username'])[['commit_time']].min().sort_values(['name', 'commit_time'])\n",
    "agg"
   ]
  },
  {
   "cell_type": "code",
   "execution_count": 9,
   "metadata": {},
   "outputs": [],
   "source": [
    "d = {}\n",
    "for file in agg.reset_index()['name'].unique():\n",
    "    d[file] = agg.loc[file].iloc[0].name"
   ]
  },
  {
   "cell_type": "code",
   "execution_count": 10,
   "metadata": {},
   "outputs": [
    {
     "data": {
      "text/plain": [
       "{'bober38': 2,\n",
       " 'coder007': 1,\n",
       " 'ivan_ivanov': 4,\n",
       " 'john_snow': 4,\n",
       " 'pet': 2,\n",
       " 'vanessic': 7,\n",
       " 'yegor': 7,\n",
       " 'zeno': 1}"
      ]
     },
     "execution_count": 10,
     "metadata": {},
     "output_type": "execute_result"
    }
   ],
   "source": [
    "d = pd.DataFrame([d]).T.reset_index().groupby(0).count().to_dict()['index']\n",
    "d"
   ]
  },
  {
   "cell_type": "code",
   "execution_count": 11,
   "metadata": {},
   "outputs": [],
   "source": [
    "df_ = pd.DataFrame([d]).T.reset_index()"
   ]
  },
  {
   "cell_type": "code",
   "execution_count": 12,
   "metadata": {},
   "outputs": [],
   "source": [
    "df_.rename(columns={'index':'username', 0:'new_files'}, inplace=True)"
   ]
  },
  {
   "cell_type": "code",
   "execution_count": 15,
   "metadata": {},
   "outputs": [],
   "source": [
    "df_['changed_lines'] = df.groupby('username')['changed_lines'].sum().values"
   ]
  },
  {
   "cell_type": "code",
   "execution_count": 16,
   "metadata": {},
   "outputs": [],
   "source": [
    "df_['commits'] = df.groupby('username')['commit_time'].nunique().values"
   ]
  },
  {
   "cell_type": "code",
   "execution_count": 17,
   "metadata": {},
   "outputs": [
    {
     "data": {
      "text/html": [
       "<div>\n",
       "<style scoped>\n",
       "    .dataframe tbody tr th:only-of-type {\n",
       "        vertical-align: middle;\n",
       "    }\n",
       "\n",
       "    .dataframe tbody tr th {\n",
       "        vertical-align: top;\n",
       "    }\n",
       "\n",
       "    .dataframe thead th {\n",
       "        text-align: right;\n",
       "    }\n",
       "</style>\n",
       "<table border=\"1\" class=\"dataframe\">\n",
       "  <thead>\n",
       "    <tr style=\"text-align: right;\">\n",
       "      <th></th>\n",
       "      <th>username</th>\n",
       "      <th>new_files</th>\n",
       "      <th>changed_lines</th>\n",
       "      <th>commits</th>\n",
       "    </tr>\n",
       "  </thead>\n",
       "  <tbody>\n",
       "    <tr>\n",
       "      <th>0</th>\n",
       "      <td>bober38</td>\n",
       "      <td>2</td>\n",
       "      <td>885</td>\n",
       "      <td>12</td>\n",
       "    </tr>\n",
       "    <tr>\n",
       "      <th>1</th>\n",
       "      <td>coder007</td>\n",
       "      <td>1</td>\n",
       "      <td>396</td>\n",
       "      <td>7</td>\n",
       "    </tr>\n",
       "    <tr>\n",
       "      <th>2</th>\n",
       "      <td>ivan_ivanov</td>\n",
       "      <td>4</td>\n",
       "      <td>1473</td>\n",
       "      <td>15</td>\n",
       "    </tr>\n",
       "    <tr>\n",
       "      <th>3</th>\n",
       "      <td>john_snow</td>\n",
       "      <td>4</td>\n",
       "      <td>1211</td>\n",
       "      <td>12</td>\n",
       "    </tr>\n",
       "    <tr>\n",
       "      <th>4</th>\n",
       "      <td>pet</td>\n",
       "      <td>2</td>\n",
       "      <td>1896</td>\n",
       "      <td>14</td>\n",
       "    </tr>\n",
       "    <tr>\n",
       "      <th>5</th>\n",
       "      <td>vanessic</td>\n",
       "      <td>7</td>\n",
       "      <td>1622</td>\n",
       "      <td>14</td>\n",
       "    </tr>\n",
       "    <tr>\n",
       "      <th>6</th>\n",
       "      <td>yegor</td>\n",
       "      <td>7</td>\n",
       "      <td>1341</td>\n",
       "      <td>14</td>\n",
       "    </tr>\n",
       "    <tr>\n",
       "      <th>7</th>\n",
       "      <td>zeno</td>\n",
       "      <td>1</td>\n",
       "      <td>1211</td>\n",
       "      <td>12</td>\n",
       "    </tr>\n",
       "  </tbody>\n",
       "</table>\n",
       "</div>"
      ],
      "text/plain": [
       "      username  new_files  changed_lines  commits\n",
       "0      bober38          2            885       12\n",
       "1     coder007          1            396        7\n",
       "2  ivan_ivanov          4           1473       15\n",
       "3    john_snow          4           1211       12\n",
       "4          pet          2           1896       14\n",
       "5     vanessic          7           1622       14\n",
       "6        yegor          7           1341       14\n",
       "7         zeno          1           1211       12"
      ]
     },
     "execution_count": 17,
     "metadata": {},
     "output_type": "execute_result"
    }
   ],
   "source": [
    "df_"
   ]
  },
  {
   "cell_type": "markdown",
   "metadata": {},
   "source": [
    "## Dictionaries"
   ]
  },
  {
   "cell_type": "code",
   "execution_count": 3,
   "metadata": {},
   "outputs": [],
   "source": [
    "from collections import defaultdict\n",
    "import json"
   ]
  },
  {
   "cell_type": "code",
   "execution_count": 4,
   "metadata": {},
   "outputs": [],
   "source": [
    "with open('commits.json', 'r') as f:\n",
    "    data = json.load(f)"
   ]
  },
  {
   "cell_type": "code",
   "execution_count": 6,
   "metadata": {},
   "outputs": [
    {
     "data": {
      "text/plain": [
       "{'username': 'bober38',\n",
       " 'commit_time': '2021/03/12 05:45:02',\n",
       " 'files': [{'name': 'utils/net.py', 'changed_lines': 85}]}"
      ]
     },
     "execution_count": 6,
     "metadata": {},
     "output_type": "execute_result"
    }
   ],
   "source": [
    "data[0]"
   ]
  },
  {
   "cell_type": "code",
   "execution_count": 9,
   "metadata": {},
   "outputs": [
    {
     "data": {
      "text/plain": [
       "85"
      ]
     },
     "execution_count": 9,
     "metadata": {},
     "output_type": "execute_result"
    }
   ],
   "source": [
    "data[0]['files'][0]['changed_lines']"
   ]
  },
  {
   "cell_type": "code",
   "execution_count": 10,
   "metadata": {},
   "outputs": [],
   "source": [
    "data = sorted(data, key=lambda x: pd.to_datetime(x['commit_time']))"
   ]
  },
  {
   "cell_type": "code",
   "execution_count": 12,
   "metadata": {},
   "outputs": [],
   "source": [
    "d = defaultdict(list)"
   ]
  },
  {
   "cell_type": "code",
   "execution_count": 13,
   "metadata": {},
   "outputs": [
    {
     "data": {
      "text/plain": [
       "defaultdict(list, {})"
      ]
     },
     "execution_count": 13,
     "metadata": {},
     "output_type": "execute_result"
    }
   ],
   "source": [
    "d"
   ]
  },
  {
   "cell_type": "code",
   "execution_count": 14,
   "metadata": {},
   "outputs": [
    {
     "data": {
      "text/plain": [
       "[]"
      ]
     },
     "execution_count": 14,
     "metadata": {},
     "output_type": "execute_result"
    }
   ],
   "source": [
    "d[999]"
   ]
  },
  {
   "cell_type": "code",
   "execution_count": 15,
   "metadata": {},
   "outputs": [],
   "source": [
    "d1 = {}"
   ]
  },
  {
   "cell_type": "code",
   "execution_count": 16,
   "metadata": {},
   "outputs": [
    {
     "ename": "KeyError",
     "evalue": "999",
     "output_type": "error",
     "traceback": [
      "\u001b[0;31m---------------------------------------------------------------------------\u001b[0m",
      "\u001b[0;31mKeyError\u001b[0m                                  Traceback (most recent call last)",
      "Input \u001b[0;32mIn [16]\u001b[0m, in \u001b[0;36m<cell line: 1>\u001b[0;34m()\u001b[0m\n\u001b[0;32m----> 1\u001b[0m \u001b[43md1\u001b[49m\u001b[43m[\u001b[49m\u001b[38;5;241;43m999\u001b[39;49m\u001b[43m]\u001b[49m\n",
      "\u001b[0;31mKeyError\u001b[0m: 999"
     ]
    }
   ],
   "source": [
    "d1[999]"
   ]
  },
  {
   "cell_type": "code",
   "execution_count": 17,
   "metadata": {},
   "outputs": [
    {
     "data": {
      "text/plain": [
       "defaultdict(list, {999: []})"
      ]
     },
     "execution_count": 17,
     "metadata": {},
     "output_type": "execute_result"
    }
   ],
   "source": [
    "d"
   ]
  },
  {
   "cell_type": "code",
   "execution_count": 18,
   "metadata": {},
   "outputs": [],
   "source": [
    "d[1].append(12)"
   ]
  },
  {
   "cell_type": "code",
   "execution_count": 19,
   "metadata": {},
   "outputs": [
    {
     "data": {
      "text/plain": [
       "defaultdict(list, {999: [], 1: [12]})"
      ]
     },
     "execution_count": 19,
     "metadata": {},
     "output_type": "execute_result"
    }
   ],
   "source": [
    "d"
   ]
  },
  {
   "cell_type": "code",
   "execution_count": 30,
   "metadata": {},
   "outputs": [],
   "source": [
    "table = defaultdict(lambda: {'commits':0, 'changed_lines':0, 'new_files':0})"
   ]
  },
  {
   "cell_type": "code",
   "execution_count": 31,
   "metadata": {},
   "outputs": [
    {
     "data": {
      "text/plain": [
       "{'commits': 0, 'changed_lines': 0, 'new_files': 0}"
      ]
     },
     "execution_count": 31,
     "metadata": {},
     "output_type": "execute_result"
    }
   ],
   "source": [
    "table['yegor']"
   ]
  },
  {
   "cell_type": "code",
   "execution_count": 32,
   "metadata": {},
   "outputs": [
    {
     "data": {
      "text/plain": [
       "0"
      ]
     },
     "execution_count": 32,
     "metadata": {},
     "output_type": "execute_result"
    }
   ],
   "source": [
    "table['ivan']['new_files']"
   ]
  },
  {
   "cell_type": "code",
   "execution_count": 26,
   "metadata": {},
   "outputs": [
    {
     "data": {
      "text/plain": [
       "defaultdict(<function __main__.<lambda>()>,\n",
       "            {'yegor': {'commits': 0, 'changed_lines': 0, 'new_files': 0}})"
      ]
     },
     "execution_count": 26,
     "metadata": {},
     "output_type": "execute_result"
    }
   ],
   "source": [
    "table"
   ]
  },
  {
   "cell_type": "code",
   "execution_count": 34,
   "metadata": {},
   "outputs": [
    {
     "data": {
      "text/plain": [
       "{'username': 'yegor',\n",
       " 'commit_time': '2021/01/01 03:14:55',\n",
       " 'files': [{'name': 'utils/tools.py', 'changed_lines': 51},\n",
       "  {'name': 'balancer/tools.py', 'changed_lines': 22},\n",
       "  {'name': 'library/utils.py', 'changed_lines': 75}]}"
      ]
     },
     "execution_count": 34,
     "metadata": {},
     "output_type": "execute_result"
    }
   ],
   "source": [
    "data[0]"
   ]
  },
  {
   "cell_type": "code",
   "execution_count": 29,
   "metadata": {},
   "outputs": [
    {
     "data": {
      "text/plain": [
       "'yegor'"
      ]
     },
     "execution_count": 29,
     "metadata": {},
     "output_type": "execute_result"
    }
   ],
   "source": [
    "data[0]['username']"
   ]
  },
  {
   "cell_type": "code",
   "execution_count": 35,
   "metadata": {},
   "outputs": [
    {
     "data": {
      "text/plain": [
       "[{'name': 'utils/tools.py', 'changed_lines': 51},\n",
       " {'name': 'balancer/tools.py', 'changed_lines': 22},\n",
       " {'name': 'library/utils.py', 'changed_lines': 75}]"
      ]
     },
     "execution_count": 35,
     "metadata": {},
     "output_type": "execute_result"
    }
   ],
   "source": [
    "data[0]['files']"
   ]
  },
  {
   "cell_type": "code",
   "execution_count": 36,
   "metadata": {},
   "outputs": [
    {
     "data": {
      "text/plain": [
       "defaultdict(<function __main__.<lambda>()>,\n",
       "            {'yegor': {'commits': 14, 'changed_lines': 1341, 'new_files': 7},\n",
       "             'coder007': {'commits': 7, 'changed_lines': 396, 'new_files': 1},\n",
       "             'bober38': {'commits': 12, 'changed_lines': 885, 'new_files': 2},\n",
       "             'ivan_ivanov': {'commits': 15,\n",
       "              'changed_lines': 1473,\n",
       "              'new_files': 4},\n",
       "             'john_snow': {'commits': 12,\n",
       "              'changed_lines': 1211,\n",
       "              'new_files': 4},\n",
       "             'vanessic': {'commits': 14,\n",
       "              'changed_lines': 1622,\n",
       "              'new_files': 7},\n",
       "             'zeno': {'commits': 12, 'changed_lines': 1211, 'new_files': 1},\n",
       "             'pet': {'commits': 14, 'changed_lines': 1896, 'new_files': 2}})"
      ]
     },
     "execution_count": 36,
     "metadata": {},
     "output_type": "execute_result"
    }
   ],
   "source": [
    "new_files = set()\n",
    "table = defaultdict(lambda: {'commits':0, 'changed_lines':0, 'new_files':0})\n",
    "\n",
    "for commit in data:\n",
    "    user = commit['username']\n",
    "    table[user]['commits'] += 1\n",
    "    for file in commit['files']:\n",
    "        table[user]['changed_lines'] += file['changed_lines']\n",
    "        if file['name'] not in new_files: \n",
    "            new_files.add(file['name'])\n",
    "            table[user]['new_files'] += 1\n",
    "table"
   ]
  },
  {
   "cell_type": "code",
   "execution_count": 37,
   "metadata": {},
   "outputs": [
    {
     "data": {
      "text/html": [
       "<div>\n",
       "<style scoped>\n",
       "    .dataframe tbody tr th:only-of-type {\n",
       "        vertical-align: middle;\n",
       "    }\n",
       "\n",
       "    .dataframe tbody tr th {\n",
       "        vertical-align: top;\n",
       "    }\n",
       "\n",
       "    .dataframe thead th {\n",
       "        text-align: right;\n",
       "    }\n",
       "</style>\n",
       "<table border=\"1\" class=\"dataframe\">\n",
       "  <thead>\n",
       "    <tr style=\"text-align: right;\">\n",
       "      <th></th>\n",
       "      <th>index</th>\n",
       "      <th>commits</th>\n",
       "      <th>changed_lines</th>\n",
       "      <th>new_files</th>\n",
       "    </tr>\n",
       "  </thead>\n",
       "  <tbody>\n",
       "    <tr>\n",
       "      <th>2</th>\n",
       "      <td>bober38</td>\n",
       "      <td>12</td>\n",
       "      <td>885</td>\n",
       "      <td>2</td>\n",
       "    </tr>\n",
       "    <tr>\n",
       "      <th>1</th>\n",
       "      <td>coder007</td>\n",
       "      <td>7</td>\n",
       "      <td>396</td>\n",
       "      <td>1</td>\n",
       "    </tr>\n",
       "    <tr>\n",
       "      <th>3</th>\n",
       "      <td>ivan_ivanov</td>\n",
       "      <td>15</td>\n",
       "      <td>1473</td>\n",
       "      <td>4</td>\n",
       "    </tr>\n",
       "    <tr>\n",
       "      <th>4</th>\n",
       "      <td>john_snow</td>\n",
       "      <td>12</td>\n",
       "      <td>1211</td>\n",
       "      <td>4</td>\n",
       "    </tr>\n",
       "    <tr>\n",
       "      <th>7</th>\n",
       "      <td>pet</td>\n",
       "      <td>14</td>\n",
       "      <td>1896</td>\n",
       "      <td>2</td>\n",
       "    </tr>\n",
       "    <tr>\n",
       "      <th>5</th>\n",
       "      <td>vanessic</td>\n",
       "      <td>14</td>\n",
       "      <td>1622</td>\n",
       "      <td>7</td>\n",
       "    </tr>\n",
       "    <tr>\n",
       "      <th>0</th>\n",
       "      <td>yegor</td>\n",
       "      <td>14</td>\n",
       "      <td>1341</td>\n",
       "      <td>7</td>\n",
       "    </tr>\n",
       "    <tr>\n",
       "      <th>6</th>\n",
       "      <td>zeno</td>\n",
       "      <td>12</td>\n",
       "      <td>1211</td>\n",
       "      <td>1</td>\n",
       "    </tr>\n",
       "  </tbody>\n",
       "</table>\n",
       "</div>"
      ],
      "text/plain": [
       "         index  commits  changed_lines  new_files\n",
       "2      bober38       12            885          2\n",
       "1     coder007        7            396          1\n",
       "3  ivan_ivanov       15           1473          4\n",
       "4    john_snow       12           1211          4\n",
       "7          pet       14           1896          2\n",
       "5     vanessic       14           1622          7\n",
       "0        yegor       14           1341          7\n",
       "6         zeno       12           1211          1"
      ]
     },
     "execution_count": 37,
     "metadata": {},
     "output_type": "execute_result"
    }
   ],
   "source": [
    "pd.DataFrame(table).T.reset_index().sort_values(by='index')"
   ]
  }
 ],
 "metadata": {
  "kernelspec": {
   "display_name": "Python 3 (ipykernel)",
   "language": "python",
   "name": "python3"
  },
  "language_info": {
   "codemirror_mode": {
    "name": "ipython",
    "version": 3
   },
   "file_extension": ".py",
   "mimetype": "text/x-python",
   "name": "python",
   "nbconvert_exporter": "python",
   "pygments_lexer": "ipython3",
   "version": "3.10.2"
  },
  "toc": {
   "base_numbering": 1,
   "nav_menu": {},
   "number_sections": true,
   "sideBar": true,
   "skip_h1_title": false,
   "title_cell": "Table of Contents",
   "title_sidebar": "Contents",
   "toc_cell": false,
   "toc_position": {
    "height": "calc(100% - 180px)",
    "left": "10px",
    "top": "150px",
    "width": "268.8px"
   },
   "toc_section_display": true,
   "toc_window_display": false
  },
  "varInspector": {
   "cols": {
    "lenName": 16,
    "lenType": 16,
    "lenVar": 40
   },
   "kernels_config": {
    "python": {
     "delete_cmd_postfix": "",
     "delete_cmd_prefix": "del ",
     "library": "var_list.py",
     "varRefreshCmd": "print(var_dic_list())"
    },
    "r": {
     "delete_cmd_postfix": ") ",
     "delete_cmd_prefix": "rm(",
     "library": "var_list.r",
     "varRefreshCmd": "cat(var_dic_list()) "
    }
   },
   "types_to_exclude": [
    "module",
    "function",
    "builtin_function_or_method",
    "instance",
    "_Feature"
   ],
   "window_display": false
  }
 },
 "nbformat": 4,
 "nbformat_minor": 4
}
