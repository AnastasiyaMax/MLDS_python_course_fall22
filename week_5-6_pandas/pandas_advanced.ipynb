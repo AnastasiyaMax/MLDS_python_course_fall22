{
 "cells": [
  {
   "cell_type": "markdown",
   "id": "553f598a",
   "metadata": {},
   "source": [
    "# Pandas: exploratory data analysis"
   ]
  },
  {
   "cell_type": "markdown",
   "id": "09da7cf6",
   "metadata": {},
   "source": [
    "### План:\n",
    "* Соединения таблиц\n",
    "* Типы переменных\n",
    "* Работа с категориальными переменными\n",
    "* Работа с датой и временем\n",
    "* Пропущенные значения\n",
    "* Обнаружение аномалий"
   ]
  },
  {
   "cell_type": "markdown",
   "id": "2d406228",
   "metadata": {},
   "source": [
    "Также по ходу знакомимся с визуализацией, но подробнее об этом на следующей паре"
   ]
  },
  {
   "cell_type": "code",
   "execution_count": 1,
   "id": "2ae6a9c9",
   "metadata": {},
   "outputs": [],
   "source": [
    "import numpy as np         # библиотека для матриц и математики\n",
    "import pandas as pd        # библиотека для работы с табличками\n",
    "from scipy import stats    # модуль для работы со статистикой\n",
    "\n",
    "# библиотеки для визуализации\n",
    "import matplotlib.pyplot as plt\n",
    "import seaborn as sns\n",
    "\n",
    "plt.style.use('ggplot')    # стиль графиков\n",
    "%matplotlib inline "
   ]
  },
  {
   "cell_type": "markdown",
   "id": "a9d6c574",
   "metadata": {},
   "source": [
    "## Соединения таблиц"
   ]
  },
  {
   "cell_type": "markdown",
   "id": "ed254748",
   "metadata": {},
   "source": [
    "Часто хранить информацию в одной таблице бывает довольно неудобно. Когда у вас очень крупная IT-компания, данных настолько много, что если их добавить в одну таблицу, работать с ней будет очень неэффективно по времени и памяти. Поэтому информацию кладут в кучу разных таблиц, а над ними строят специальные *отношения* - так называемые колонки, по которым можно эти таблицы объединять. \n",
    "\n",
    "Пример устройства такой структуры хранения данных:\n",
    "\n",
    "<center>\n",
    "<img src=\"https://progi.pro/media/main/82/d3/34/82d334f5b4b49d424a2460e796a30cd5.png\" height=\"200\" width=\"600\">\n",
    "</center>   "
   ]
  },
  {
   "cell_type": "markdown",
   "id": "ae6fad6a",
   "metadata": {},
   "source": [
    "### 1. Join"
   ]
  },
  {
   "cell_type": "markdown",
   "id": "532e6631",
   "metadata": {},
   "source": [
    "<center>\n",
    "<img src=\"https://community.qlik.com/legacyfs/online/87693_all-joins.png\" height=\"400\" width=\"400\">\n",
    "</center>"
   ]
  },
  {
   "cell_type": "code",
   "execution_count": 7,
   "id": "20cd860b",
   "metadata": {},
   "outputs": [
    {
     "data": {
      "text/html": [
       "<div>\n",
       "<style scoped>\n",
       "    .dataframe tbody tr th:only-of-type {\n",
       "        vertical-align: middle;\n",
       "    }\n",
       "\n",
       "    .dataframe tbody tr th {\n",
       "        vertical-align: top;\n",
       "    }\n",
       "\n",
       "    .dataframe thead th {\n",
       "        text-align: right;\n",
       "    }\n",
       "</style>\n",
       "<table border=\"1\" class=\"dataframe\">\n",
       "  <thead>\n",
       "    <tr style=\"text-align: right;\">\n",
       "      <th></th>\n",
       "      <th>Student</th>\n",
       "      <th>group</th>\n",
       "    </tr>\n",
       "  </thead>\n",
       "  <tbody>\n",
       "    <tr>\n",
       "      <th>0</th>\n",
       "      <td>Tom</td>\n",
       "      <td>01</td>\n",
       "    </tr>\n",
       "    <tr>\n",
       "      <th>1</th>\n",
       "      <td>Ujin</td>\n",
       "      <td>02</td>\n",
       "    </tr>\n",
       "    <tr>\n",
       "      <th>2</th>\n",
       "      <td>Ann</td>\n",
       "      <td>02</td>\n",
       "    </tr>\n",
       "    <tr>\n",
       "      <th>3</th>\n",
       "      <td>Polina</td>\n",
       "      <td>01</td>\n",
       "    </tr>\n",
       "    <tr>\n",
       "      <th>4</th>\n",
       "      <td>Sam</td>\n",
       "      <td>02</td>\n",
       "    </tr>\n",
       "  </tbody>\n",
       "</table>\n",
       "</div>"
      ],
      "text/plain": [
       "  Student group\n",
       "0     Tom    01\n",
       "1    Ujin    02\n",
       "2     Ann    02\n",
       "3  Polina    01\n",
       "4     Sam    02"
      ]
     },
     "metadata": {},
     "output_type": "display_data"
    },
    {
     "data": {
      "text/html": [
       "<div>\n",
       "<style scoped>\n",
       "    .dataframe tbody tr th:only-of-type {\n",
       "        vertical-align: middle;\n",
       "    }\n",
       "\n",
       "    .dataframe tbody tr th {\n",
       "        vertical-align: top;\n",
       "    }\n",
       "\n",
       "    .dataframe thead th {\n",
       "        text-align: right;\n",
       "    }\n",
       "</style>\n",
       "<table border=\"1\" class=\"dataframe\">\n",
       "  <thead>\n",
       "    <tr style=\"text-align: right;\">\n",
       "      <th></th>\n",
       "      <th>Name</th>\n",
       "      <th>GPA</th>\n",
       "    </tr>\n",
       "  </thead>\n",
       "  <tbody>\n",
       "    <tr>\n",
       "      <th>0</th>\n",
       "      <td>Tom</td>\n",
       "      <td>7.8</td>\n",
       "    </tr>\n",
       "    <tr>\n",
       "      <th>1</th>\n",
       "      <td>Ujin</td>\n",
       "      <td>6.4</td>\n",
       "    </tr>\n",
       "    <tr>\n",
       "      <th>2</th>\n",
       "      <td>Ann</td>\n",
       "      <td>8.3</td>\n",
       "    </tr>\n",
       "    <tr>\n",
       "      <th>3</th>\n",
       "      <td>Polina</td>\n",
       "      <td>9</td>\n",
       "    </tr>\n",
       "    <tr>\n",
       "      <th>4</th>\n",
       "      <td>Kit</td>\n",
       "      <td>10</td>\n",
       "    </tr>\n",
       "  </tbody>\n",
       "</table>\n",
       "</div>"
      ],
      "text/plain": [
       "     Name  GPA\n",
       "0     Tom  7.8\n",
       "1    Ujin  6.4\n",
       "2     Ann  8.3\n",
       "3  Polina    9\n",
       "4     Kit   10"
      ]
     },
     "metadata": {},
     "output_type": "display_data"
    }
   ],
   "source": [
    "df1 = pd.DataFrame({'Student': ['Tom', 'Ujin', 'Ann', 'Polina','Sam'],\n",
    "                    'group': ['01', '02', '02', '01','02']})\n",
    "df2 = pd.DataFrame({'Name': ['Tom', 'Ujin', 'Ann', 'Polina', 'Kit'],\n",
    "                    'GPA': ['7.8', '6.4', '8.3', '9', '10']})\n",
    "display(df1, df2)"
   ]
  },
  {
   "cell_type": "code",
   "execution_count": 9,
   "id": "0817710e",
   "metadata": {},
   "outputs": [
    {
     "data": {
      "text/html": [
       "<div>\n",
       "<style scoped>\n",
       "    .dataframe tbody tr th:only-of-type {\n",
       "        vertical-align: middle;\n",
       "    }\n",
       "\n",
       "    .dataframe tbody tr th {\n",
       "        vertical-align: top;\n",
       "    }\n",
       "\n",
       "    .dataframe thead th {\n",
       "        text-align: right;\n",
       "    }\n",
       "</style>\n",
       "<table border=\"1\" class=\"dataframe\">\n",
       "  <thead>\n",
       "    <tr style=\"text-align: right;\">\n",
       "      <th></th>\n",
       "      <th>Student</th>\n",
       "      <th>group</th>\n",
       "      <th>Name</th>\n",
       "      <th>GPA</th>\n",
       "    </tr>\n",
       "  </thead>\n",
       "  <tbody>\n",
       "    <tr>\n",
       "      <th>0</th>\n",
       "      <td>Tom</td>\n",
       "      <td>01</td>\n",
       "      <td>Tom</td>\n",
       "      <td>7.8</td>\n",
       "    </tr>\n",
       "    <tr>\n",
       "      <th>1</th>\n",
       "      <td>Ujin</td>\n",
       "      <td>02</td>\n",
       "      <td>Ujin</td>\n",
       "      <td>6.4</td>\n",
       "    </tr>\n",
       "    <tr>\n",
       "      <th>2</th>\n",
       "      <td>Ann</td>\n",
       "      <td>02</td>\n",
       "      <td>Ann</td>\n",
       "      <td>8.3</td>\n",
       "    </tr>\n",
       "    <tr>\n",
       "      <th>3</th>\n",
       "      <td>Polina</td>\n",
       "      <td>01</td>\n",
       "      <td>Polina</td>\n",
       "      <td>9</td>\n",
       "    </tr>\n",
       "    <tr>\n",
       "      <th>4</th>\n",
       "      <td>NaN</td>\n",
       "      <td>NaN</td>\n",
       "      <td>Kit</td>\n",
       "      <td>10</td>\n",
       "    </tr>\n",
       "  </tbody>\n",
       "</table>\n",
       "</div>"
      ],
      "text/plain": [
       "  Student group    Name  GPA\n",
       "0     Tom    01     Tom  7.8\n",
       "1    Ujin    02    Ujin  6.4\n",
       "2     Ann    02     Ann  8.3\n",
       "3  Polina    01  Polina    9\n",
       "4     NaN   NaN     Kit   10"
      ]
     },
     "execution_count": 9,
     "metadata": {},
     "output_type": "execute_result"
    }
   ],
   "source": [
    "# right join\n",
    "pd.merge(df1, df2, left_on='Student', right_on='Name', how='right')"
   ]
  },
  {
   "cell_type": "code",
   "execution_count": null,
   "id": "f8902ac2",
   "metadata": {},
   "outputs": [],
   "source": []
  },
  {
   "cell_type": "code",
   "execution_count": 5,
   "id": "ff7402ab",
   "metadata": {},
   "outputs": [
    {
     "data": {
      "text/html": [
       "<div>\n",
       "<style scoped>\n",
       "    .dataframe tbody tr th:only-of-type {\n",
       "        vertical-align: middle;\n",
       "    }\n",
       "\n",
       "    .dataframe tbody tr th {\n",
       "        vertical-align: top;\n",
       "    }\n",
       "\n",
       "    .dataframe thead th {\n",
       "        text-align: right;\n",
       "    }\n",
       "</style>\n",
       "<table border=\"1\" class=\"dataframe\">\n",
       "  <thead>\n",
       "    <tr style=\"text-align: right;\">\n",
       "      <th></th>\n",
       "      <th>Student</th>\n",
       "      <th>group</th>\n",
       "      <th>Name</th>\n",
       "      <th>GPA</th>\n",
       "    </tr>\n",
       "  </thead>\n",
       "  <tbody>\n",
       "    <tr>\n",
       "      <th>0</th>\n",
       "      <td>Tom</td>\n",
       "      <td>01</td>\n",
       "      <td>Tom</td>\n",
       "      <td>7.8</td>\n",
       "    </tr>\n",
       "    <tr>\n",
       "      <th>1</th>\n",
       "      <td>Ujin</td>\n",
       "      <td>02</td>\n",
       "      <td>Ujin</td>\n",
       "      <td>6.4</td>\n",
       "    </tr>\n",
       "    <tr>\n",
       "      <th>2</th>\n",
       "      <td>Ann</td>\n",
       "      <td>02</td>\n",
       "      <td>Ann</td>\n",
       "      <td>8.3</td>\n",
       "    </tr>\n",
       "    <tr>\n",
       "      <th>3</th>\n",
       "      <td>Polina</td>\n",
       "      <td>01</td>\n",
       "      <td>Polina</td>\n",
       "      <td>9</td>\n",
       "    </tr>\n",
       "    <tr>\n",
       "      <th>4</th>\n",
       "      <td>Sam</td>\n",
       "      <td>02</td>\n",
       "      <td>NaN</td>\n",
       "      <td>NaN</td>\n",
       "    </tr>\n",
       "    <tr>\n",
       "      <th>5</th>\n",
       "      <td>NaN</td>\n",
       "      <td>NaN</td>\n",
       "      <td>Kit</td>\n",
       "      <td>10</td>\n",
       "    </tr>\n",
       "  </tbody>\n",
       "</table>\n",
       "</div>"
      ],
      "text/plain": [
       "  Student group    Name  GPA\n",
       "0     Tom    01     Tom  7.8\n",
       "1    Ujin    02    Ujin  6.4\n",
       "2     Ann    02     Ann  8.3\n",
       "3  Polina    01  Polina    9\n",
       "4     Sam    02     NaN  NaN\n",
       "5     NaN   NaN     Kit   10"
      ]
     },
     "execution_count": 5,
     "metadata": {},
     "output_type": "execute_result"
    }
   ],
   "source": [
    "# outer join\n",
    "pd.merge(df1, df2, left_on='Student', right_on='Name', how='outer')"
   ]
  },
  {
   "cell_type": "code",
   "execution_count": 4,
   "id": "ecca4f8d",
   "metadata": {},
   "outputs": [
    {
     "data": {
      "text/html": [
       "<div>\n",
       "<style scoped>\n",
       "    .dataframe tbody tr th:only-of-type {\n",
       "        vertical-align: middle;\n",
       "    }\n",
       "\n",
       "    .dataframe tbody tr th {\n",
       "        vertical-align: top;\n",
       "    }\n",
       "\n",
       "    .dataframe thead th {\n",
       "        text-align: right;\n",
       "    }\n",
       "</style>\n",
       "<table border=\"1\" class=\"dataframe\">\n",
       "  <thead>\n",
       "    <tr style=\"text-align: right;\">\n",
       "      <th></th>\n",
       "      <th>Student</th>\n",
       "      <th>group</th>\n",
       "      <th>Name</th>\n",
       "      <th>GPA</th>\n",
       "    </tr>\n",
       "  </thead>\n",
       "  <tbody>\n",
       "    <tr>\n",
       "      <th>0</th>\n",
       "      <td>Tom</td>\n",
       "      <td>01</td>\n",
       "      <td>Tom</td>\n",
       "      <td>7.8</td>\n",
       "    </tr>\n",
       "    <tr>\n",
       "      <th>1</th>\n",
       "      <td>Ujin</td>\n",
       "      <td>02</td>\n",
       "      <td>Ujin</td>\n",
       "      <td>6.4</td>\n",
       "    </tr>\n",
       "    <tr>\n",
       "      <th>2</th>\n",
       "      <td>Ann</td>\n",
       "      <td>02</td>\n",
       "      <td>Ann</td>\n",
       "      <td>8.3</td>\n",
       "    </tr>\n",
       "    <tr>\n",
       "      <th>3</th>\n",
       "      <td>Polina</td>\n",
       "      <td>01</td>\n",
       "      <td>Polina</td>\n",
       "      <td>9</td>\n",
       "    </tr>\n",
       "    <tr>\n",
       "      <th>4</th>\n",
       "      <td>Sam</td>\n",
       "      <td>02</td>\n",
       "      <td>NaN</td>\n",
       "      <td>NaN</td>\n",
       "    </tr>\n",
       "  </tbody>\n",
       "</table>\n",
       "</div>"
      ],
      "text/plain": [
       "  Student group    Name  GPA\n",
       "0     Tom    01     Tom  7.8\n",
       "1    Ujin    02    Ujin  6.4\n",
       "2     Ann    02     Ann  8.3\n",
       "3  Polina    01  Polina    9\n",
       "4     Sam    02     NaN  NaN"
      ]
     },
     "execution_count": 4,
     "metadata": {},
     "output_type": "execute_result"
    }
   ],
   "source": [
    "# left join - оставляем все, что в левой таблице\n",
    "pd.merge(df1, df2, left_on='Student', right_on='Name', how='left')"
   ]
  },
  {
   "cell_type": "code",
   "execution_count": 8,
   "id": "7047e46c",
   "metadata": {},
   "outputs": [
    {
     "data": {
      "text/html": [
       "<div>\n",
       "<style scoped>\n",
       "    .dataframe tbody tr th:only-of-type {\n",
       "        vertical-align: middle;\n",
       "    }\n",
       "\n",
       "    .dataframe tbody tr th {\n",
       "        vertical-align: top;\n",
       "    }\n",
       "\n",
       "    .dataframe thead th {\n",
       "        text-align: right;\n",
       "    }\n",
       "</style>\n",
       "<table border=\"1\" class=\"dataframe\">\n",
       "  <thead>\n",
       "    <tr style=\"text-align: right;\">\n",
       "      <th></th>\n",
       "      <th>Student</th>\n",
       "      <th>group</th>\n",
       "      <th>Name</th>\n",
       "      <th>GPA</th>\n",
       "    </tr>\n",
       "  </thead>\n",
       "  <tbody>\n",
       "    <tr>\n",
       "      <th>0</th>\n",
       "      <td>Tom</td>\n",
       "      <td>01</td>\n",
       "      <td>Tom</td>\n",
       "      <td>7.8</td>\n",
       "    </tr>\n",
       "    <tr>\n",
       "      <th>1</th>\n",
       "      <td>Ujin</td>\n",
       "      <td>02</td>\n",
       "      <td>Ujin</td>\n",
       "      <td>6.4</td>\n",
       "    </tr>\n",
       "    <tr>\n",
       "      <th>2</th>\n",
       "      <td>Ann</td>\n",
       "      <td>02</td>\n",
       "      <td>Ann</td>\n",
       "      <td>8.3</td>\n",
       "    </tr>\n",
       "    <tr>\n",
       "      <th>3</th>\n",
       "      <td>Polina</td>\n",
       "      <td>01</td>\n",
       "      <td>Polina</td>\n",
       "      <td>9</td>\n",
       "    </tr>\n",
       "  </tbody>\n",
       "</table>\n",
       "</div>"
      ],
      "text/plain": [
       "  Student group    Name  GPA\n",
       "0     Tom    01     Tom  7.8\n",
       "1    Ujin    02    Ujin  6.4\n",
       "2     Ann    02     Ann  8.3\n",
       "3  Polina    01  Polina    9"
      ]
     },
     "execution_count": 8,
     "metadata": {},
     "output_type": "execute_result"
    }
   ],
   "source": [
    "# inner join по умолчанию \n",
    "pd.merge(df1, df2, left_on='Student', right_on='Name')"
   ]
  },
  {
   "cell_type": "markdown",
   "id": "6ea7a1af",
   "metadata": {},
   "source": [
    "### 2. Конкатенация строк"
   ]
  },
  {
   "cell_type": "code",
   "execution_count": 11,
   "id": "d0010eee",
   "metadata": {},
   "outputs": [
    {
     "data": {
      "text/html": [
       "<div>\n",
       "<style scoped>\n",
       "    .dataframe tbody tr th:only-of-type {\n",
       "        vertical-align: middle;\n",
       "    }\n",
       "\n",
       "    .dataframe tbody tr th {\n",
       "        vertical-align: top;\n",
       "    }\n",
       "\n",
       "    .dataframe thead th {\n",
       "        text-align: right;\n",
       "    }\n",
       "</style>\n",
       "<table border=\"1\" class=\"dataframe\">\n",
       "  <thead>\n",
       "    <tr style=\"text-align: right;\">\n",
       "      <th></th>\n",
       "      <th>name</th>\n",
       "      <th>students</th>\n",
       "    </tr>\n",
       "  </thead>\n",
       "  <tbody>\n",
       "    <tr>\n",
       "      <th>0</th>\n",
       "      <td>Max</td>\n",
       "      <td>20</td>\n",
       "    </tr>\n",
       "    <tr>\n",
       "      <th>1</th>\n",
       "      <td>Phil</td>\n",
       "      <td>21</td>\n",
       "    </tr>\n",
       "    <tr>\n",
       "      <th>2</th>\n",
       "      <td>Vlad</td>\n",
       "      <td>30</td>\n",
       "    </tr>\n",
       "    <tr>\n",
       "      <th>3</th>\n",
       "      <td>Nastya</td>\n",
       "      <td>42</td>\n",
       "    </tr>\n",
       "  </tbody>\n",
       "</table>\n",
       "</div>"
      ],
      "text/plain": [
       "     name  students\n",
       "0     Max        20\n",
       "1    Phil        21\n",
       "2    Vlad        30\n",
       "3  Nastya        42"
      ]
     },
     "metadata": {},
     "output_type": "display_data"
    },
    {
     "data": {
      "text/html": [
       "<div>\n",
       "<style scoped>\n",
       "    .dataframe tbody tr th:only-of-type {\n",
       "        vertical-align: middle;\n",
       "    }\n",
       "\n",
       "    .dataframe tbody tr th {\n",
       "        vertical-align: top;\n",
       "    }\n",
       "\n",
       "    .dataframe thead th {\n",
       "        text-align: right;\n",
       "    }\n",
       "</style>\n",
       "<table border=\"1\" class=\"dataframe\">\n",
       "  <thead>\n",
       "    <tr style=\"text-align: right;\">\n",
       "      <th></th>\n",
       "      <th>name</th>\n",
       "      <th>students</th>\n",
       "    </tr>\n",
       "  </thead>\n",
       "  <tbody>\n",
       "    <tr>\n",
       "      <th>0</th>\n",
       "      <td>Ahmed</td>\n",
       "      <td>50</td>\n",
       "    </tr>\n",
       "    <tr>\n",
       "      <th>1</th>\n",
       "      <td>Andrey</td>\n",
       "      <td>40</td>\n",
       "    </tr>\n",
       "  </tbody>\n",
       "</table>\n",
       "</div>"
      ],
      "text/plain": [
       "     name  students\n",
       "0   Ahmed        50\n",
       "1  Andrey        40"
      ]
     },
     "metadata": {},
     "output_type": "display_data"
    }
   ],
   "source": [
    "df1 = pd.DataFrame({'name': ['Max', 'Phil', 'Vlad', 'Nastya'], 'students': [20, 21, 30, 42]})\n",
    "df2 = pd.DataFrame({'name': ['Ahmed', 'Andrey'], 'students': [50, 40]})\n",
    "\n",
    "display(df1, df2)"
   ]
  },
  {
   "cell_type": "code",
   "execution_count": 14,
   "id": "be1f37a0",
   "metadata": {},
   "outputs": [
    {
     "data": {
      "text/html": [
       "<div>\n",
       "<style scoped>\n",
       "    .dataframe tbody tr th:only-of-type {\n",
       "        vertical-align: middle;\n",
       "    }\n",
       "\n",
       "    .dataframe tbody tr th {\n",
       "        vertical-align: top;\n",
       "    }\n",
       "\n",
       "    .dataframe thead th {\n",
       "        text-align: right;\n",
       "    }\n",
       "</style>\n",
       "<table border=\"1\" class=\"dataframe\">\n",
       "  <thead>\n",
       "    <tr style=\"text-align: right;\">\n",
       "      <th></th>\n",
       "      <th>name</th>\n",
       "      <th>students</th>\n",
       "    </tr>\n",
       "  </thead>\n",
       "  <tbody>\n",
       "    <tr>\n",
       "      <th>0</th>\n",
       "      <td>Max</td>\n",
       "      <td>20</td>\n",
       "    </tr>\n",
       "    <tr>\n",
       "      <th>1</th>\n",
       "      <td>Phil</td>\n",
       "      <td>21</td>\n",
       "    </tr>\n",
       "    <tr>\n",
       "      <th>2</th>\n",
       "      <td>Vlad</td>\n",
       "      <td>30</td>\n",
       "    </tr>\n",
       "    <tr>\n",
       "      <th>3</th>\n",
       "      <td>Nastya</td>\n",
       "      <td>42</td>\n",
       "    </tr>\n",
       "    <tr>\n",
       "      <th>4</th>\n",
       "      <td>Ahmed</td>\n",
       "      <td>50</td>\n",
       "    </tr>\n",
       "    <tr>\n",
       "      <th>5</th>\n",
       "      <td>Andrey</td>\n",
       "      <td>40</td>\n",
       "    </tr>\n",
       "  </tbody>\n",
       "</table>\n",
       "</div>"
      ],
      "text/plain": [
       "     name  students\n",
       "0     Max        20\n",
       "1    Phil        21\n",
       "2    Vlad        30\n",
       "3  Nastya        42\n",
       "4   Ahmed        50\n",
       "5  Andrey        40"
      ]
     },
     "execution_count": 14,
     "metadata": {},
     "output_type": "execute_result"
    }
   ],
   "source": [
    "pd.concat([df1, df2]).reset_index(drop=True)"
   ]
  },
  {
   "cell_type": "markdown",
   "id": "fe987d69",
   "metadata": {},
   "source": [
    "### Пример на клипах по ютубу"
   ]
  },
  {
   "cell_type": "markdown",
   "id": "ba3ea7a5",
   "metadata": {},
   "source": [
    "Работать в дальнейшем будем с базой данных, содержащей информацию о клипах ютуба. В базе несколько таблиц, между которыми выстроены соединения. Структура выглядит таким образом:  \n",
    "\n"
   ]
  },
  {
   "cell_type": "markdown",
   "id": "28b84974",
   "metadata": {},
   "source": [
    "<center>\n",
    "<img src=\"https://github.com/hse-econ-data-science/dap_2021_spring/blob/main/sem09_pandas/images/struct.png?raw=true\" height=\"500\" width=\"500\">\n",
    "</center>"
   ]
  },
  {
   "cell_type": "markdown",
   "id": "854f5741",
   "metadata": {},
   "source": [
    "__Описание колонок:__\n",
    "\n",
    "* `id_title` $-$ уникальный id названия видео\n",
    "* `id_music_style` $-$ уникальный id жанра\n",
    "* `id_performer` $-$ уникальный id исполнителя\n",
    "* `title` $-$ название видео\n",
    "* `commentCount` $-$ число комментариев\n",
    "* `dislikeCount` $-$ число дизлайков\n",
    "* `likeCount` $-$ число лайков\n",
    "* `music_style` $-$ музыкальный стиль\n",
    "* `performer` $-$ исполнитель\n",
    "* `viewCount` $-$ число просмотров\n",
    "* `commentators_uniq` $-$ число уникальных комментаторов\n",
    "* `comments_obscene_cnt` $-$ число негативных комментариев\n",
    "* `video_age` $-$ возраст видео в днях (на момент '2019-03-15')"
   ]
  },
  {
   "cell_type": "code",
   "execution_count": 2,
   "id": "71d8b495",
   "metadata": {},
   "outputs": [],
   "source": [
    "# подгрузим все таблицы\n",
    "df_perf = pd.read_csv('data/performer_table.csv', sep=';')\n",
    "df_title = pd.read_csv('data/title_table.csv', sep=';')\n",
    "df_genre = pd.read_csv('data/music_style_table.csv', sep=';')\n",
    "\n",
    "df_stat = pd.read_csv('data/title_stat_table.csv', sep=';')"
   ]
  },
  {
   "cell_type": "markdown",
   "id": "48a8a512",
   "metadata": {},
   "source": [
    "### Задача №1:\n",
    "\n",
    "Какой исполнитель получает больше всего хейта? (хейт определяется числом негативных комментариев) "
   ]
  },
  {
   "cell_type": "code",
   "execution_count": 33,
   "id": "89bb27ff",
   "metadata": {},
   "outputs": [
    {
     "data": {
      "text/plain": [
       "17499    100020\n",
       "Name: id_performer, dtype: int64"
      ]
     },
     "execution_count": 33,
     "metadata": {},
     "output_type": "execute_result"
    }
   ],
   "source": [
    "id_ = df_stat[df_stat['comments_obscene_cnt'] == df_stat['comments_obscene_cnt'].max()]['id_performer']\n",
    "id_"
   ]
  },
  {
   "cell_type": "code",
   "execution_count": 38,
   "id": "a8ca6d4d",
   "metadata": {},
   "outputs": [
    {
     "data": {
      "text/plain": [
       "29    gazgolder\n",
       "Name: performer, dtype: object"
      ]
     },
     "execution_count": 38,
     "metadata": {},
     "output_type": "execute_result"
    }
   ],
   "source": [
    "df_perf[df_perf['id_performer'] == 100020]['performer']"
   ]
  },
  {
   "cell_type": "code",
   "execution_count": 42,
   "id": "bd4e0c04",
   "metadata": {},
   "outputs": [
    {
     "data": {
      "text/plain": [
       "17499    gazgolder\n",
       "Name: performer, dtype: object"
      ]
     },
     "execution_count": 42,
     "metadata": {},
     "output_type": "execute_result"
    }
   ],
   "source": [
    "merged_df = pd.merge(df_stat, df_perf, on='id_performer')\n",
    "merged_df[merged_df['comments_obscene_cnt'] == merged_df['comments_obscene_cnt'].max()]['performer']"
   ]
  },
  {
   "cell_type": "markdown",
   "id": "02b4ae99",
   "metadata": {},
   "source": [
    "### Задача №2:\n",
    "\n",
    "Для каждого жанра выведите число просмотров самого популярного клипа? Кто его исполнитель? Как называется клип?"
   ]
  },
  {
   "cell_type": "code",
   "execution_count": 47,
   "id": "b99a038f",
   "metadata": {},
   "outputs": [],
   "source": [
    "## Ваш код"
   ]
  },
  {
   "cell_type": "markdown",
   "id": "b045d666",
   "metadata": {},
   "source": [
    "## Типы переменных"
   ]
  },
  {
   "cell_type": "markdown",
   "id": "f55991b2",
   "metadata": {},
   "source": [
    "__Классификация переменных по типу данных:__  \n",
    "\n",
    "* `int` $-$ числовой, целые числа (1000, 0, -1)\n",
    "* `float` $-$ числовой, вещественные числа (1.0, 2.564523)\n",
    "* `object` $-$ строковый (бутырка, JPMorgan, f12aaz//)\n",
    "* `bool` $-$ булевский (True, False)\n",
    "* `datetime` $-$ дата (2020-01-12, 23.Jan.20)\n",
    "\n",
    "\n",
    "__Классификация переменных по смыслу:__  \n",
    "\n",
    "* `Непрерывные` $-$ содержат непрерывное множество значений на каком-то промежутке (з/п, рост человека, вес буханки хлеба и тд)\n",
    "* `Категориальные` $-$ содержат конечное небольшое множество значений (возраст детей, тип магазина)\n",
    "* `Бинарные` $-$ подтип категориальной переменной, имеющей только 2 категории (пол, столицы двух стран)"
   ]
  },
  {
   "cell_type": "code",
   "execution_count": 3,
   "id": "5e0a1003",
   "metadata": {},
   "outputs": [],
   "source": [
    "df = pd.read_csv('data/youtube_data_short.csv', sep='\\t')"
   ]
  },
  {
   "cell_type": "code",
   "execution_count": 4,
   "id": "8f2e619c",
   "metadata": {},
   "outputs": [
    {
     "data": {
      "text/plain": [
       "title                    object\n",
       "commentCount            float64\n",
       "dislikeCount            float64\n",
       "likeCount               float64\n",
       "music_style              object\n",
       "performer                object\n",
       "viewCount               float64\n",
       "commentators_uniq       float64\n",
       "comments_obscene_cnt    float64\n",
       "video_age                 int64\n",
       "dtype: object"
      ]
     },
     "execution_count": 4,
     "metadata": {},
     "output_type": "execute_result"
    }
   ],
   "source": [
    "# смотрим на типы переменных \n",
    "df.dtypes"
   ]
  },
  {
   "cell_type": "markdown",
   "id": "65300fd6",
   "metadata": {},
   "source": [
    "## Работа с категориальными переменными"
   ]
  },
  {
   "cell_type": "markdown",
   "id": "c3494804",
   "metadata": {},
   "source": [
    "### Когда категории две:"
   ]
  },
  {
   "cell_type": "markdown",
   "id": "a71a1ae9",
   "metadata": {},
   "source": [
    "Отберем только клипы жанра `rock` и `rap`. Представим, что только они нас интересуют. "
   ]
  },
  {
   "cell_type": "code",
   "execution_count": 6,
   "id": "da5dc668",
   "metadata": {},
   "outputs": [
    {
     "data": {
      "text/plain": [
       "rock       5888\n",
       "estrada    4151\n",
       "popsa      3339\n",
       "shanson    2061\n",
       "rap        2028\n",
       "indi       1359\n",
       "classic     298\n",
       "Name: music_style, dtype: int64"
      ]
     },
     "execution_count": 6,
     "metadata": {},
     "output_type": "execute_result"
    }
   ],
   "source": [
    "df.music_style.value_counts()"
   ]
  },
  {
   "cell_type": "code",
   "execution_count": 9,
   "id": "a2014a80",
   "metadata": {},
   "outputs": [
    {
     "data": {
      "text/plain": [
       "0        False\n",
       "1        False\n",
       "2        False\n",
       "3        False\n",
       "4        False\n",
       "         ...  \n",
       "19119    False\n",
       "19120    False\n",
       "19121     True\n",
       "19122     True\n",
       "19123    False\n",
       "Name: music_style, Length: 19124, dtype: bool"
      ]
     },
     "execution_count": 9,
     "metadata": {},
     "output_type": "execute_result"
    }
   ],
   "source": [
    "df.music_style.isin(genres_to_keep)"
   ]
  },
  {
   "cell_type": "code",
   "execution_count": 10,
   "id": "d4ed8d5f",
   "metadata": {},
   "outputs": [
    {
     "data": {
      "text/html": [
       "<div>\n",
       "<style scoped>\n",
       "    .dataframe tbody tr th:only-of-type {\n",
       "        vertical-align: middle;\n",
       "    }\n",
       "\n",
       "    .dataframe tbody tr th {\n",
       "        vertical-align: top;\n",
       "    }\n",
       "\n",
       "    .dataframe thead th {\n",
       "        text-align: right;\n",
       "    }\n",
       "</style>\n",
       "<table border=\"1\" class=\"dataframe\">\n",
       "  <thead>\n",
       "    <tr style=\"text-align: right;\">\n",
       "      <th></th>\n",
       "      <th>title</th>\n",
       "      <th>commentCount</th>\n",
       "      <th>dislikeCount</th>\n",
       "      <th>likeCount</th>\n",
       "      <th>music_style</th>\n",
       "      <th>performer</th>\n",
       "      <th>viewCount</th>\n",
       "      <th>commentators_uniq</th>\n",
       "      <th>comments_obscene_cnt</th>\n",
       "      <th>video_age</th>\n",
       "    </tr>\n",
       "  </thead>\n",
       "  <tbody>\n",
       "    <tr>\n",
       "      <th>8</th>\n",
       "      <td>\"Hey Tovarish\" Video Shooting</td>\n",
       "      <td>10.0</td>\n",
       "      <td>1.0</td>\n",
       "      <td>34.0</td>\n",
       "      <td>rock</td>\n",
       "      <td>мумий_тролль</td>\n",
       "      <td>3815.0</td>\n",
       "      <td>9.0</td>\n",
       "      <td>0.0</td>\n",
       "      <td>2539</td>\n",
       "    </tr>\n",
       "    <tr>\n",
       "      <th>15</th>\n",
       "      <td>\"SOS Матросу!\" - тизер фильма</td>\n",
       "      <td>10.0</td>\n",
       "      <td>4.0</td>\n",
       "      <td>68.0</td>\n",
       "      <td>rock</td>\n",
       "      <td>мумий_тролль</td>\n",
       "      <td>7632.0</td>\n",
       "      <td>5.0</td>\n",
       "      <td>0.0</td>\n",
       "      <td>1739</td>\n",
       "    </tr>\n",
       "    <tr>\n",
       "      <th>36</th>\n",
       "      <td>\"ВОИН ДУМА\"</td>\n",
       "      <td>4.0</td>\n",
       "      <td>0.0</td>\n",
       "      <td>49.0</td>\n",
       "      <td>rock</td>\n",
       "      <td>король_и_шут</td>\n",
       "      <td>1950.0</td>\n",
       "      <td>NaN</td>\n",
       "      <td>NaN</td>\n",
       "      <td>3819</td>\n",
       "    </tr>\n",
       "    <tr>\n",
       "      <th>38</th>\n",
       "      <td>\"Виктор Цой. 50 лет\" Кукрыниксы - Печаль, Конч...</td>\n",
       "      <td>2.0</td>\n",
       "      <td>4.0</td>\n",
       "      <td>65.0</td>\n",
       "      <td>rock</td>\n",
       "      <td>кукрыниксы</td>\n",
       "      <td>9986.0</td>\n",
       "      <td>2.0</td>\n",
       "      <td>0.0</td>\n",
       "      <td>2351</td>\n",
       "    </tr>\n",
       "    <tr>\n",
       "      <th>40</th>\n",
       "      <td>\"Всё, что было\". Начало.</td>\n",
       "      <td>23.0</td>\n",
       "      <td>5.0</td>\n",
       "      <td>171.0</td>\n",
       "      <td>rock</td>\n",
       "      <td>ария</td>\n",
       "      <td>11168.0</td>\n",
       "      <td>21.0</td>\n",
       "      <td>1.0</td>\n",
       "      <td>2351</td>\n",
       "    </tr>\n",
       "  </tbody>\n",
       "</table>\n",
       "</div>"
      ],
      "text/plain": [
       "                                                title  commentCount  \\\n",
       "8                       \"Hey Tovarish\" Video Shooting          10.0   \n",
       "15                      \"SOS Матросу!\" - тизер фильма          10.0   \n",
       "36                                        \"ВОИН ДУМА\"           4.0   \n",
       "38  \"Виктор Цой. 50 лет\" Кукрыниксы - Печаль, Конч...           2.0   \n",
       "40                           \"Всё, что было\". Начало.          23.0   \n",
       "\n",
       "    dislikeCount  likeCount music_style     performer  viewCount  \\\n",
       "8            1.0       34.0        rock  мумий_тролль     3815.0   \n",
       "15           4.0       68.0        rock  мумий_тролль     7632.0   \n",
       "36           0.0       49.0        rock  король_и_шут     1950.0   \n",
       "38           4.0       65.0        rock    кукрыниксы     9986.0   \n",
       "40           5.0      171.0        rock          ария    11168.0   \n",
       "\n",
       "    commentators_uniq  comments_obscene_cnt  video_age  \n",
       "8                 9.0                   0.0       2539  \n",
       "15                5.0                   0.0       1739  \n",
       "36                NaN                   NaN       3819  \n",
       "38                2.0                   0.0       2351  \n",
       "40               21.0                   1.0       2351  "
      ]
     },
     "execution_count": 10,
     "metadata": {},
     "output_type": "execute_result"
    }
   ],
   "source": [
    "genres_to_keep = ['rock', 'rap']\n",
    "\n",
    "df_small = df[df.music_style.isin(genres_to_keep)]\n",
    "df_small.head()"
   ]
  },
  {
   "cell_type": "code",
   "execution_count": 11,
   "id": "8b26d83b",
   "metadata": {},
   "outputs": [
    {
     "data": {
      "text/plain": [
       "rock    5888\n",
       "rap     2028\n",
       "Name: music_style, dtype: int64"
      ]
     },
     "execution_count": 11,
     "metadata": {},
     "output_type": "execute_result"
    }
   ],
   "source": [
    "df_small.music_style.value_counts()"
   ]
  },
  {
   "cell_type": "code",
   "execution_count": null,
   "id": "e8e372df",
   "metadata": {},
   "outputs": [],
   "source": []
  },
  {
   "cell_type": "markdown",
   "id": "6029b59a",
   "metadata": {},
   "source": [
    "В таком \"поддатафрейме\" наша колонка `music_style` **имеет тип object** (т.к. в ней находятся строки), а также **является бинарной**, так как содержит всего два значения (`rock` и `rap`)"
   ]
  },
  {
   "cell_type": "markdown",
   "id": "193315f5",
   "metadata": {},
   "source": [
    "Однако проблема строковых переменных в том, что многие модели не умеют с ними работать. Компьютеру привычнее оперировать с числами. \n",
    "\n",
    "Именно поэтому над строковыми бинарными переменными производят нехитрые манипуляции. Либо кодируют их в числа 1 / 0, либо создают булевский тип True / False, что в какой-то степени тоже самое. \n",
    "\n",
    "Попробуем преобразовать нашу бинарную строковую переменную music_style:"
   ]
  },
  {
   "cell_type": "code",
   "execution_count": 12,
   "id": "597f8914",
   "metadata": {},
   "outputs": [
    {
     "name": "stderr",
     "output_type": "stream",
     "text": [
      "<ipython-input-12-21b19c4d8243>:3: SettingWithCopyWarning: \n",
      "A value is trying to be set on a copy of a slice from a DataFrame.\n",
      "Try using .loc[row_indexer,col_indexer] = value instead\n",
      "\n",
      "See the caveats in the documentation: https://pandas.pydata.org/pandas-docs/stable/user_guide/indexing.html#returning-a-view-versus-a-copy\n",
      "  df_small['is_rock'] = df_small['music_style'].map(d)\n"
     ]
    }
   ],
   "source": [
    "d = {'rock': 1, 'rap': 0}\n",
    "\n",
    "df_small['is_rock'] = df_small['music_style'].map(d)"
   ]
  },
  {
   "cell_type": "code",
   "execution_count": 13,
   "id": "bbea074c",
   "metadata": {},
   "outputs": [
    {
     "data": {
      "text/html": [
       "<div>\n",
       "<style scoped>\n",
       "    .dataframe tbody tr th:only-of-type {\n",
       "        vertical-align: middle;\n",
       "    }\n",
       "\n",
       "    .dataframe tbody tr th {\n",
       "        vertical-align: top;\n",
       "    }\n",
       "\n",
       "    .dataframe thead th {\n",
       "        text-align: right;\n",
       "    }\n",
       "</style>\n",
       "<table border=\"1\" class=\"dataframe\">\n",
       "  <thead>\n",
       "    <tr style=\"text-align: right;\">\n",
       "      <th></th>\n",
       "      <th>title</th>\n",
       "      <th>commentCount</th>\n",
       "      <th>dislikeCount</th>\n",
       "      <th>likeCount</th>\n",
       "      <th>music_style</th>\n",
       "      <th>performer</th>\n",
       "      <th>viewCount</th>\n",
       "      <th>commentators_uniq</th>\n",
       "      <th>comments_obscene_cnt</th>\n",
       "      <th>video_age</th>\n",
       "      <th>is_rock</th>\n",
       "    </tr>\n",
       "  </thead>\n",
       "  <tbody>\n",
       "    <tr>\n",
       "      <th>8</th>\n",
       "      <td>\"Hey Tovarish\" Video Shooting</td>\n",
       "      <td>10.0</td>\n",
       "      <td>1.0</td>\n",
       "      <td>34.0</td>\n",
       "      <td>rock</td>\n",
       "      <td>мумий_тролль</td>\n",
       "      <td>3815.0</td>\n",
       "      <td>9.0</td>\n",
       "      <td>0.0</td>\n",
       "      <td>2539</td>\n",
       "      <td>1</td>\n",
       "    </tr>\n",
       "    <tr>\n",
       "      <th>15</th>\n",
       "      <td>\"SOS Матросу!\" - тизер фильма</td>\n",
       "      <td>10.0</td>\n",
       "      <td>4.0</td>\n",
       "      <td>68.0</td>\n",
       "      <td>rock</td>\n",
       "      <td>мумий_тролль</td>\n",
       "      <td>7632.0</td>\n",
       "      <td>5.0</td>\n",
       "      <td>0.0</td>\n",
       "      <td>1739</td>\n",
       "      <td>1</td>\n",
       "    </tr>\n",
       "  </tbody>\n",
       "</table>\n",
       "</div>"
      ],
      "text/plain": [
       "                            title  commentCount  dislikeCount  likeCount  \\\n",
       "8   \"Hey Tovarish\" Video Shooting          10.0           1.0       34.0   \n",
       "15  \"SOS Матросу!\" - тизер фильма          10.0           4.0       68.0   \n",
       "\n",
       "   music_style     performer  viewCount  commentators_uniq  \\\n",
       "8         rock  мумий_тролль     3815.0                9.0   \n",
       "15        rock  мумий_тролль     7632.0                5.0   \n",
       "\n",
       "    comments_obscene_cnt  video_age  is_rock  \n",
       "8                    0.0       2539        1  \n",
       "15                   0.0       1739        1  "
      ]
     },
     "execution_count": 13,
     "metadata": {},
     "output_type": "execute_result"
    }
   ],
   "source": [
    "df_small.head(2)"
   ]
  },
  {
   "cell_type": "markdown",
   "id": "682d48a8",
   "metadata": {},
   "source": [
    "### Задача №3: \n",
    "Какая доля наблюдений обоих жанров?"
   ]
  },
  {
   "cell_type": "code",
   "execution_count": 48,
   "id": "f1fbf964",
   "metadata": {},
   "outputs": [],
   "source": [
    "## Ваш код"
   ]
  },
  {
   "cell_type": "markdown",
   "id": "02c46356",
   "metadata": {},
   "source": [
    "### Когда категорий больше двух"
   ]
  },
  {
   "cell_type": "markdown",
   "id": "b20a86aa",
   "metadata": {},
   "source": [
    "Вернемся к нашему полному датафрейму. В нем music_style принимает не 2 значения, а целых 7. Что делать в таком случае?"
   ]
  },
  {
   "cell_type": "markdown",
   "id": "01c9c189",
   "metadata": {},
   "source": [
    "**Наивный метод:** Давайте каждому значению из music_style сопоставим какое-нибудь число. Такой метод называется Label Encoding. Заранее подумайте, какие проблемы может создать такой способ?"
   ]
  },
  {
   "cell_type": "code",
   "execution_count": 14,
   "id": "83b5044a",
   "metadata": {},
   "outputs": [
    {
     "data": {
      "text/plain": [
       "array(['popsa', 'rock', 'classic', 'indi', 'estrada', 'shanson', 'rap'],\n",
       "      dtype=object)"
      ]
     },
     "execution_count": 14,
     "metadata": {},
     "output_type": "execute_result"
    }
   ],
   "source": [
    "df.music_style.unique()"
   ]
  },
  {
   "cell_type": "code",
   "execution_count": 15,
   "id": "165303e2",
   "metadata": {},
   "outputs": [
    {
     "name": "stdout",
     "output_type": "stream",
     "text": [
      "{'popsa': 0, 'rock': 1, 'classic': 2, 'indi': 3, 'estrada': 4, 'shanson': 5, 'rap': 6}\n"
     ]
    }
   ],
   "source": [
    "# создадим словарь\n",
    "d = dict(zip(df.music_style.unique(), np.arange(7)))\n",
    "print(d)\n",
    "\n",
    "# сделаем преобразование\n",
    "df['music_style_int'] = df['music_style'].map(d)"
   ]
  },
  {
   "cell_type": "markdown",
   "id": "2845731a",
   "metadata": {},
   "source": [
    "Однако проблема такого способа в том, что мы непроизвольным образом установили **порядок** на наших категориях:\n",
    "$6 > 5 > 4 > 3 > 2 > 1 > 0 \\Rightarrow rap > shanson > estrada > indi > classic > rock > popsa$ \n",
    "\n",
    "\n",
    "Чтобы такого избежать, чаще используется другой метод: **One Hot Encoding**"
   ]
  },
  {
   "cell_type": "markdown",
   "id": "2bcf416a",
   "metadata": {},
   "source": [
    "<center>\n",
    "<img src=\"https://4.bp.blogspot.com/-iC7OQxsaPY0/XMdB9Q9QahI/AAAAAAAAGoY/qEStugMphDIbUIabd_taWCzTyscXzxOPgCLcBGAs/s1600/human_transpose.JPG\" height=\"200\" width=\"600\">\n",
    "</center>   "
   ]
  },
  {
   "cell_type": "markdown",
   "id": "881eae4b",
   "metadata": {},
   "source": [
    "В pandas такое преобразование можно сделать с помощью функции `get_dummies()`"
   ]
  },
  {
   "cell_type": "code",
   "execution_count": 16,
   "id": "5d525c32",
   "metadata": {},
   "outputs": [
    {
     "data": {
      "text/html": [
       "<div>\n",
       "<style scoped>\n",
       "    .dataframe tbody tr th:only-of-type {\n",
       "        vertical-align: middle;\n",
       "    }\n",
       "\n",
       "    .dataframe tbody tr th {\n",
       "        vertical-align: top;\n",
       "    }\n",
       "\n",
       "    .dataframe thead th {\n",
       "        text-align: right;\n",
       "    }\n",
       "</style>\n",
       "<table border=\"1\" class=\"dataframe\">\n",
       "  <thead>\n",
       "    <tr style=\"text-align: right;\">\n",
       "      <th></th>\n",
       "      <th>classic</th>\n",
       "      <th>estrada</th>\n",
       "      <th>indi</th>\n",
       "      <th>popsa</th>\n",
       "      <th>rap</th>\n",
       "      <th>rock</th>\n",
       "      <th>shanson</th>\n",
       "    </tr>\n",
       "  </thead>\n",
       "  <tbody>\n",
       "    <tr>\n",
       "      <th>0</th>\n",
       "      <td>0</td>\n",
       "      <td>0</td>\n",
       "      <td>0</td>\n",
       "      <td>1</td>\n",
       "      <td>0</td>\n",
       "      <td>0</td>\n",
       "      <td>0</td>\n",
       "    </tr>\n",
       "    <tr>\n",
       "      <th>1</th>\n",
       "      <td>0</td>\n",
       "      <td>0</td>\n",
       "      <td>0</td>\n",
       "      <td>1</td>\n",
       "      <td>0</td>\n",
       "      <td>0</td>\n",
       "      <td>0</td>\n",
       "    </tr>\n",
       "    <tr>\n",
       "      <th>2</th>\n",
       "      <td>0</td>\n",
       "      <td>0</td>\n",
       "      <td>0</td>\n",
       "      <td>1</td>\n",
       "      <td>0</td>\n",
       "      <td>0</td>\n",
       "      <td>0</td>\n",
       "    </tr>\n",
       "    <tr>\n",
       "      <th>3</th>\n",
       "      <td>0</td>\n",
       "      <td>0</td>\n",
       "      <td>0</td>\n",
       "      <td>1</td>\n",
       "      <td>0</td>\n",
       "      <td>0</td>\n",
       "      <td>0</td>\n",
       "    </tr>\n",
       "    <tr>\n",
       "      <th>4</th>\n",
       "      <td>0</td>\n",
       "      <td>0</td>\n",
       "      <td>0</td>\n",
       "      <td>1</td>\n",
       "      <td>0</td>\n",
       "      <td>0</td>\n",
       "      <td>0</td>\n",
       "    </tr>\n",
       "  </tbody>\n",
       "</table>\n",
       "</div>"
      ],
      "text/plain": [
       "   classic  estrada  indi  popsa  rap  rock  shanson\n",
       "0        0        0     0      1    0     0        0\n",
       "1        0        0     0      1    0     0        0\n",
       "2        0        0     0      1    0     0        0\n",
       "3        0        0     0      1    0     0        0\n",
       "4        0        0     0      1    0     0        0"
      ]
     },
     "execution_count": 16,
     "metadata": {},
     "output_type": "execute_result"
    }
   ],
   "source": [
    "pd.get_dummies(df['music_style']).head()"
   ]
  },
  {
   "cell_type": "markdown",
   "id": "110b27a1",
   "metadata": {},
   "source": [
    "Такой метод тоже имеет свои проблемы, которые выходят за рамки нашего курса. Например, это полная мультиколлинеарность (или линейная зависимость) столбцов. Подробнее об этом можно посмотреть здесь: https://www.youtube.com/watch?v=k9PPuTmTLMk"
   ]
  },
  {
   "cell_type": "markdown",
   "id": "59469d7c",
   "metadata": {},
   "source": [
    "## Работа с датой и временем"
   ]
  },
  {
   "cell_type": "markdown",
   "id": "cb7b1bf3",
   "metadata": {},
   "source": [
    "Для даты и времени в python есть свой тип переменных: datetime / timestamp. Все полезные методы, оперирующие над датами можно найти либо в пакете pandas, либо в дополнительном пакете `datetime`"
   ]
  },
  {
   "cell_type": "code",
   "execution_count": null,
   "id": "09d3c1b8",
   "metadata": {},
   "outputs": [],
   "source": []
  },
  {
   "cell_type": "code",
   "execution_count": 17,
   "id": "36127775",
   "metadata": {},
   "outputs": [
    {
     "data": {
      "text/plain": [
       "Timestamp('2020-01-01 00:00:00')"
      ]
     },
     "execution_count": 17,
     "metadata": {},
     "output_type": "execute_result"
    }
   ],
   "source": [
    "# получим дату из строки\n",
    "pd.to_datetime('01/01/20')"
   ]
  },
  {
   "cell_type": "code",
   "execution_count": 18,
   "id": "fe0ed009",
   "metadata": {},
   "outputs": [
    {
     "data": {
      "text/plain": [
       "datetime.datetime(2021, 4, 22, 18, 27, 10, 338384)"
      ]
     },
     "execution_count": 18,
     "metadata": {},
     "output_type": "execute_result"
    }
   ],
   "source": [
    "# можно получить сегодняшнее число\n",
    "from datetime import datetime\n",
    "\n",
    "datetime.today()"
   ]
  },
  {
   "cell_type": "code",
   "execution_count": 19,
   "id": "9b786efb",
   "metadata": {},
   "outputs": [
    {
     "data": {
      "text/plain": [
       "2021"
      ]
     },
     "execution_count": 19,
     "metadata": {},
     "output_type": "execute_result"
    }
   ],
   "source": [
    "# какой сегодня год?\n",
    "datetime.today().year"
   ]
  },
  {
   "cell_type": "code",
   "execution_count": 26,
   "id": "4e6123f8",
   "metadata": {},
   "outputs": [
    {
     "data": {
      "text/plain": [
       "'22/April/21 18 06'"
      ]
     },
     "execution_count": 26,
     "metadata": {},
     "output_type": "execute_result"
    }
   ],
   "source": [
    "# преобразуем в строку удобного нам формата\n",
    "datetime.today().strftime('%d/%B/%y %H %I')"
   ]
  },
  {
   "cell_type": "code",
   "execution_count": 27,
   "id": "d7953ada",
   "metadata": {},
   "outputs": [
    {
     "data": {
      "text/plain": [
       "3"
      ]
     },
     "execution_count": 27,
     "metadata": {},
     "output_type": "execute_result"
    }
   ],
   "source": [
    "from datetime import timedelta\n",
    "\n",
    "# какой месяц был 50 дней назад?\n",
    "(datetime.today() - timedelta(days=50)).month"
   ]
  },
  {
   "cell_type": "code",
   "execution_count": 28,
   "id": "c4ef4360",
   "metadata": {},
   "outputs": [
    {
     "data": {
      "text/plain": [
       "datetime.datetime(2021, 3, 3, 18, 33, 51, 224409)"
      ]
     },
     "execution_count": 28,
     "metadata": {},
     "output_type": "execute_result"
    }
   ],
   "source": [
    "datetime.today() - timedelta(days=50)"
   ]
  },
  {
   "cell_type": "markdown",
   "id": "765ca8d1",
   "metadata": {},
   "source": [
    "### Задача №4: \n",
    "\n",
    "В нашем датасете есть колонка `video_age`, которая показывает нам возраст нашего клипа в днях с 15 марта 2019 года. Опираясь на нее, получите для каждого клипа дату его публикации и сохраните в новую колонку. "
   ]
  },
  {
   "cell_type": "code",
   "execution_count": 49,
   "id": "6fcc849d",
   "metadata": {},
   "outputs": [],
   "source": [
    "## Ваш код"
   ]
  },
  {
   "cell_type": "markdown",
   "id": "d337170c",
   "metadata": {},
   "source": [
    "### Задача №5:\n",
    "\n",
    "Какое распределение кол-ва выпущенных клипов по годам? "
   ]
  },
  {
   "cell_type": "code",
   "execution_count": 50,
   "id": "328b6924",
   "metadata": {},
   "outputs": [],
   "source": [
    "## Ваш код"
   ]
  },
  {
   "cell_type": "markdown",
   "id": "6ffff06a",
   "metadata": {},
   "source": [
    "### Задача №6:\n",
    "\n",
    "Выведите месяц, в течение которого на ютуб опубликовали больше всего клипов"
   ]
  },
  {
   "cell_type": "code",
   "execution_count": 90,
   "id": "0ba56ba2",
   "metadata": {},
   "outputs": [],
   "source": [
    "## Ваш код"
   ]
  },
  {
   "cell_type": "markdown",
   "id": "03d07cdd",
   "metadata": {},
   "source": [
    "## Пропущенные значения"
   ]
  },
  {
   "cell_type": "markdown",
   "id": "a68d28e7",
   "metadata": {},
   "source": [
    "Пропуски в данных $-$ это противная проблема, с которой можно столкнуться при работе. Пропуски возникают практически всегда. Причинами пропусков может быть, например, технические возможности вашего парсера, который не смог достать часть информации из сайта, либо, например, если вы Юрий Дудь и опрашиваете людей об их заработке, собирая статистику для дальнейшего исследования, то вряд ли каждый человек захочет вам ответить. "
   ]
  },
  {
   "cell_type": "markdown",
   "id": "059615ad",
   "metadata": {},
   "source": [
    "### Выявление"
   ]
  },
  {
   "cell_type": "code",
   "execution_count": 283,
   "id": "b4fbf7d0",
   "metadata": {},
   "outputs": [
    {
     "name": "stdout",
     "output_type": "stream",
     "text": [
      "<class 'pandas.core.frame.DataFrame'>\n",
      "RangeIndex: 19124 entries, 0 to 19123\n",
      "Data columns (total 11 columns):\n",
      " #   Column                Non-Null Count  Dtype  \n",
      "---  ------                --------------  -----  \n",
      " 0   title                 19124 non-null  object \n",
      " 1   commentCount          18914 non-null  float64\n",
      " 2   dislikeCount          18850 non-null  float64\n",
      " 3   likeCount             18850 non-null  float64\n",
      " 4   music_style           19124 non-null  object \n",
      " 5   performer             19124 non-null  object \n",
      " 6   viewCount             19123 non-null  float64\n",
      " 7   commentators_uniq     12314 non-null  float64\n",
      " 8   comments_obscene_cnt  12314 non-null  float64\n",
      " 9   video_age             19124 non-null  int64  \n",
      " 10  music_style_int       19124 non-null  int64  \n",
      "dtypes: float64(6), int64(2), object(3)\n",
      "memory usage: 1.6+ MB\n"
     ]
    }
   ],
   "source": [
    "df.info()"
   ]
  },
  {
   "cell_type": "code",
   "execution_count": 31,
   "id": "e029b04b",
   "metadata": {},
   "outputs": [
    {
     "data": {
      "text/plain": [
       "title                      0\n",
       "commentCount             210\n",
       "dislikeCount             274\n",
       "likeCount                274\n",
       "music_style                0\n",
       "performer                  0\n",
       "viewCount                  1\n",
       "commentators_uniq       6810\n",
       "comments_obscene_cnt    6810\n",
       "video_age                  0\n",
       "music_style_int            0\n",
       "dtype: int64"
      ]
     },
     "execution_count": 31,
     "metadata": {},
     "output_type": "execute_result"
    }
   ],
   "source": [
    "df.isnull().sum()"
   ]
  },
  {
   "cell_type": "code",
   "execution_count": 32,
   "id": "249db0bf",
   "metadata": {},
   "outputs": [
    {
     "data": {
      "text/plain": [
       "14379"
      ]
     },
     "execution_count": 32,
     "metadata": {},
     "output_type": "execute_result"
    }
   ],
   "source": [
    "df.isnull().sum().sum()"
   ]
  },
  {
   "cell_type": "code",
   "execution_count": 285,
   "id": "c119a1ed",
   "metadata": {},
   "outputs": [
    {
     "data": {
      "image/png": "[encoded data removed]",
      "text/plain": [
       "<Figure size 1440x864 with 1 Axes>"
      ]
     },
     "metadata": {
      "needs_background": "light"
     },
     "output_type": "display_data"
    }
   ],
   "source": [
    "fig, ax = plt.subplots(figsize=(20,12))\n",
    "sns_heatmap = sns.heatmap(df.isnull(), yticklabels=False, cbar=False, cmap='viridis')"
   ]
  },
  {
   "cell_type": "markdown",
   "id": "c8d80f03",
   "metadata": {},
   "source": [
    "### Удаление"
   ]
  },
  {
   "cell_type": "code",
   "execution_count": 286,
   "id": "858e0c46",
   "metadata": {},
   "outputs": [
    {
     "name": "stdout",
     "output_type": "stream",
     "text": [
      "(19124, 11)\n",
      "(12116, 11)\n",
      "(19124, 5)\n"
     ]
    }
   ],
   "source": [
    "print(df.shape)\n",
    "\n",
    "# по умолчанию удаляет строки, где есть na\n",
    "print(df.dropna().shape)\n",
    "\n",
    "# можем удалять столбцы, где есть хотя бы один пропуск\n",
    "print(df.dropna(axis=1).shape)"
   ]
  },
  {
   "cell_type": "code",
   "execution_count": 33,
   "id": "74536368",
   "metadata": {},
   "outputs": [
    {
     "name": "stdout",
     "output_type": "stream",
     "text": [
      "(19124, 11)\n"
     ]
    }
   ],
   "source": [
    "print(df.shape)"
   ]
  },
  {
   "cell_type": "code",
   "execution_count": null,
   "id": "8a647cc3",
   "metadata": {},
   "outputs": [],
   "source": [
    "# df = df.dropna()\n",
    "# df.dropna(inplace=True)"
   ]
  },
  {
   "cell_type": "markdown",
   "id": "c835b36f",
   "metadata": {},
   "source": [
    "Часто удаление слишком дорогая операция, так как избавляемся от кучи данных, которых и так частенько бывает мало"
   ]
  },
  {
   "cell_type": "markdown",
   "id": "2d9ee154",
   "metadata": {},
   "source": [
    "### Заполнение"
   ]
  },
  {
   "cell_type": "code",
   "execution_count": 34,
   "id": "31a55f36",
   "metadata": {},
   "outputs": [
    {
     "data": {
      "text/plain": [
       "0    24.0\n",
       "1     NaN\n",
       "2    27.0\n",
       "3     2.0\n",
       "dtype: float64"
      ]
     },
     "execution_count": 34,
     "metadata": {},
     "output_type": "execute_result"
    }
   ],
   "source": [
    "# было\n",
    "ser = pd.Series([24, np.nan, 27, 2])\n",
    "ser"
   ]
  },
  {
   "cell_type": "code",
   "execution_count": 35,
   "id": "cef8ae56",
   "metadata": {},
   "outputs": [
    {
     "data": {
      "text/plain": [
       "0    24.0\n",
       "1     0.0\n",
       "2    27.0\n",
       "3     2.0\n",
       "dtype: float64"
      ]
     },
     "execution_count": 35,
     "metadata": {},
     "output_type": "execute_result"
    }
   ],
   "source": [
    "# заполняем нулем\n",
    "ser.fillna(0)"
   ]
  },
  {
   "cell_type": "code",
   "execution_count": 289,
   "id": "3f187e31",
   "metadata": {},
   "outputs": [
    {
     "data": {
      "text/plain": [
       "0    24.0\n",
       "1    24.0\n",
       "2    27.0\n",
       "3     2.0\n",
       "dtype: float64"
      ]
     },
     "execution_count": 289,
     "metadata": {},
     "output_type": "execute_result"
    }
   ],
   "source": [
    "# заполняем предыдущим значением\n",
    "ser.fillna(method='ffill').head()"
   ]
  },
  {
   "cell_type": "code",
   "execution_count": 290,
   "id": "4e9c6ef0",
   "metadata": {},
   "outputs": [
    {
     "data": {
      "text/plain": [
       "0    24.0\n",
       "1    27.0\n",
       "2    27.0\n",
       "3     2.0\n",
       "dtype: float64"
      ]
     },
     "execution_count": 290,
     "metadata": {},
     "output_type": "execute_result"
    }
   ],
   "source": [
    "# заполняем последующим значением\n",
    "ser.fillna(method='bfill').head()"
   ]
  },
  {
   "cell_type": "markdown",
   "id": "30c06fc5",
   "metadata": {},
   "source": [
    "### Задача №7:\n",
    "\n",
    "Заполните пропуски в столбцах таблицы по клипам средними"
   ]
  },
  {
   "cell_type": "code",
   "execution_count": 39,
   "id": "f86ffa1c",
   "metadata": {},
   "outputs": [
    {
     "data": {
      "text/plain": [
       "title                      0\n",
       "commentCount             210\n",
       "dislikeCount             274\n",
       "likeCount                274\n",
       "music_style                0\n",
       "performer                  0\n",
       "viewCount                  1\n",
       "commentators_uniq       6810\n",
       "comments_obscene_cnt    6810\n",
       "video_age                  0\n",
       "music_style_int            0\n",
       "dtype: int64"
      ]
     },
     "execution_count": 39,
     "metadata": {},
     "output_type": "execute_result"
    }
   ],
   "source": [
    "df.isna().sum()"
   ]
  },
  {
   "cell_type": "code",
   "execution_count": 41,
   "id": "1c881942",
   "metadata": {},
   "outputs": [],
   "source": [
    "cols = ['commentCount', 'dislikeCount', 'likeCount', 'commentators_uniq', 'comments_obscene_cnt']\n",
    "for col in cols:\n",
    "    m = df[col].mean()\n",
    "    df[col].fillna(m, inplace=True)"
   ]
  },
  {
   "cell_type": "code",
   "execution_count": 42,
   "id": "51b5d675",
   "metadata": {},
   "outputs": [
    {
     "data": {
      "text/plain": [
       "title                   0\n",
       "commentCount            0\n",
       "dislikeCount            0\n",
       "likeCount               0\n",
       "music_style             0\n",
       "performer               0\n",
       "viewCount               1\n",
       "commentators_uniq       0\n",
       "comments_obscene_cnt    0\n",
       "video_age               0\n",
       "music_style_int         0\n",
       "dtype: int64"
      ]
     },
     "execution_count": 42,
     "metadata": {},
     "output_type": "execute_result"
    }
   ],
   "source": [
    "df.isna().sum()"
   ]
  },
  {
   "cell_type": "markdown",
   "id": "58e4beaf",
   "metadata": {},
   "source": [
    "## Обнаружение аномалий"
   ]
  },
  {
   "cell_type": "markdown",
   "id": "77666c87",
   "metadata": {},
   "source": [
    "Аномалии в данных $-$ это столь же частая проблема, что и пропущенные значения, однако более серьезная. Посмотрим на примере, как аномалии могут все испортить:  \n",
    "\n",
    "### Оцениваем средний рост людей в школьном классе:\n",
    "\n",
    "Представим, что мы хотим оценить средний рост людей в школьном классе. Имеем следующую таблицу:"
   ]
  },
  {
   "cell_type": "code",
   "execution_count": 44,
   "id": "a9cae48e",
   "metadata": {},
   "outputs": [
    {
     "data": {
      "text/html": [
       "<div>\n",
       "<style scoped>\n",
       "    .dataframe tbody tr th:only-of-type {\n",
       "        vertical-align: middle;\n",
       "    }\n",
       "\n",
       "    .dataframe tbody tr th {\n",
       "        vertical-align: top;\n",
       "    }\n",
       "\n",
       "    .dataframe thead th {\n",
       "        text-align: right;\n",
       "    }\n",
       "</style>\n",
       "<table border=\"1\" class=\"dataframe\">\n",
       "  <thead>\n",
       "    <tr style=\"text-align: right;\">\n",
       "      <th></th>\n",
       "      <th>student</th>\n",
       "      <th>height_cm</th>\n",
       "    </tr>\n",
       "  </thead>\n",
       "  <tbody>\n",
       "    <tr>\n",
       "      <th>0</th>\n",
       "      <td>Max</td>\n",
       "      <td>170</td>\n",
       "    </tr>\n",
       "    <tr>\n",
       "      <th>1</th>\n",
       "      <td>Ahmed</td>\n",
       "      <td>165</td>\n",
       "    </tr>\n",
       "    <tr>\n",
       "      <th>2</th>\n",
       "      <td>Nastya</td>\n",
       "      <td>171</td>\n",
       "    </tr>\n",
       "    <tr>\n",
       "      <th>3</th>\n",
       "      <td>Vlad</td>\n",
       "      <td>168</td>\n",
       "    </tr>\n",
       "  </tbody>\n",
       "</table>\n",
       "</div>"
      ],
      "text/plain": [
       "  student  height_cm\n",
       "0     Max        170\n",
       "1   Ahmed        165\n",
       "2  Nastya        171\n",
       "3    Vlad        168"
      ]
     },
     "execution_count": 44,
     "metadata": {},
     "output_type": "execute_result"
    }
   ],
   "source": [
    "students = pd.DataFrame({'student': ['Max', 'Ahmed', 'Nastya', 'Vlad'],\n",
    "                        'height_cm': [170, 165, 171, 168]})\n",
    "\n",
    "students"
   ]
  },
  {
   "cell_type": "markdown",
   "id": "34e6a9b7",
   "metadata": {},
   "source": [
    "Найдем среднее:"
   ]
  },
  {
   "cell_type": "code",
   "execution_count": 45,
   "id": "2842e955",
   "metadata": {},
   "outputs": [
    {
     "data": {
      "text/plain": [
       "168.5"
      ]
     },
     "execution_count": 45,
     "metadata": {},
     "output_type": "execute_result"
    }
   ],
   "source": [
    "students.height_cm.mean()"
   ]
  },
  {
   "cell_type": "markdown",
   "id": "5c42c375",
   "metadata": {},
   "source": [
    "Теперь представим, что в наш класс пришел новенький Филипп, который остался на второй год из-за того, что играл в баскетбол, а не учился. У нас в таблице появилось новое наблюдение, попробуем оценить рост теперь. "
   ]
  },
  {
   "cell_type": "code",
   "execution_count": 47,
   "id": "39c5e14b",
   "metadata": {},
   "outputs": [
    {
     "data": {
      "text/html": [
       "<div>\n",
       "<style scoped>\n",
       "    .dataframe tbody tr th:only-of-type {\n",
       "        vertical-align: middle;\n",
       "    }\n",
       "\n",
       "    .dataframe tbody tr th {\n",
       "        vertical-align: top;\n",
       "    }\n",
       "\n",
       "    .dataframe thead th {\n",
       "        text-align: right;\n",
       "    }\n",
       "</style>\n",
       "<table border=\"1\" class=\"dataframe\">\n",
       "  <thead>\n",
       "    <tr style=\"text-align: right;\">\n",
       "      <th></th>\n",
       "      <th>student</th>\n",
       "      <th>height_cm</th>\n",
       "    </tr>\n",
       "  </thead>\n",
       "  <tbody>\n",
       "    <tr>\n",
       "      <th>0</th>\n",
       "      <td>Max</td>\n",
       "      <td>170</td>\n",
       "    </tr>\n",
       "    <tr>\n",
       "      <th>1</th>\n",
       "      <td>Ahmed</td>\n",
       "      <td>165</td>\n",
       "    </tr>\n",
       "    <tr>\n",
       "      <th>2</th>\n",
       "      <td>Nastya</td>\n",
       "      <td>171</td>\n",
       "    </tr>\n",
       "    <tr>\n",
       "      <th>3</th>\n",
       "      <td>Vlad</td>\n",
       "      <td>168</td>\n",
       "    </tr>\n",
       "    <tr>\n",
       "      <th>4</th>\n",
       "      <td>Phil</td>\n",
       "      <td>210</td>\n",
       "    </tr>\n",
       "  </tbody>\n",
       "</table>\n",
       "</div>"
      ],
      "text/plain": [
       "  student  height_cm\n",
       "0     Max        170\n",
       "1   Ahmed        165\n",
       "2  Nastya        171\n",
       "3    Vlad        168\n",
       "4    Phil        210"
      ]
     },
     "execution_count": 47,
     "metadata": {},
     "output_type": "execute_result"
    }
   ],
   "source": [
    "students.loc[4] = ['Phil', 210]\n",
    "students"
   ]
  },
  {
   "cell_type": "code",
   "execution_count": 51,
   "id": "4163d3ee",
   "metadata": {},
   "outputs": [
    {
     "data": {
      "text/plain": [
       "0       Max\n",
       "1     Ahmed\n",
       "2    Nastya\n",
       "3      Vlad\n",
       "4      Phil\n",
       "Name: student, dtype: object"
      ]
     },
     "execution_count": 51,
     "metadata": {},
     "output_type": "execute_result"
    }
   ],
   "source": [
    "students.iloc[:, 0]"
   ]
  },
  {
   "cell_type": "code",
   "execution_count": 48,
   "id": "72104c07",
   "metadata": {},
   "outputs": [
    {
     "data": {
      "text/plain": [
       "176.8"
      ]
     },
     "execution_count": 48,
     "metadata": {},
     "output_type": "execute_result"
    }
   ],
   "source": [
    "students.height_cm.mean()"
   ]
  },
  {
   "cell_type": "markdown",
   "id": "fb196143",
   "metadata": {},
   "source": [
    "Видим, что значение среднего роста *сильно изменилось* из-за одного человека, имеющего неспецифичный (*аномальный*) рост для нашей выборки. Связано это с тем, что Филипп пришел к нам в класс *из другого распределения* $-$ распределения баскетболистов. Именно поэтому значение нашего среднего теперь *сильно завышено*, и мы таким образом можем собрать *ошибочную статистику*."
   ]
  },
  {
   "cell_type": "markdown",
   "id": "c2f83f30",
   "metadata": {},
   "source": [
    "Возможное решение: использовать для агрегированной статистики квантили (например, медиану)"
   ]
  },
  {
   "cell_type": "code",
   "execution_count": 296,
   "id": "1ddb7376",
   "metadata": {},
   "outputs": [
    {
     "data": {
      "text/plain": [
       "170.0"
      ]
     },
     "execution_count": 296,
     "metadata": {},
     "output_type": "execute_result"
    }
   ],
   "source": [
    "students.height_cm.median()"
   ]
  },
  {
   "cell_type": "markdown",
   "id": "b6b5b5f5",
   "metadata": {},
   "source": [
    "**ЗАПОМНИТЬ: Медиана в отличие от среднего устойчива к выбросам!**"
   ]
  },
  {
   "cell_type": "markdown",
   "id": "8d28da49",
   "metadata": {},
   "source": [
    "### Выявление и удаление выбросов на примере клипов:"
   ]
  },
  {
   "cell_type": "code",
   "execution_count": 53,
   "id": "82864b9c",
   "metadata": {},
   "outputs": [
    {
     "data": {
      "text/plain": [
       "5735.014482758608"
      ]
     },
     "execution_count": 53,
     "metadata": {},
     "output_type": "execute_result"
    }
   ],
   "source": [
    "df.likeCount.mean()"
   ]
  },
  {
   "cell_type": "code",
   "execution_count": 52,
   "id": "d48e19c6",
   "metadata": {},
   "outputs": [
    {
     "data": {
      "text/plain": [
       "106.0"
      ]
     },
     "execution_count": 52,
     "metadata": {},
     "output_type": "execute_result"
    }
   ],
   "source": [
    "df.likeCount.median()"
   ]
  },
  {
   "cell_type": "markdown",
   "id": "79a85686",
   "metadata": {},
   "source": [
    "Видим сильное завышение среднего по лайкам в отличие от медианы. Причина - аномалии. "
   ]
  },
  {
   "cell_type": "markdown",
   "id": "d9353a4a",
   "metadata": {},
   "source": [
    "На распределении виден длинный хвост:"
   ]
  },
  {
   "cell_type": "code",
   "execution_count": 299,
   "id": "cd522294",
   "metadata": {},
   "outputs": [
    {
     "data": {
      "image/png": "[encoded data removed]",
      "text/plain": [
       "<Figure size 432x288 with 1 Axes>"
      ]
     },
     "metadata": {
      "needs_background": "light"
     },
     "output_type": "display_data"
    }
   ],
   "source": [
    "df.likeCount.hist(bins=30);"
   ]
  },
  {
   "cell_type": "markdown",
   "id": "2b1b9aee",
   "metadata": {},
   "source": [
    "Если не особо виден, то можно посмотреть на лог шкалу:"
   ]
  },
  {
   "cell_type": "code",
   "execution_count": 54,
   "id": "6801f92a",
   "metadata": {},
   "outputs": [
    {
     "data": {
      "image/png": "[encoded data removed]",
      "text/plain": [
       "<Figure size 432x288 with 1 Axes>"
      ]
     },
     "metadata": {
      "needs_background": "light"
     },
     "output_type": "display_data"
    }
   ],
   "source": [
    "df.likeCount.hist(bins=30, log=True);"
   ]
  },
  {
   "cell_type": "code",
   "execution_count": null,
   "id": "9a5ee54e",
   "metadata": {},
   "outputs": [],
   "source": []
  },
  {
   "cell_type": "markdown",
   "id": "1e87f45c",
   "metadata": {},
   "source": [
    "То есть у нас в выборке есть клипы с аномальным кол-вом лайков - так называемые хиты. Они то нам и портят всю статистику.  \n",
    "\n",
    "Попробуем от них избавиться:\n",
    "\n",
    "**Способ №1:** Откинем $1\\%$ нашей выборки клипов, у которых больше всего лайков. Воспользуемся для этого $99\\%$ персентилем."
   ]
  },
  {
   "cell_type": "code",
   "execution_count": 55,
   "id": "2e795bcd",
   "metadata": {},
   "outputs": [
    {
     "data": {
      "text/plain": [
       "125029.85000000027"
      ]
     },
     "execution_count": 55,
     "metadata": {},
     "output_type": "execute_result"
    }
   ],
   "source": [
    "df.likeCount.quantile(0.99)"
   ]
  },
  {
   "cell_type": "code",
   "execution_count": 301,
   "id": "4ae0c62c",
   "metadata": {},
   "outputs": [
    {
     "data": {
      "image/png": "[encoded data removed]",
      "text/plain": [
       "<Figure size 432x288 with 1 Axes>"
      ]
     },
     "metadata": {
      "needs_background": "light"
     },
     "output_type": "display_data"
    }
   ],
   "source": [
    "threshold = df.likeCount.quantile(0.99)\n",
    "df_clear = df[df.likeCount <= threshold]\n",
    "\n",
    "# визуализируем\n",
    "df_clear.likeCount.hist(bins=30);"
   ]
  },
  {
   "cell_type": "markdown",
   "id": "81247f98",
   "metadata": {},
   "source": [
    "**Способ №2:** Считаем аномалиями все наблюдения, которые оказались за пределами трех межквартильных отклонений.  \n",
    "\n",
    "### Задача №8:\n",
    "\n",
    "Реализовать этот метод. Межквартильное отклонение - это разница между 25-м и 75-м перцентилями. "
   ]
  },
  {
   "cell_type": "code",
   "execution_count": 56,
   "id": "772ada81",
   "metadata": {},
   "outputs": [],
   "source": [
    "q1 = df.likeCount.quantile(0.25)\n",
    "q3 = df.likeCount.quantile(0.75)\n",
    "iqr = q3 - q1\n",
    "min_ = q1 - 1.5 * iqr\n",
    "max_ = q3 + 1.5 * iqr"
   ]
  },
  {
   "cell_type": "code",
   "execution_count": 59,
   "id": "bb2d2ed9",
   "metadata": {},
   "outputs": [
    {
     "data": {
      "text/html": [
       "<div>\n",
       "<style scoped>\n",
       "    .dataframe tbody tr th:only-of-type {\n",
       "        vertical-align: middle;\n",
       "    }\n",
       "\n",
       "    .dataframe tbody tr th {\n",
       "        vertical-align: top;\n",
       "    }\n",
       "\n",
       "    .dataframe thead th {\n",
       "        text-align: right;\n",
       "    }\n",
       "</style>\n",
       "<table border=\"1\" class=\"dataframe\">\n",
       "  <thead>\n",
       "    <tr style=\"text-align: right;\">\n",
       "      <th></th>\n",
       "      <th>title</th>\n",
       "      <th>commentCount</th>\n",
       "      <th>dislikeCount</th>\n",
       "      <th>likeCount</th>\n",
       "      <th>music_style</th>\n",
       "      <th>performer</th>\n",
       "      <th>viewCount</th>\n",
       "      <th>commentators_uniq</th>\n",
       "      <th>comments_obscene_cnt</th>\n",
       "      <th>video_age</th>\n",
       "      <th>music_style_int</th>\n",
       "    </tr>\n",
       "  </thead>\n",
       "  <tbody>\n",
       "    <tr>\n",
       "      <th>0</th>\n",
       "      <td>\"#2Маши \"Свободные линии\"</td>\n",
       "      <td>34.0</td>\n",
       "      <td>43.0</td>\n",
       "      <td>1402.0</td>\n",
       "      <td>popsa</td>\n",
       "      <td>2маши</td>\n",
       "      <td>214301.0</td>\n",
       "      <td>24.000000</td>\n",
       "      <td>0.000000</td>\n",
       "      <td>1141</td>\n",
       "      <td>0</td>\n",
       "    </tr>\n",
       "    <tr>\n",
       "      <th>2</th>\n",
       "      <td>\"EARTH SONG\"  SERGEY LAZAREV. DEDICATED TO MIC...</td>\n",
       "      <td>26.0</td>\n",
       "      <td>10.0</td>\n",
       "      <td>269.0</td>\n",
       "      <td>popsa</td>\n",
       "      <td>лазарев</td>\n",
       "      <td>40327.0</td>\n",
       "      <td>23.000000</td>\n",
       "      <td>0.000000</td>\n",
       "      <td>3546</td>\n",
       "      <td>0</td>\n",
       "    </tr>\n",
       "    <tr>\n",
       "      <th>3</th>\n",
       "      <td>\"Earth song\" премия МУЗ-тВ 2010 (LIVE)</td>\n",
       "      <td>12.0</td>\n",
       "      <td>7.0</td>\n",
       "      <td>163.0</td>\n",
       "      <td>popsa</td>\n",
       "      <td>лазарев</td>\n",
       "      <td>11907.0</td>\n",
       "      <td>11.000000</td>\n",
       "      <td>0.000000</td>\n",
       "      <td>3189</td>\n",
       "      <td>0</td>\n",
       "    </tr>\n",
       "    <tr>\n",
       "      <th>4</th>\n",
       "      <td>\"FAKE\" СЕРГЕЙ ЛАЗАРЕВ (SERGEY)</td>\n",
       "      <td>46.0</td>\n",
       "      <td>19.0</td>\n",
       "      <td>597.0</td>\n",
       "      <td>popsa</td>\n",
       "      <td>лазарев</td>\n",
       "      <td>91483.0</td>\n",
       "      <td>33.000000</td>\n",
       "      <td>1.000000</td>\n",
       "      <td>3361</td>\n",
       "      <td>0</td>\n",
       "    </tr>\n",
       "    <tr>\n",
       "      <th>5</th>\n",
       "      <td>\"Feelin High\" Сергей Лазарев Sergey Lazarev live</td>\n",
       "      <td>7.0</td>\n",
       "      <td>7.0</td>\n",
       "      <td>87.0</td>\n",
       "      <td>popsa</td>\n",
       "      <td>лазарев</td>\n",
       "      <td>9217.0</td>\n",
       "      <td>6.000000</td>\n",
       "      <td>0.000000</td>\n",
       "      <td>3179</td>\n",
       "      <td>0</td>\n",
       "    </tr>\n",
       "    <tr>\n",
       "      <th>...</th>\n",
       "      <td>...</td>\n",
       "      <td>...</td>\n",
       "      <td>...</td>\n",
       "      <td>...</td>\n",
       "      <td>...</td>\n",
       "      <td>...</td>\n",
       "      <td>...</td>\n",
       "      <td>...</td>\n",
       "      <td>...</td>\n",
       "      <td>...</td>\n",
       "      <td>...</td>\n",
       "    </tr>\n",
       "    <tr>\n",
       "      <th>19116</th>\n",
       "      <td>♫ Музыка Моцарта для детей (Mozart's music for...</td>\n",
       "      <td>41.0</td>\n",
       "      <td>142.0</td>\n",
       "      <td>914.0</td>\n",
       "      <td>classic</td>\n",
       "      <td>classical_channel</td>\n",
       "      <td>308721.0</td>\n",
       "      <td>22.000000</td>\n",
       "      <td>0.000000</td>\n",
       "      <td>1748</td>\n",
       "      <td>2</td>\n",
       "    </tr>\n",
       "    <tr>\n",
       "      <th>19118</th>\n",
       "      <td>♫♪ГОЛУБКА ♫♪ группа БУТЫРКА</td>\n",
       "      <td>1.0</td>\n",
       "      <td>1.0</td>\n",
       "      <td>46.0</td>\n",
       "      <td>shanson</td>\n",
       "      <td>бутырка</td>\n",
       "      <td>2704.0</td>\n",
       "      <td>131.594608</td>\n",
       "      <td>8.952899</td>\n",
       "      <td>49</td>\n",
       "      <td>5</td>\n",
       "    </tr>\n",
       "    <tr>\n",
       "      <th>19119</th>\n",
       "      <td>♫♪Мы расстаемся ♫♪  Бутырка new2019</td>\n",
       "      <td>2.0</td>\n",
       "      <td>0.0</td>\n",
       "      <td>11.0</td>\n",
       "      <td>shanson</td>\n",
       "      <td>бутырка</td>\n",
       "      <td>1107.0</td>\n",
       "      <td>131.594608</td>\n",
       "      <td>8.952899</td>\n",
       "      <td>44</td>\n",
       "      <td>5</td>\n",
       "    </tr>\n",
       "    <tr>\n",
       "      <th>19122</th>\n",
       "      <td>舞梅鬼   -  新年好宝贝 / Mumiy Troll - Happy New Year ...</td>\n",
       "      <td>59.0</td>\n",
       "      <td>10.0</td>\n",
       "      <td>260.0</td>\n",
       "      <td>rock</td>\n",
       "      <td>мумий_тролль</td>\n",
       "      <td>10147.0</td>\n",
       "      <td>19.000000</td>\n",
       "      <td>0.000000</td>\n",
       "      <td>997</td>\n",
       "      <td>1</td>\n",
       "    </tr>\n",
       "    <tr>\n",
       "      <th>19123</th>\n",
       "      <td>🎄#премьера песни!!! 2019г(вы не спешите говори...</td>\n",
       "      <td>1.0</td>\n",
       "      <td>0.0</td>\n",
       "      <td>22.0</td>\n",
       "      <td>shanson</td>\n",
       "      <td>бутырка</td>\n",
       "      <td>1566.0</td>\n",
       "      <td>131.594608</td>\n",
       "      <td>8.952899</td>\n",
       "      <td>65</td>\n",
       "      <td>5</td>\n",
       "    </tr>\n",
       "  </tbody>\n",
       "</table>\n",
       "<p>15717 rows × 11 columns</p>\n",
       "</div>"
      ],
      "text/plain": [
       "                                                   title  commentCount  \\\n",
       "0                              \"#2Маши \"Свободные линии\"          34.0   \n",
       "2      \"EARTH SONG\"  SERGEY LAZAREV. DEDICATED TO MIC...          26.0   \n",
       "3                 \"Earth song\" премия МУЗ-тВ 2010 (LIVE)          12.0   \n",
       "4                         \"FAKE\" СЕРГЕЙ ЛАЗАРЕВ (SERGEY)          46.0   \n",
       "5       \"Feelin High\" Сергей Лазарев Sergey Lazarev live           7.0   \n",
       "...                                                  ...           ...   \n",
       "19116  ♫ Музыка Моцарта для детей (Mozart's music for...          41.0   \n",
       "19118                        ♫♪ГОЛУБКА ♫♪ группа БУТЫРКА           1.0   \n",
       "19119                ♫♪Мы расстаемся ♫♪  Бутырка new2019           2.0   \n",
       "19122  舞梅鬼   -  新年好宝贝 / Mumiy Troll - Happy New Year ...          59.0   \n",
       "19123  🎄#премьера песни!!! 2019г(вы не спешите говори...           1.0   \n",
       "\n",
       "       dislikeCount  likeCount music_style          performer  viewCount  \\\n",
       "0              43.0     1402.0       popsa              2маши   214301.0   \n",
       "2              10.0      269.0       popsa            лазарев    40327.0   \n",
       "3               7.0      163.0       popsa            лазарев    11907.0   \n",
       "4              19.0      597.0       popsa            лазарев    91483.0   \n",
       "5               7.0       87.0       popsa            лазарев     9217.0   \n",
       "...             ...        ...         ...                ...        ...   \n",
       "19116         142.0      914.0     classic  classical_channel   308721.0   \n",
       "19118           1.0       46.0     shanson            бутырка     2704.0   \n",
       "19119           0.0       11.0     shanson            бутырка     1107.0   \n",
       "19122          10.0      260.0        rock       мумий_тролль    10147.0   \n",
       "19123           0.0       22.0     shanson            бутырка     1566.0   \n",
       "\n",
       "       commentators_uniq  comments_obscene_cnt  video_age  music_style_int  \n",
       "0              24.000000              0.000000       1141                0  \n",
       "2              23.000000              0.000000       3546                0  \n",
       "3              11.000000              0.000000       3189                0  \n",
       "4              33.000000              1.000000       3361                0  \n",
       "5               6.000000              0.000000       3179                0  \n",
       "...                  ...                   ...        ...              ...  \n",
       "19116          22.000000              0.000000       1748                2  \n",
       "19118         131.594608              8.952899         49                5  \n",
       "19119         131.594608              8.952899         44                5  \n",
       "19122          19.000000              0.000000        997                1  \n",
       "19123         131.594608              8.952899         65                5  \n",
       "\n",
       "[15717 rows x 11 columns]"
      ]
     },
     "execution_count": 59,
     "metadata": {},
     "output_type": "execute_result"
    }
   ],
   "source": [
    "df[df.likeCount <= max_]"
   ]
  },
  {
   "cell_type": "markdown",
   "id": "02325d43",
   "metadata": {},
   "source": [
    "Стоит отметить, что иногда искать аномалии требуется не только для обработки данных. Порой, поиск аномалий $-$ это и есть задача. Так, например, аномалиями являются мошенники банка, чье поведение отличается от обычных пользователей. И поиск таких людей и является нашей задачей. "
   ]
  }
 ],
 "metadata": {
  "kernelspec": {
   "display_name": "Python 3 (ipykernel)",
   "language": "python",
   "name": "python3"
  },
  "language_info": {
   "codemirror_mode": {
    "name": "ipython",
    "version": 3
   },
   "file_extension": ".py",
   "mimetype": "text/x-python",
   "name": "python",
   "nbconvert_exporter": "python",
   "pygments_lexer": "ipython3",
   "version": "3.10.2"
  },
  "toc": {
   "base_numbering": 1,
   "nav_menu": {},
   "number_sections": true,
   "sideBar": true,
   "skip_h1_title": false,
   "title_cell": "Table of Contents",
   "title_sidebar": "Contents",
   "toc_cell": false,
   "toc_position": {},
   "toc_section_display": true,
   "toc_window_display": true
  },
  "varInspector": {
   "cols": {
    "lenName": 16,
    "lenType": 16,
    "lenVar": 40
   },
   "kernels_config": {
    "python": {
     "delete_cmd_postfix": "",
     "delete_cmd_prefix": "del ",
     "library": "var_list.py",
     "varRefreshCmd": "print(var_dic_list())"
    },
    "r": {
     "delete_cmd_postfix": ") ",
     "delete_cmd_prefix": "rm(",
     "library": "var_list.r",
     "varRefreshCmd": "cat(var_dic_list()) "
    }
   },
   "types_to_exclude": [
    "module",
    "function",
    "builtin_function_or_method",
    "instance",
    "_Feature"
   ],
   "window_display": false
  }
 },
 "nbformat": 4,
 "nbformat_minor": 5
}
