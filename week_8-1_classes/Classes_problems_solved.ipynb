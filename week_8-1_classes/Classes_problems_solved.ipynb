{
 "cells": [
  {
   "cell_type": "markdown",
   "metadata": {},
   "source": [
    "## Классы\n",
    "Классы в питоне - это способ работать с объектом у которого необходимо иметь состояние. Как правило, вам необходимо с этим состоянием как-то работать: модифицировать или узнавать что-то. Для этого в классах используются методы: особые функции, которые имеют доступ к содержимому вашего объекта."
   ]
  },
  {
   "cell_type": "markdown",
   "metadata": {},
   "source": [
    "Рассмотрим пример. Предположим у вас есть сеть отелей. И вам было бы очень удобно работать с отелем, кок отдельным объектом. Что является состоянием отеля? Для простоты предположим, что только информация о заполненных/свободных номерах. Тогда мы можем описать отель следующим образом:\n",
    "\n",
    "```python\n",
    "class Hotel:\n",
    "    def __init__(self, num_of_rooms):\n",
    "        self.rooms = [0 for _ in range(num_of_rooms)]\n",
    "```\n",
    "\n",
    "При создании объекта `Hotel` ему нужно будет передать количество комнат в этом отеле. Информацию о свободных и занятых комнатах мы будем хранить в массиве длины `num_of_rooms`, где 0 - комната свободна, 1 - комната занята.\n",
    "\n",
    "Какие функции помощники нам нужны? Мы бы наверное хотели уметь занимать комнаты (когда кто-то въезжает) и освобждать. Для этого напишем два метода `occupy` и `realize`.\n",
    "\n",
    "```python\n",
    "class Hotel:\n",
    "    def __init__(self, num_of_rooms):\n",
    "        self.rooms = [0 for _ in range(num_of_rooms)]\n",
    "        \n",
    "    def occupy(self, room_id):\n",
    "        self.rooms[room_id] = 1\n",
    "        \n",
    "    def free(self, room_id):\n",
    "        self.rooms[room_id] = 0\n",
    "```\n",
    "\n",
    "Отлично, теперь мы можем выполнять элементарные действия с нашим классом. Попробуйте создать класс и занять несколько комнат."
   ]
  },
  {
   "cell_type": "code",
   "execution_count": 28,
   "metadata": {},
   "outputs": [],
   "source": [
    "class Hotel:\n",
    "    def __init__(self, num_of_rooms):\n",
    "        self.rooms = [0 for _ in range(num_of_rooms)]\n",
    "        \n",
    "    def occupy(self, room_id):\n",
    "        self.rooms[room_id] = 1\n",
    "        \n",
    "    def free(self, room_id):\n",
    "        self.rooms[room_id] = 0"
   ]
  },
  {
   "cell_type": "code",
   "execution_count": 7,
   "metadata": {},
   "outputs": [],
   "source": [
    "# создадим переменную, в которой будем хранить записи для отеля с 10 комнатами\n",
    "hotel = Hotel(num_of_rooms=10)"
   ]
  },
  {
   "cell_type": "code",
   "execution_count": 8,
   "metadata": {},
   "outputs": [
    {
     "data": {
      "text/plain": [
       "<__main__.Hotel at 0x10edcc748>"
      ]
     },
     "execution_count": 8,
     "metadata": {},
     "output_type": "execute_result"
    }
   ],
   "source": [
    "hotel"
   ]
  },
  {
   "cell_type": "code",
   "execution_count": 11,
   "metadata": {},
   "outputs": [],
   "source": [
    "# к нам приехали гости в комнаты 3 и 6\n",
    "hotel.occupy(3) # заселим гостей в номер 3"
   ]
  },
  {
   "cell_type": "code",
   "execution_count": 10,
   "metadata": {},
   "outputs": [
    {
     "data": {
      "text/plain": [
       "[0, 0, 0, 1, 0, 0, 0, 0, 0, 0]"
      ]
     },
     "execution_count": 10,
     "metadata": {},
     "output_type": "execute_result"
    }
   ],
   "source": [
    "hotel.rooms"
   ]
  },
  {
   "cell_type": "code",
   "execution_count": 12,
   "metadata": {},
   "outputs": [],
   "source": [
    "hotel.occupy(6) # заселили гостей в номер 6"
   ]
  },
  {
   "cell_type": "code",
   "execution_count": 13,
   "metadata": {},
   "outputs": [
    {
     "data": {
      "text/plain": [
       "[0, 0, 0, 1, 0, 0, 1, 0, 0, 0]"
      ]
     },
     "execution_count": 13,
     "metadata": {},
     "output_type": "execute_result"
    }
   ],
   "source": [
    "hotel.rooms"
   ]
  },
  {
   "cell_type": "code",
   "execution_count": 14,
   "metadata": {},
   "outputs": [],
   "source": [
    "# гости из комнаты 3 уехали\n",
    "hotel.free(3)"
   ]
  },
  {
   "cell_type": "code",
   "execution_count": 15,
   "metadata": {},
   "outputs": [
    {
     "data": {
      "text/plain": [
       "[0, 0, 0, 0, 0, 0, 1, 0, 0, 0]"
      ]
     },
     "execution_count": 15,
     "metadata": {},
     "output_type": "execute_result"
    }
   ],
   "source": [
    "hotel.rooms"
   ]
  },
  {
   "cell_type": "markdown",
   "metadata": {},
   "source": [
    "Зачем нам нужны классы? Ведь можно было написать функцию\n",
    "```python\n",
    "def occupy(rooms, room_id):\n",
    "    rooms[room_id] = 1\n",
    "    return rooms\n",
    "```\n",
    "\n",
    "Плюс работы с объектами в том, что тем, кто пользуются нашим классом (включая нас самих) не нужно думать о том, как мы реализовали хранение комнат. Если в какой-то момент мы захотим изменить `list` на `dict` (например мы заметили, что так быстрее), никто ничего не заметит. Код пользователей не изменится. Тоже самое касается функциональности - если мы вдруг решили, что нам нужно добавить бронирование на дату, мы можем это сделать и те кто уже пользуются нашим классом - ничего не заметят. У них ничего не сломается. А это очень важно."
   ]
  },
  {
   "cell_type": "markdown",
   "metadata": {},
   "source": [
    "# Задание 1\n",
    "\n",
    "Допишите несколько методов в класс `Hotel`.\n",
    "\n",
    "Напишите метод `occupancy_rate`. Метод должен возвращать долю комнат, которые заняты.\n",
    "\n",
    "Напишите метод `close`. Метод должен освобождать все комнаты. Если `occupancy_rate` написан корректно, то после `close` `occupancy_rate` должен возвращать 0."
   ]
  },
  {
   "cell_type": "code",
   "execution_count": 56,
   "metadata": {},
   "outputs": [],
   "source": [
    "class Hotel:\n",
    "    def __init__(self, num_of_rooms):\n",
    "        self.rooms = [0 for _ in range(num_of_rooms)]\n",
    "        self.num_of_rooms = num_of_rooms # !\n",
    "        \n",
    "    def occupy(self, room_id):\n",
    "        self.rooms[room_id] = 1\n",
    "        \n",
    "    def free(self, room_id):\n",
    "        self.rooms[room_id] = 0\n",
    "        \n",
    "    def occupy_rate(self):\n",
    "        return sum(self.rooms) / self.num_of_rooms\n",
    "    \n",
    "    def close(self):\n",
    "        for room_id in range(self.num_of_rooms):\n",
    "            self.free(room_id)"
   ]
  },
  {
   "cell_type": "code",
   "execution_count": 57,
   "metadata": {},
   "outputs": [],
   "source": [
    "hotel = Hotel(num_of_rooms=10)\n",
    "hotel.occupy(3) \n",
    "hotel.occupy(7)"
   ]
  },
  {
   "cell_type": "code",
   "execution_count": 58,
   "metadata": {},
   "outputs": [
    {
     "data": {
      "text/plain": [
       "[0, 0, 0, 1, 0, 0, 0, 1, 0, 0]"
      ]
     },
     "execution_count": 58,
     "metadata": {},
     "output_type": "execute_result"
    }
   ],
   "source": [
    "hotel.rooms"
   ]
  },
  {
   "cell_type": "code",
   "execution_count": 59,
   "metadata": {},
   "outputs": [
    {
     "data": {
      "text/plain": [
       "0.2"
      ]
     },
     "execution_count": 59,
     "metadata": {},
     "output_type": "execute_result"
    }
   ],
   "source": [
    "hotel.occupy_rate()"
   ]
  },
  {
   "cell_type": "code",
   "execution_count": 60,
   "metadata": {},
   "outputs": [],
   "source": [
    "hotel.close()"
   ]
  },
  {
   "cell_type": "code",
   "execution_count": 61,
   "metadata": {},
   "outputs": [
    {
     "data": {
      "text/plain": [
       "0.0"
      ]
     },
     "execution_count": 61,
     "metadata": {},
     "output_type": "execute_result"
    }
   ],
   "source": [
    "hotel.occupy_rate()"
   ]
  },
  {
   "cell_type": "markdown",
   "metadata": {},
   "source": [
    "# Задание 2\n",
    "Мы хотим, чтобы пользователь нашего класса не натворил глупостей. Например, не пытался занять уже занятую комнату. Допишите методы `occupy` и `free`. Проверьте внутри них, что состояние комнаты действительно меняется. Иначе вы должны бросить исключение с понятным текстом.\n",
    "\n",
    "Напоминаю, что исключение - это такая конструкция, когда программа завершает работу из некоторой точки. Как правило в случае появления ошибки.\n",
    "Синтаксис\n",
    "```python\n",
    "raise RuntimeError(\"Bad news\")\n",
    "```"
   ]
  },
  {
   "cell_type": "code",
   "execution_count": 1,
   "metadata": {},
   "outputs": [],
   "source": [
    "class Hotel:\n",
    "    def __init__(self, num_of_rooms):\n",
    "        self.rooms = [0 for _ in range(num_of_rooms)]\n",
    "        self.num_of_rooms = num_of_rooms \n",
    "        \n",
    "    def occupy(self, room_id):\n",
    "        if self.rooms[room_id] == 0:\n",
    "            self.rooms[room_id] = 1\n",
    "        else:\n",
    "            raise RuntimeError(\"Bad news\")\n",
    "        \n",
    "    def free(self, room_id):\n",
    "        assert self.rooms[room_id] == 1\n",
    "        self.rooms[room_id] = 0\n",
    "        \n",
    "    def occupy_rate(self):\n",
    "        return sum(self.rooms) / self.num_of_rooms\n",
    "    \n",
    "    def close(self):\n",
    "        for room_id in range(self.num_of_rooms):\n",
    "            self.free(room_id)"
   ]
  },
  {
   "cell_type": "code",
   "execution_count": 2,
   "metadata": {},
   "outputs": [],
   "source": [
    "hotel = Hotel(num_of_rooms=10)\n",
    "hotel.occupy(3) \n",
    "hotel.occupy(7)"
   ]
  },
  {
   "cell_type": "code",
   "execution_count": 3,
   "metadata": {},
   "outputs": [
    {
     "data": {
      "text/plain": [
       "[0, 0, 0, 1, 0, 0, 0, 1, 0, 0]"
      ]
     },
     "execution_count": 3,
     "metadata": {},
     "output_type": "execute_result"
    }
   ],
   "source": [
    "hotel.rooms"
   ]
  },
  {
   "cell_type": "code",
   "execution_count": 5,
   "metadata": {},
   "outputs": [
    {
     "ename": "RuntimeError",
     "evalue": "Bad news",
     "output_type": "error",
     "traceback": [
      "\u001b[0;31m---------------------------------------------------------------------------\u001b[0m",
      "\u001b[0;31mRuntimeError\u001b[0m                              Traceback (most recent call last)",
      "\u001b[0;32m<ipython-input-5-00c5e2abbc5a>\u001b[0m in \u001b[0;36m<module>\u001b[0;34m\u001b[0m\n\u001b[0;32m----> 1\u001b[0;31m \u001b[0mhotel\u001b[0m\u001b[0;34m.\u001b[0m\u001b[0moccupy\u001b[0m\u001b[0;34m(\u001b[0m\u001b[0;36m3\u001b[0m\u001b[0;34m)\u001b[0m \u001b[0;31m# попробуем заселить гостей в уже занятую комнату\u001b[0m\u001b[0;34m\u001b[0m\u001b[0;34m\u001b[0m\u001b[0m\n\u001b[0m",
      "\u001b[0;32m<ipython-input-1-b7d650161474>\u001b[0m in \u001b[0;36moccupy\u001b[0;34m(self, room_id)\u001b[0m\n\u001b[1;32m      8\u001b[0m             \u001b[0mself\u001b[0m\u001b[0;34m.\u001b[0m\u001b[0mrooms\u001b[0m\u001b[0;34m[\u001b[0m\u001b[0mroom_id\u001b[0m\u001b[0;34m]\u001b[0m \u001b[0;34m=\u001b[0m \u001b[0;36m1\u001b[0m\u001b[0;34m\u001b[0m\u001b[0;34m\u001b[0m\u001b[0m\n\u001b[1;32m      9\u001b[0m         \u001b[0;32melse\u001b[0m\u001b[0;34m:\u001b[0m\u001b[0;34m\u001b[0m\u001b[0;34m\u001b[0m\u001b[0m\n\u001b[0;32m---> 10\u001b[0;31m             \u001b[0;32mraise\u001b[0m \u001b[0mRuntimeError\u001b[0m\u001b[0;34m(\u001b[0m\u001b[0;34m\"Bad news\"\u001b[0m\u001b[0;34m)\u001b[0m\u001b[0;34m\u001b[0m\u001b[0;34m\u001b[0m\u001b[0m\n\u001b[0m\u001b[1;32m     11\u001b[0m \u001b[0;34m\u001b[0m\u001b[0m\n\u001b[1;32m     12\u001b[0m     \u001b[0;32mdef\u001b[0m \u001b[0mfree\u001b[0m\u001b[0;34m(\u001b[0m\u001b[0mself\u001b[0m\u001b[0;34m,\u001b[0m \u001b[0mroom_id\u001b[0m\u001b[0;34m)\u001b[0m\u001b[0;34m:\u001b[0m\u001b[0;34m\u001b[0m\u001b[0;34m\u001b[0m\u001b[0m\n",
      "\u001b[0;31mRuntimeError\u001b[0m: Bad news"
     ]
    }
   ],
   "source": [
    "hotel.occupy(3) # попробуем заселить гостей в уже занятую комнату"
   ]
  },
  {
   "cell_type": "code",
   "execution_count": 6,
   "metadata": {},
   "outputs": [
    {
     "ename": "AssertionError",
     "evalue": "",
     "output_type": "error",
     "traceback": [
      "\u001b[0;31m---------------------------------------------------------------------------\u001b[0m",
      "\u001b[0;31mAssertionError\u001b[0m                            Traceback (most recent call last)",
      "\u001b[0;32m<ipython-input-6-c2ceefea35d2>\u001b[0m in \u001b[0;36m<module>\u001b[0;34m\u001b[0m\n\u001b[0;32m----> 1\u001b[0;31m \u001b[0mhotel\u001b[0m\u001b[0;34m.\u001b[0m\u001b[0mfree\u001b[0m\u001b[0;34m(\u001b[0m\u001b[0;36m4\u001b[0m\u001b[0;34m)\u001b[0m\u001b[0;34m\u001b[0m\u001b[0;34m\u001b[0m\u001b[0m\n\u001b[0m",
      "\u001b[0;32m<ipython-input-1-b7d650161474>\u001b[0m in \u001b[0;36mfree\u001b[0;34m(self, room_id)\u001b[0m\n\u001b[1;32m     11\u001b[0m \u001b[0;34m\u001b[0m\u001b[0m\n\u001b[1;32m     12\u001b[0m     \u001b[0;32mdef\u001b[0m \u001b[0mfree\u001b[0m\u001b[0;34m(\u001b[0m\u001b[0mself\u001b[0m\u001b[0;34m,\u001b[0m \u001b[0mroom_id\u001b[0m\u001b[0;34m)\u001b[0m\u001b[0;34m:\u001b[0m\u001b[0;34m\u001b[0m\u001b[0;34m\u001b[0m\u001b[0m\n\u001b[0;32m---> 13\u001b[0;31m         \u001b[0;32massert\u001b[0m \u001b[0mself\u001b[0m\u001b[0;34m.\u001b[0m\u001b[0mrooms\u001b[0m\u001b[0;34m[\u001b[0m\u001b[0mroom_id\u001b[0m\u001b[0;34m]\u001b[0m \u001b[0;34m==\u001b[0m \u001b[0;36m1\u001b[0m\u001b[0;34m\u001b[0m\u001b[0;34m\u001b[0m\u001b[0m\n\u001b[0m\u001b[1;32m     14\u001b[0m         \u001b[0mself\u001b[0m\u001b[0;34m.\u001b[0m\u001b[0mrooms\u001b[0m\u001b[0;34m[\u001b[0m\u001b[0mroom_id\u001b[0m\u001b[0;34m]\u001b[0m \u001b[0;34m=\u001b[0m \u001b[0;36m0\u001b[0m\u001b[0;34m\u001b[0m\u001b[0;34m\u001b[0m\u001b[0m\n\u001b[1;32m     15\u001b[0m \u001b[0;34m\u001b[0m\u001b[0m\n",
      "\u001b[0;31mAssertionError\u001b[0m: "
     ]
    }
   ],
   "source": [
    "hotel.free(4)"
   ]
  },
  {
   "cell_type": "code",
   "execution_count": null,
   "metadata": {},
   "outputs": [],
   "source": []
  },
  {
   "cell_type": "code",
   "execution_count": 95,
   "metadata": {},
   "outputs": [],
   "source": [
    "# комната 7 уже занята, попробуем ее освободить\n",
    "hotel.free(7)"
   ]
  },
  {
   "cell_type": "code",
   "execution_count": 96,
   "metadata": {},
   "outputs": [
    {
     "data": {
      "text/plain": [
       "[0, 0, 0, 1, 0, 0, 0, 0, 0, 0]"
      ]
     },
     "execution_count": 96,
     "metadata": {},
     "output_type": "execute_result"
    }
   ],
   "source": [
    "hotel.rooms"
   ]
  },
  {
   "cell_type": "code",
   "execution_count": 97,
   "metadata": {},
   "outputs": [
    {
     "ename": "AssertionError",
     "evalue": "",
     "output_type": "error",
     "traceback": [
      "\u001b[0;31m---------------------------------------------------------------------------\u001b[0m",
      "\u001b[0;31mAssertionError\u001b[0m                            Traceback (most recent call last)",
      "\u001b[0;32m<ipython-input-97-68e71d92f666>\u001b[0m in \u001b[0;36m<module>\u001b[0;34m\u001b[0m\n\u001b[1;32m      1\u001b[0m \u001b[0;31m# комната 7 теперь свободна. что будет, если снова ее освободить (хотя она уже пустая?)\u001b[0m\u001b[0;34m\u001b[0m\u001b[0;34m\u001b[0m\u001b[0m\n\u001b[0;32m----> 2\u001b[0;31m \u001b[0mhotel\u001b[0m\u001b[0;34m.\u001b[0m\u001b[0mfree\u001b[0m\u001b[0;34m(\u001b[0m\u001b[0;36m7\u001b[0m\u001b[0;34m)\u001b[0m\u001b[0;34m\u001b[0m\u001b[0m\n\u001b[0m",
      "\u001b[0;32m<ipython-input-91-d37c13201f7c>\u001b[0m in \u001b[0;36mfree\u001b[0;34m(self, room_id)\u001b[0m\n\u001b[1;32m     11\u001b[0m \u001b[0;34m\u001b[0m\u001b[0m\n\u001b[1;32m     12\u001b[0m     \u001b[0;32mdef\u001b[0m \u001b[0mfree\u001b[0m\u001b[0;34m(\u001b[0m\u001b[0mself\u001b[0m\u001b[0;34m,\u001b[0m \u001b[0mroom_id\u001b[0m\u001b[0;34m)\u001b[0m\u001b[0;34m:\u001b[0m\u001b[0;34m\u001b[0m\u001b[0m\n\u001b[0;32m---> 13\u001b[0;31m         \u001b[0;32massert\u001b[0m \u001b[0mself\u001b[0m\u001b[0;34m.\u001b[0m\u001b[0mrooms\u001b[0m\u001b[0;34m[\u001b[0m\u001b[0mroom_id\u001b[0m\u001b[0;34m]\u001b[0m \u001b[0;34m==\u001b[0m \u001b[0;36m1\u001b[0m\u001b[0;34m\u001b[0m\u001b[0m\n\u001b[0m\u001b[1;32m     14\u001b[0m         \u001b[0mself\u001b[0m\u001b[0;34m.\u001b[0m\u001b[0mrooms\u001b[0m\u001b[0;34m[\u001b[0m\u001b[0mroom_id\u001b[0m\u001b[0;34m]\u001b[0m \u001b[0;34m=\u001b[0m \u001b[0;36m0\u001b[0m\u001b[0;34m\u001b[0m\u001b[0m\n\u001b[1;32m     15\u001b[0m \u001b[0;34m\u001b[0m\u001b[0m\n",
      "\u001b[0;31mAssertionError\u001b[0m: "
     ]
    }
   ],
   "source": [
    "# комната 7 теперь свободна. что будет, если снова ее освободить (хотя она уже пустая?)\n",
    "hotel.free(7)"
   ]
  },
  {
   "cell_type": "markdown",
   "metadata": {},
   "source": [
    "# Задание 3\n",
    "Добавьте возможность бронировать номера. Метод назовем `book(self, date, room_id)`. На вход приходит дата и номер комнаты и она становится занята. Если бронь не удалась, бросьте исключение. Перед бронью убедитесь, что комната свободна. Для этого напишите метод `is_booked(self, date, room_id)`. "
   ]
  },
  {
   "cell_type": "code",
   "execution_count": 7,
   "metadata": {},
   "outputs": [],
   "source": [
    "class Hotel:\n",
    "    def __init__(self, num_of_rooms):\n",
    "        self.rooms = [0 for _ in range(num_of_rooms)]\n",
    "        self.num_of_rooms = num_of_rooms \n",
    "        self.booked_rooms = {} #!\n",
    "        \n",
    "    def occupy(self, room_id):\n",
    "        if self.rooms[room_id] == 0:\n",
    "            self.rooms[room_id] = 1\n",
    "        else:\n",
    "            raise RuntimeError(\"Bad news\")\n",
    "        \n",
    "    def free(self, room_id):\n",
    "        assert self.rooms[room_id] == 1\n",
    "        self.rooms[room_id] = 0\n",
    "        \n",
    "    def occupy_rate(self):\n",
    "        return sum(self.rooms) / self.num_of_rooms\n",
    "    \n",
    "    def close(self):\n",
    "        for room_id in range(self.num_of_rooms):\n",
    "            self.free(room_id)\n",
    "            \n",
    "    def is_booked(self, date, room_id): # проверим, что комната забронирована\n",
    "        if date in self.booked_rooms.keys():\n",
    "            return room_id in self.booked_rooms[date]\n",
    "        else:\n",
    "            return False\n",
    "            \n",
    "    def book(self, date, room_id):\n",
    "        if Hotel.is_booked(self, date, room_id):\n",
    "            raise RuntimeError(\"Bad news\")\n",
    "        elif date in self.booked_rooms.keys():\n",
    "            self.booked_rooms[date].append(room_id)\n",
    "        else:\n",
    "            self.booked_rooms[date] = [room_id]"
   ]
  },
  {
   "cell_type": "code",
   "execution_count": 8,
   "metadata": {},
   "outputs": [],
   "source": [
    "hotel = Hotel(num_of_rooms=10)\n",
    "hotel.occupy(3) \n",
    "hotel.occupy(7)"
   ]
  },
  {
   "cell_type": "code",
   "execution_count": 9,
   "metadata": {},
   "outputs": [],
   "source": [
    "hotel.book('13.03.2020', 9)"
   ]
  },
  {
   "cell_type": "code",
   "execution_count": 11,
   "metadata": {},
   "outputs": [
    {
     "data": {
      "text/plain": [
       "True"
      ]
     },
     "execution_count": 11,
     "metadata": {},
     "output_type": "execute_result"
    }
   ],
   "source": [
    "hotel.is_booked('13.03.2020', 9)"
   ]
  },
  {
   "cell_type": "code",
   "execution_count": 12,
   "metadata": {},
   "outputs": [
    {
     "data": {
      "text/plain": [
       "False"
      ]
     },
     "execution_count": 12,
     "metadata": {},
     "output_type": "execute_result"
    }
   ],
   "source": [
    "hotel.is_booked('14.03.2020', 9)"
   ]
  },
  {
   "cell_type": "code",
   "execution_count": 147,
   "metadata": {},
   "outputs": [
    {
     "data": {
      "text/plain": [
       "{'13.03.2020': [9]}"
      ]
     },
     "execution_count": 147,
     "metadata": {},
     "output_type": "execute_result"
    }
   ],
   "source": [
    "hotel.booked_rooms"
   ]
  },
  {
   "cell_type": "code",
   "execution_count": 13,
   "metadata": {
    "scrolled": true
   },
   "outputs": [
    {
     "ename": "RuntimeError",
     "evalue": "Bad news",
     "output_type": "error",
     "traceback": [
      "\u001b[0;31m---------------------------------------------------------------------------\u001b[0m",
      "\u001b[0;31mRuntimeError\u001b[0m                              Traceback (most recent call last)",
      "\u001b[0;32m<ipython-input-13-a31f31a26755>\u001b[0m in \u001b[0;36m<module>\u001b[0;34m\u001b[0m\n\u001b[0;32m----> 1\u001b[0;31m \u001b[0mhotel\u001b[0m\u001b[0;34m.\u001b[0m\u001b[0mbook\u001b[0m\u001b[0;34m(\u001b[0m\u001b[0;34m'13.03.2020'\u001b[0m\u001b[0;34m,\u001b[0m \u001b[0;36m9\u001b[0m\u001b[0;34m)\u001b[0m\u001b[0;34m\u001b[0m\u001b[0;34m\u001b[0m\u001b[0m\n\u001b[0m",
      "\u001b[0;32m<ipython-input-7-5d4c5fcd486e>\u001b[0m in \u001b[0;36mbook\u001b[0;34m(self, date, room_id)\u001b[0m\n\u001b[1;32m     30\u001b[0m     \u001b[0;32mdef\u001b[0m \u001b[0mbook\u001b[0m\u001b[0;34m(\u001b[0m\u001b[0mself\u001b[0m\u001b[0;34m,\u001b[0m \u001b[0mdate\u001b[0m\u001b[0;34m,\u001b[0m \u001b[0mroom_id\u001b[0m\u001b[0;34m)\u001b[0m\u001b[0;34m:\u001b[0m\u001b[0;34m\u001b[0m\u001b[0;34m\u001b[0m\u001b[0m\n\u001b[1;32m     31\u001b[0m         \u001b[0;32mif\u001b[0m \u001b[0mHotel\u001b[0m\u001b[0;34m.\u001b[0m\u001b[0mis_booked\u001b[0m\u001b[0;34m(\u001b[0m\u001b[0mself\u001b[0m\u001b[0;34m,\u001b[0m \u001b[0mdate\u001b[0m\u001b[0;34m,\u001b[0m \u001b[0mroom_id\u001b[0m\u001b[0;34m)\u001b[0m\u001b[0;34m:\u001b[0m\u001b[0;34m\u001b[0m\u001b[0;34m\u001b[0m\u001b[0m\n\u001b[0;32m---> 32\u001b[0;31m             \u001b[0;32mraise\u001b[0m \u001b[0mRuntimeError\u001b[0m\u001b[0;34m(\u001b[0m\u001b[0;34m\"Bad news\"\u001b[0m\u001b[0;34m)\u001b[0m\u001b[0;34m\u001b[0m\u001b[0;34m\u001b[0m\u001b[0m\n\u001b[0m\u001b[1;32m     33\u001b[0m         \u001b[0;32melif\u001b[0m \u001b[0mdate\u001b[0m \u001b[0;32min\u001b[0m \u001b[0mself\u001b[0m\u001b[0;34m.\u001b[0m\u001b[0mbooked_rooms\u001b[0m\u001b[0;34m.\u001b[0m\u001b[0mkeys\u001b[0m\u001b[0;34m(\u001b[0m\u001b[0;34m)\u001b[0m\u001b[0;34m:\u001b[0m\u001b[0;34m\u001b[0m\u001b[0;34m\u001b[0m\u001b[0m\n\u001b[1;32m     34\u001b[0m             \u001b[0mself\u001b[0m\u001b[0;34m.\u001b[0m\u001b[0mbooked_rooms\u001b[0m\u001b[0;34m[\u001b[0m\u001b[0mdate\u001b[0m\u001b[0;34m]\u001b[0m\u001b[0;34m.\u001b[0m\u001b[0mappend\u001b[0m\u001b[0;34m(\u001b[0m\u001b[0mroom_id\u001b[0m\u001b[0;34m)\u001b[0m\u001b[0;34m\u001b[0m\u001b[0;34m\u001b[0m\u001b[0m\n",
      "\u001b[0;31mRuntimeError\u001b[0m: Bad news"
     ]
    }
   ],
   "source": [
    "hotel.book('13.03.2020', 9)"
   ]
  },
  {
   "cell_type": "code",
   "execution_count": 14,
   "metadata": {},
   "outputs": [],
   "source": [
    "hotel.book('13.03.2020', 8)"
   ]
  },
  {
   "cell_type": "code",
   "execution_count": 15,
   "metadata": {},
   "outputs": [
    {
     "data": {
      "text/plain": [
       "{'13.03.2020': [9, 8]}"
      ]
     },
     "execution_count": 15,
     "metadata": {},
     "output_type": "execute_result"
    }
   ],
   "source": [
    "hotel.booked_rooms"
   ]
  },
  {
   "cell_type": "code",
   "execution_count": 16,
   "metadata": {},
   "outputs": [],
   "source": [
    "hotel.book('20.03.2020', 8)"
   ]
  },
  {
   "cell_type": "code",
   "execution_count": 17,
   "metadata": {},
   "outputs": [
    {
     "data": {
      "text/plain": [
       "{'13.03.2020': [9, 8], '20.03.2020': [8]}"
      ]
     },
     "execution_count": 17,
     "metadata": {},
     "output_type": "execute_result"
    }
   ],
   "source": [
    "hotel.booked_rooms"
   ]
  },
  {
   "cell_type": "markdown",
   "metadata": {},
   "source": [
    "# Задание 4\n",
    "Мы, как отель, хотим знать свою выручку на какой-то день. Напишите метод `income(self, date)`. Он должен возвращать количество денег, которое заработает отель в этот день. Представим, что стоймость всех комнат одинакова и равна 200$."
   ]
  },
  {
   "cell_type": "code",
   "execution_count": 18,
   "metadata": {},
   "outputs": [],
   "source": [
    "class Hotel:\n",
    "    def __init__(self, num_of_rooms):\n",
    "        self.rooms = [0 for _ in range(num_of_rooms)]\n",
    "        self.num_of_rooms = num_of_rooms \n",
    "        self.booked_rooms = {} #!\n",
    "        \n",
    "    def occupy(self, room_id):\n",
    "        if self.rooms[room_id] == 0:\n",
    "            self.rooms[room_id] = 1\n",
    "        else:\n",
    "            raise RuntimeError(\"Bad news\")\n",
    "        \n",
    "    def free(self, room_id):\n",
    "        assert self.rooms[room_id] == 1\n",
    "        self.rooms[room_id] = 0\n",
    "        \n",
    "    def occupy_rate(self):\n",
    "        return sum(self.rooms) / self.num_of_rooms\n",
    "    \n",
    "    def close(self):\n",
    "        for room_id in range(self.num_of_rooms):\n",
    "            self.free(room_id)\n",
    "            \n",
    "    def is_booked(self, date, room_id):\n",
    "        if date in self.booked_rooms.keys():\n",
    "            return room_id in self.booked_rooms[date]\n",
    "        else:\n",
    "            return False\n",
    "            \n",
    "    def book(self, date, room_id):\n",
    "        if Hotel.is_booked(self, date, room_id):\n",
    "            raise RuntimeError(\"Bad news\")\n",
    "        elif date in self.booked_rooms.keys():\n",
    "            self.booked_rooms[date].append(room_id)\n",
    "        else:\n",
    "            self.booked_rooms[date] = [room_id]\n",
    "            \n",
    "    def income(self, date):\n",
    "        print('Доход за ', date, ':', sep='')\n",
    "        return len(self.booked_rooms[date]) * 200"
   ]
  },
  {
   "cell_type": "code",
   "execution_count": 22,
   "metadata": {},
   "outputs": [],
   "source": [
    "hotel = Hotel(num_of_rooms=10)\n",
    "hotel.occupy(3) \n",
    "hotel.occupy(7)"
   ]
  },
  {
   "cell_type": "code",
   "execution_count": 23,
   "metadata": {},
   "outputs": [],
   "source": [
    "hotel.book('13.03.2020', 9)\n",
    "hotel.book('13.03.2020', 8)\n",
    "hotel.book('20.03.2020', 8)"
   ]
  },
  {
   "cell_type": "code",
   "execution_count": 24,
   "metadata": {},
   "outputs": [
    {
     "name": "stdout",
     "output_type": "stream",
     "text": [
      "Доход за 13.03.2020:\n"
     ]
    },
    {
     "data": {
      "text/plain": [
       "400"
      ]
     },
     "execution_count": 24,
     "metadata": {},
     "output_type": "execute_result"
    }
   ],
   "source": [
    "hotel.income('13.03.2020')"
   ]
  },
  {
   "cell_type": "code",
   "execution_count": 25,
   "metadata": {},
   "outputs": [
    {
     "name": "stdout",
     "output_type": "stream",
     "text": [
      "Доход за 20.03.2020:\n"
     ]
    },
    {
     "data": {
      "text/plain": [
       "200"
      ]
     },
     "execution_count": 25,
     "metadata": {},
     "output_type": "execute_result"
    }
   ],
   "source": [
    "hotel.income('20.03.2020')"
   ]
  },
  {
   "cell_type": "code",
   "execution_count": 26,
   "metadata": {},
   "outputs": [
    {
     "data": {
      "text/plain": [
       "{'13.03.2020': [9, 8], '20.03.2020': [8]}"
      ]
     },
     "execution_count": 26,
     "metadata": {},
     "output_type": "execute_result"
    }
   ],
   "source": [
    "hotel.booked_rooms"
   ]
  },
  {
   "cell_type": "code",
   "execution_count": 27,
   "metadata": {},
   "outputs": [
    {
     "data": {
      "text/plain": [
       "dict_values([[9, 8], [8]])"
      ]
     },
     "execution_count": 27,
     "metadata": {},
     "output_type": "execute_result"
    }
   ],
   "source": [
    "hotel.booked_rooms.values()"
   ]
  },
  {
   "cell_type": "code",
   "execution_count": 28,
   "metadata": {},
   "outputs": [
    {
     "data": {
      "text/plain": [
       "[9, 8]"
      ]
     },
     "execution_count": 28,
     "metadata": {},
     "output_type": "execute_result"
    }
   ],
   "source": [
    "hotel.booked_rooms['13.03.2020']"
   ]
  },
  {
   "cell_type": "markdown",
   "metadata": {},
   "source": [
    "## Full code:"
   ]
  },
  {
   "cell_type": "code",
   "execution_count": 159,
   "metadata": {},
   "outputs": [],
   "source": [
    "class Hotel:\n",
    "    def __init__(self, num_of_rooms):\n",
    "        self.rooms = [0 for _ in range(num_of_rooms)]\n",
    "        self.num_of_rooms = num_of_rooms \n",
    "        self.booked_rooms = {} #!\n",
    "        \n",
    "    def occupy(self, room_id):\n",
    "        if self.rooms[room_id] == 0:\n",
    "            self.rooms[room_id] = 1\n",
    "        else:\n",
    "            raise RuntimeError(\"Bad news\")\n",
    "        \n",
    "    def free(self, room_id):\n",
    "        assert self.rooms[room_id] == 1\n",
    "        self.rooms[room_id] = 0\n",
    "        \n",
    "    def occupy_rate(self):\n",
    "        return sum(self.rooms) / self.num_of_rooms\n",
    "    \n",
    "    def close(self):\n",
    "        for room_id in range(self.num_of_rooms):\n",
    "            self.free(room_id)\n",
    "            \n",
    "    def is_booked(self, date, room_id):\n",
    "        if date in self.booked_rooms.keys():\n",
    "            return room_id in self.booked_rooms[date]\n",
    "        else:\n",
    "            return False\n",
    "            \n",
    "    def book(self, date, room_id):\n",
    "        if Hotel.is_booked(self, date, room_id):\n",
    "            raise RuntimeError(\"Bad news\")\n",
    "        elif date in self.booked_rooms.keys():\n",
    "            self.booked_rooms[date].append(room_id)\n",
    "        else:\n",
    "            self.booked_rooms[date] = [room_id]\n",
    "            \n",
    "    def income(self, date):\n",
    "        print('Доход за ', date, ':', sep='')\n",
    "        return len(self.booked_rooms[date]) * 200"
   ]
  }
 ],
 "metadata": {
  "kernelspec": {
   "display_name": "Python 3 (ipykernel)",
   "language": "python",
   "name": "python3"
  },
  "language_info": {
   "codemirror_mode": {
    "name": "ipython",
    "version": 3
   },
   "file_extension": ".py",
   "mimetype": "text/x-python",
   "name": "python",
   "nbconvert_exporter": "python",
   "pygments_lexer": "ipython3",
   "version": "3.10.2"
  },
  "toc": {
   "base_numbering": 1,
   "nav_menu": {},
   "number_sections": true,
   "sideBar": true,
   "skip_h1_title": false,
   "title_cell": "Table of Contents",
   "title_sidebar": "Contents",
   "toc_cell": false,
   "toc_position": {},
   "toc_section_display": true,
   "toc_window_display": false
  },
  "varInspector": {
   "cols": {
    "lenName": 16,
    "lenType": 16,
    "lenVar": 40
   },
   "kernels_config": {
    "python": {
     "delete_cmd_postfix": "",
     "delete_cmd_prefix": "del ",
     "library": "var_list.py",
     "varRefreshCmd": "print(var_dic_list())"
    },
    "r": {
     "delete_cmd_postfix": ") ",
     "delete_cmd_prefix": "rm(",
     "library": "var_list.r",
     "varRefreshCmd": "cat(var_dic_list()) "
    }
   },
   "types_to_exclude": [
    "module",
    "function",
    "builtin_function_or_method",
    "instance",
    "_Feature"
   ],
   "window_display": false
  }
 },
 "nbformat": 4,
 "nbformat_minor": 2
}
