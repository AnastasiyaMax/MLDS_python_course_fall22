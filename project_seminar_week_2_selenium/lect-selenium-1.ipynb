{
 "cells": [
  {
   "cell_type": "markdown",
   "metadata": {},
   "source": [
    "# Python для анализа данных\n",
    "\n",
    "использован блокнот: *Алла Тамбовцева, НИУ ВШЭ*\n",
    "\n",
    "дополнения +++ : *Ян Пиле, НИУ ВШЭ*\n"
   ]
  },
  {
   "cell_type": "markdown",
   "metadata": {},
   "source": [
    "### Автоматизация работы в браузере: библиотека `selenium`"
   ]
  },
  {
   "cell_type": "markdown",
   "metadata": {},
   "source": [
    "Библиотека `selenium` – набор инструментов для интерактивной работы в браузере средствами Python. Вообще Selenium ‒ это целый проект, в котором есть разные инструменты. Мы рассмотрим один из самых распространенных ‒ Selenium WebDriver, модуль, который позволяется Python встраиваться в браузер и работать в нем как пользователь: кликать на ссылки и кнопки, заполнять формы, выбирать опции в меню и прочее. \n",
    "\n",
    "Мы будем использовать WebDriver для решения такой задачи: Необходимо выгрузить все адреса участковых избирательных  комиссий Ивановской области. "
   ]
  },
  {
   "cell_type": "markdown",
   "metadata": {},
   "source": [
    "Сначала загрузим веб-драйвер из библиотеки `selenium`. "
   ]
  },
  {
   "cell_type": "code",
   "execution_count": 5,
   "metadata": {},
   "outputs": [
    {
     "name": "stdout",
     "output_type": "stream",
     "text": [
      "Requirement already satisfied: selenium in /Users/i.pile/anaconda3/lib/python3.8/site-packages (3.141.0)\n",
      "Requirement already satisfied: urllib3 in /Users/i.pile/anaconda3/lib/python3.8/site-packages (from selenium) (1.25.9)\n"
     ]
    }
   ],
   "source": [
    "!pip install selenium"
   ]
  },
  {
   "cell_type": "code",
   "execution_count": 1,
   "metadata": {},
   "outputs": [],
   "source": [
    "from selenium import webdriver\n",
    "from selenium.webdriver.common.keys import Keys\n",
    "from selenium.webdriver.support.ui import Select\n",
    "\n",
    "# browser = webdriver.Firefox()"
   ]
  },
  {
   "cell_type": "markdown",
   "metadata": {},
   "source": [
    "Если Python пишет `No module called selenium`, убедитесь, что у вас установлена эта библиотека. Самый надежный способ установить ее ‒ найти *Anaconda Command Prompt*, вписать строку `pip install selenium` и нажать *Enter*. Если *Anaconda Command Prompt* не находится, можно поступить так: запустить Jupyter Notebook, щелкнуть на черное окно консоли, нажать *Ctrl+Z* (остановить запуск Jupyter), а потом так же ввести в этом окне строку `pip install selenium` и нажать *Enter*.\n",
    "\n",
    "Затем нужно выбрать браузер и открыть новое окно через Python. Для этого нужно вызвать функцию, которая отвечает за открытие браузера. Обычно используется Chrome. Но я разом покажу пример и для Firefox"
   ]
  },
  {
   "cell_type": "code",
   "execution_count": 3,
   "metadata": {},
   "outputs": [],
   "source": [
    "# safaridriver --enable"
   ]
  },
  {
   "cell_type": "code",
   "execution_count": 20,
   "metadata": {},
   "outputs": [],
   "source": [
    "# from selenium import webdriver\n",
    "\n",
    "# driver = webdriver.Firefox()"
   ]
  },
  {
   "cell_type": "code",
   "execution_count": 3,
   "metadata": {},
   "outputs": [],
   "source": [
    "from selenium.webdriver.common.keys import Keys\n",
    "from selenium.webdriver.support.ui import Select"
   ]
  },
  {
   "cell_type": "code",
   "execution_count": 2,
   "metadata": {},
   "outputs": [
    {
     "name": "stdout",
     "output_type": "stream",
     "text": [
      "\n"
     ]
    },
    {
     "name": "stderr",
     "output_type": "stream",
     "text": [
      "[WDM] - ====== WebDriver manager ======\n",
      "[WDM] - Current google-chrome version is 106.0.5249\n",
      "[WDM] - Get LATEST chromedriver version for 106.0.5249 google-chrome\n",
      "[WDM] - There is no [mac64] chromedriver for browser 106.0.5249 in cache\n",
      "[WDM] - About to download new driver from https://chromedriver.storage.googleapis.com/106.0.5249.61/chromedriver_mac64.zip\n",
      "[WDM] - Driver has been saved in cache [/Users/Dell/.wdm/drivers/chromedriver/mac64/106.0.5249.61]\n",
      "/var/folders/4l/wvvj0csx3cd5ksl4vg3g_knm0000gn/T/ipykernel_42740/2160715986.py:4: DeprecationWarning: executable_path has been deprecated, please pass in a Service object\n",
      "  driver = webdriver.Chrome(ChromeDriverManager().install())\n"
     ]
    }
   ],
   "source": [
    "from selenium import webdriver\n",
    "from webdriver_manager.chrome import ChromeDriverManager\n",
    "\n",
    "driver = webdriver.Chrome(ChromeDriverManager().install())"
   ]
  },
  {
   "cell_type": "markdown",
   "metadata": {},
   "source": [
    "Если код выше не исполняется, скачайте файл с веб-драйвером [отсюда](https://sites.google.com/a/chromium.org/chromedriver/downloads), распакуйте архив и пропишите путь к файлу в круглых скобках (в примере файл с расширением exe на Windows). Чтобы прописать путь на Mac'е или Linux'e, нужно выполнить такую команду в терминале:\n",
    "    \n",
    "    export PATH=\"$PATH:/Путь/до/драйвера\"\n",
    "\n",
    "У меня было так: \n",
    "    \n",
    "    export PATH=\"$PATH:/Users/i.pile/Documents/chromedriver\"\n"
   ]
  },
  {
   "cell_type": "code",
   "execution_count": null,
   "metadata": {},
   "outputs": [],
   "source": [
    "# br = wb.Chrome('C:/Users/student/Desktop/chromewebdriver/chromedriver.exe')"
   ]
  },
  {
   "cell_type": "code",
   "execution_count": 2,
   "metadata": {},
   "outputs": [],
   "source": [
    "# br = wb.Chrome(\"/Users/allat/Downloads/chromedriver\")"
   ]
  },
  {
   "cell_type": "code",
   "execution_count": 4,
   "metadata": {},
   "outputs": [],
   "source": [
    "import ssl\n",
    "\n",
    "ssl._create_default_https_context = ssl._create_unverified_context"
   ]
  },
  {
   "cell_type": "code",
   "execution_count": 5,
   "metadata": {},
   "outputs": [
    {
     "name": "stderr",
     "output_type": "stream",
     "text": [
      "Error occurred during loading data. Trying to use cache server https://fake-useragent.herokuapp.com/browsers/0.1.11\n",
      "Traceback (most recent call last):\n",
      "  File \"/Library/Frameworks/Python.framework/Versions/3.10/lib/python3.10/site-packages/fake_useragent/utils.py\", line 154, in load\n",
      "    for item in get_browsers(verify_ssl=verify_ssl):\n",
      "  File \"/Library/Frameworks/Python.framework/Versions/3.10/lib/python3.10/site-packages/fake_useragent/utils.py\", line 99, in get_browsers\n",
      "    html = html.split('<table class=\"w3-table-all notranslate\">')[1]\n",
      "IndexError: list index out of range\n"
     ]
    },
    {
     "data": {
      "text/plain": [
       "'Mozilla/5.0 (Windows NT 6.1; WOW64) AppleWebKit/537.36 (KHTML, like Gecko) Chrome/31.0.1623.0 Safari/537.36'"
      ]
     },
     "execution_count": 5,
     "metadata": {},
     "output_type": "execute_result"
    }
   ],
   "source": [
    "from fake_useragent import UserAgent\n",
    "UserAgent().chrome"
   ]
  },
  {
   "cell_type": "code",
   "execution_count": 6,
   "metadata": {},
   "outputs": [],
   "source": [
    "import requests\n",
    "from bs4 import BeautifulSoup\n",
    "url = \"http://cikrf.ru/digital-services/naydi-svoy-izbiratelnyy-uchastok/\"\n",
    "response = requests.get(url, headers={'User-Agent': UserAgent().chrome})"
   ]
  },
  {
   "cell_type": "code",
   "execution_count": 8,
   "metadata": {},
   "outputs": [
    {
     "data": {
      "text/plain": [
       "<!DOCTYPE html>\n",
       "<html>\n",
       "<head>\n",
       "<title>Информирование об избирательных комиссиях и комиссиях референдума</title><meta content=\"text/html; charset=utf-8\" http-equiv=\"Content-Type\"/>\n",
       "<link href=\"/bitrix/js/main/core/css/core.css?14821812008964\" rel=\"stylesheet\" type=\"text/css\"/>\n",
       "<link href=\"/local/templates/cikrf_v2_default/assets/vendor/select2/select2.min.css?158973927217429\" rel=\"stylesheet\" type=\"text/css\"/>\n",
       "<link href=\"/local/templates/cikrf_v2_default/assets/vendor/bootstrap/css/bootstrap.min.css?1589739273121200\" rel=\"stylesheet\" type=\"text/css\"/>\n",
       "<link href=\"/local/templates/cikrf_v2_default/assets/vendor/viewbox/viewbox.css?15897392722692\" rel=\"stylesheet\" type=\"text/css\"/>\n",
       "<link href=\"/assets/css/cikrf/style.css?162090374849462\" rel=\"stylesheet\" type=\"text/css\"/>\n",
       "<link href=\"/digital-services/assets/css/style.css?162394612014343\" rel=\"stylesheet\" type=\"text/css\"/>\n",
       "<script type=\"text/javascript\">if(!window.BX)window.BX={message:function(mess){if(typeof mess=='object') for(var i in mess) BX.message[i]=mess[i]; return true;}};</script>\n",
       "<script type=\"text/javascript\">(window.BX||top.BX).message({'JS_CORE_LOADING':'Загрузка...','JS_CORE_NO_DATA':'- Нет данных -','JS_CORE_WINDOW_CLOSE':'Закрыть','JS_CORE_WINDOW_EXPAND':'Развернуть','JS_CORE_WINDOW_NARROW':'Свернуть в окно','JS_CORE_WINDOW_SAVE':'Сохранить','JS_CORE_WINDOW_CANCEL':'Отменить','JS_CORE_H':'ч','JS_CORE_M':'м','JS_CORE_S':'с','JSADM_AI_HIDE_EXTRA':'Скрыть лишние','JSADM_AI_ALL_NOTIF':'Показать все','JSADM_AUTH_REQ':'Требуется авторизация!','JS_CORE_WINDOW_AUTH':'Войти','JS_CORE_IMAGE_FULL':'Полный размер'});</script>\n",
       "<script type=\"text/javascript\">(window.BX||top.BX).message({'LANGUAGE_ID':'ru','FORMAT_DATE':'DD.MM.YYYY','FORMAT_DATETIME':'DD.MM.YYYY HH:MI:SS','COOKIE_PREFIX':'BITRIX_SM','USER_ID':'','SERVER_TIME':'1666713971','SERVER_TZ_OFFSET':'10800','USER_TZ_OFFSET':'0','USER_TZ_AUTO':'Y','bitrix_sessid':'2c9d1c4bfe6e1cc3b50789afc215ca0f','SITE_ID':'s1'});</script>\n",
       "<script src=\"/bitrix/js/main/core/core.js?148218120078911\" type=\"text/javascript\"></script>\n",
       "<script src=\"/bitrix/js/main/core/core_ajax.js?148218120030654\" type=\"text/javascript\"></script>\n",
       "<script src=\"/bitrix/js/main/session.js?14821812002880\" type=\"text/javascript\"></script>\n",
       "<script src=\"//api-maps.yandex.ru/2.0/?load=package.standard,package.geoObjects&amp;lang=ru-RU&amp;apikey=22bcf0e5-66b0-4142-bd76-ace8696ba5ae\" type=\"text/javascript\"></script>\n",
       "<script type=\"text/javascript\">\n",
       "bxSession.Expand(1800, '2c9d1c4bfe6e1cc3b50789afc215ca0f', false, 'acb757c70f4ff7eb6d361a312660fd35');\n",
       "</script>\n",
       "<script src=\"/local/templates/cikrf_v2_default/assets/vendor/jquery-1.12.4.min.js?158973927297163\" type=\"text/javascript\"></script>\n",
       "<script src=\"/local/templates/cikrf_v2_default/assets/vendor/select2/select2.min.js?158973927266689\" type=\"text/javascript\"></script>\n",
       "<script src=\"/local/templates/cikrf_v2_default/assets/vendor/bootstrap/js/bootstrap.min.js?158973927237045\" type=\"text/javascript\"></script>\n",
       "<script src=\"/local/templates/cikrf_v2_default/assets/vendor/uhpv-full.min.js?15897392724588\" type=\"text/javascript\"></script>\n",
       "<script src=\"/local/templates/cikrf_v2_default/assets/vendor/viewbox/jquery.viewbox.min.js?15897392724871\" type=\"text/javascript\"></script>\n",
       "<script src=\"/local/templates/cikrf_v2_default/assets/js/functions.js?15897392722813\" type=\"text/javascript\"></script>\n",
       "<script src=\"/local/templates/cikrf_v2_default/assets/js/echarts.js?16310940073271239\" type=\"text/javascript\"></script>\n",
       "<script src=\"/assets/js/plugins/jquery.validate/jquery.validate.min.js?158973935222691\" type=\"text/javascript\"></script>\n",
       "<script src=\"/assets/js/plugins/jquery.validate/localization/messages_ru.js?15897393522171\" type=\"text/javascript\"></script>\n",
       "<script src=\"/assets/js/plugins/select2/ru.js?15897393521201\" type=\"text/javascript\"></script>\n",
       "<script src=\"/digital-services/assets/js/coordinates.js?156681180412323\" type=\"text/javascript\"></script>\n",
       "<script src=\"/digital-services/assets/js/script.js?163171177657593\" type=\"text/javascript\"></script>\n",
       "<script src=\"/digital-services/naydi-svoy-izbiratelnyy-uchastok/script.js?16239446648750\" type=\"text/javascript\"></script>\n",
       "<meta content=\"width=device-width, initial-scale=1\" name=\"viewport\"/>\n",
       "<link href=\"/favicon.png\" rel=\"shortcut icon\" type=\"image/png\"/>\n",
       "<!--meta name=\"viewport\" content=\"width=1199\"-->\n",
       "<style>\n",
       "        #hpvgd, .h-mdiv, .h-mdiv2, .h-ldiv, .h-rdiv {\n",
       "            background: #EAEAEA;\n",
       "            color: #6D6D6D;\n",
       "        }\n",
       "\n",
       "        #hpvgd {\n",
       "            width: 100%;\n",
       "            z-index: 100;\n",
       "            width: 100%;\n",
       "            border-bottom: 2px solid rgb(230, 230, 230);\n",
       "        }\n",
       "\n",
       "        .h-mdiv {\n",
       "            display: none;\n",
       "            position: relative;\n",
       "            margin: auto;\n",
       "            text-alegn: center;\n",
       "        }\n",
       "\n",
       "        .h-mdiv2 {\n",
       "            display: none;\n",
       "            position: fixed;\n",
       "            margin: auto;\n",
       "            text-alegn: center;\n",
       "            width: 400px;\n",
       "            height: 200px;\n",
       "        }\n",
       "\n",
       "        .h-ldiv {\n",
       "            float: left;\n",
       "            padding: 7px 10px 7px 0px;\n",
       "        }\n",
       "\n",
       "        .h-rdiv {\n",
       "            position: absolute;\n",
       "            top: 7px;\n",
       "            right: 0px;\n",
       "            text-align: right;\n",
       "        }\n",
       "\n",
       "        .h-ni {\n",
       "            display: none !important;\n",
       "        }\n",
       "\n",
       "        a.hcmaf {\n",
       "            color: red;\n",
       "            margin-left: 5px;\n",
       "            font-size: 20px;\n",
       "            font-weight: bold;\n",
       "        }\n",
       "\n",
       "        a.h-anl {\n",
       "            color: #2a72cc;\n",
       "        }\n",
       "\n",
       "        a.h-al {\n",
       "            color: #ED664B;\n",
       "        }\n",
       "\n",
       "        .h-fi {\n",
       "            font-weight: bold;\n",
       "            border-radius: 50%;\n",
       "            padding: 0px 8px;\n",
       "            margin-right: 5px;\n",
       "            font-size: 19px;\n",
       "        }\n",
       "\n",
       "        .h-background-1 {\n",
       "            color: #fff !important;\n",
       "            background: #000 !important;\n",
       "        }\n",
       "\n",
       "        .h-background-2 {\n",
       "            color: #000 !important;\n",
       "            background: #fff !important;\n",
       "        }\n",
       "\n",
       "        .h-background-1 label {\n",
       "            color: #fff !important;\n",
       "        }\n",
       "\n",
       "        .h-background-2 label {\n",
       "            color: #000 !important;\n",
       "        }\n",
       "\n",
       "        .h-background-2 #uhvb,\n",
       "        .h-background-1 #uhvb {\n",
       "            display: none;\n",
       "        }\n",
       "\n",
       "        .home .header_menu > li .menu_item .link.h-background-1,\n",
       "        .home .header_menu > li .menu_item .link.h-background-2 {\n",
       "            padding-top: 0;\n",
       "        }\n",
       "\n",
       "        .home .header_menu.h-background-1,\n",
       "        .home .header_menu.h-background-2 {\n",
       "            height: 60px;\n",
       "        }\n",
       "       .id-main {\n",
       "       display: none !important;\n",
       "        }\n",
       "       .id-main-no {\n",
       "       display: block !important;\n",
       "        }\n",
       "       .id-main-mob {\n",
       "       display: none !important;\n",
       "        }\n",
       "    </style>\n",
       "<meta content=\"BweLx0lKhC6wGw5J\" name=\"sputnik-verification\"/>\n",
       "</head>\n",
       "<body class=\"inner\">\n",
       "<header class=\"header\">\n",
       "<div class=\"desktop\">\n",
       "<div class=\"header_row1\">\n",
       "<div class=\"container\">\n",
       "<div class=\"row\">\n",
       "<div class=\"col-xs-12 col-md-6 settings col-md-push-6\">\n",
       "<ul class=\"settings_list\">\n",
       "<li class=\"special_version\"><a href=\"javascript:void(0);\" id=\"uhvb\" onclick=\"uvcl()\">Версия\n",
       "                                    для слабовидящих</a></li>\n",
       "<li class=\"rss_block\"><a href=\"/rss/\">RSS</a></li>\n",
       "<li class=\"en_ru\"><a href=\"/eng/\">English version</a></li>\n",
       "</ul>\n",
       "</div>\n",
       "<div class=\"col-xs-12 col-md-6 search col-md-pull-6\">\n",
       "<div class=\"input-group\"><form action=\"/search/index.php\">\n",
       "<input class=\"form-control\" name=\"q\" placeholder=\"Поиск по сайту\" size=\"15\" type=\"text\"/>\n",
       "<input name=\"s\" type=\"hidden\" value=\"Поиск по сайту\"/>\n",
       "<button class=\"btn\" type=\"submit\"></button>\n",
       "</form></div>\n",
       "</div>\n",
       "</div>\n",
       "</div>\n",
       "</div>\n",
       "<div class=\"header_row2\">\n",
       "<div class=\"container\">\n",
       "<nav class=\"row\">\n",
       "<ul class=\"header_menu top_nav_ico\" id=\"menu\">\n",
       "<li class=\"menu_item_li\" data-name=\"menu1\">\n",
       "<div class=\"menu_item\"><!--меню-->\n",
       "<img alt=\"\" src=\"/local/templates/cikrf_v2_default/assets/images/nav1_new.png\"/>\n",
       "<span class=\"link nav1\">Избиратели</span>\n",
       "</div>\n",
       "</li>\n",
       "<li class=\"menu_item_li\" data-name=\"menu2\">\n",
       "<div class=\"menu_item\">\n",
       "<img alt=\"\" src=\"/local/templates/cikrf_v2_default/assets/images/nav2_new.png\"/>\n",
       "<span class=\"link nav2\">Кандидаты и партии</span>\n",
       "</div>\n",
       "</li>\n",
       "<li class=\"menu_item_li\" data-name=\"menu3\">\n",
       "<div class=\"menu_item\">\n",
       "<img alt=\"\" src=\"/local/templates/cikrf_v2_default/assets/images/nav3_new.png\"/>\n",
       "<span class=\"link nav3\">Избирательные комиссии</span>\n",
       "</div>\n",
       "</li>\n",
       "<li class=\"menu_item_li\" data-name=\"menu4\">\n",
       "<div class=\"menu_item\">\n",
       "<img alt=\"\" src=\"/local/templates/cikrf_v2_default/assets/images/nav4_new.png\"/>\n",
       "<span class=\"link nav4\">СМИ</span>\n",
       "</div>\n",
       "</li>\n",
       "<li class=\"menu_item_li\" data-name=\"menu5\">\n",
       "<div class=\"menu_item\">\n",
       "<img alt=\"\" src=\"/local/templates/cikrf_v2_default/assets/images/nav5_new.png\"/>\n",
       "<span class=\"link nav5\">Наблюдатели и эксперты</span>\n",
       "</div>\n",
       "</li>\n",
       "</ul>\n",
       "<ul class=\"header_popup_menu\" id=\"popup_menu\">\n",
       "<li class=\"popup_menu_item_li\" data-name=\"menu1\">\n",
       "<div class=\"popup_menu_item\">\n",
       "<div class=\"col-xs-12 col-sm-3\">\n",
       "<a class=\"link_ico2\" href=\"/reception/personal/\"><span><img alt=\"\" src=\"/local/templates/cikrf_v2_default/assets/images/sub_nav1.png\"/> Общественная\n",
       "                                        приемная ЦИК России</span></a>\n",
       "<ul class=\"link_list2\">\n",
       "<li><a href=\"/reception/docs/interesting/\">Избиратели спрашивают – ЦИК\n",
       "                                                отвечает</a></li>\n",
       "<li>\n",
       "<a href=\"/reception/porjadok.php\">Электронная форма обращения</a></li>\n",
       "</ul>\n",
       "</div>\n",
       "<div class=\"col-xs-12 col-sm-3\">\n",
       "<a class=\"link_ico3\" href=\"/digital-services/\" target=\"\"><span><img alt=\"\" src=\"/local/templates/cikrf_v2_default/assets/images/digital_icon2.png\"/> Цифровые сервисы ЦИК России</span></a>\n",
       "<!--<ul class=\"link_list2\">\n",
       "                                        <li><a href=\"/digital-services/naydi-sebya-v-spiske-izbirateley/\">Найди себя в списке избирателей </a></li>\n",
       "                                        <li>\n",
       "                                            <a href=\"/digital-services/naydi-svoy-izbiratelnyy-uchastok/\">Найди свой избирательный участок</a></li>\n",
       "                                        <li>\n",
       "                                            <a href=\"/digital-services/vybory-i-referendumy/\">Информация о выборах и референдумах </a></li>\n",
       "                                        \n",
       "                                    </ul>-->\n",
       "</div>\n",
       "<div class=\"col-xs-12 col-sm-3\">\n",
       "<a class=\"mini_title popup_menu_border2\" href=\"\"></a>\n",
       "<a class=\"mini_title popup_menu_border2\" href=\"/izbiratel/quantity/\" style=\"padding-top: 21px; padding-bottom: 21px;\">Численность избирателей</a>\n",
       "<a class=\"mini_title popup_menu_border2\" href=\"/reception/pamyatki-dlya-izbirateley/\" style=\"padding-top: 21px; padding-bottom: 21px;\">Памятки для избирателей</a>\n",
       "<a class=\"mini_title popup_menu_border2\" href=\"/personal/profile/\" style=\"padding-top: 21px ;padding-bottom: 21px;\">Личный кабинет избирателя</a>\n",
       "<a class=\"mini_title popup_menu_border2\" href=\"\"></a>\n",
       "</div>\n",
       "<div class=\"col-xs-12 col-sm-3\">\n",
       "<a class=\"mini_title popup_menu_border\" href=\"/reception/dlya-otdelnykh-kategoriy-izbirateley/\" style=\"padding-bottom: 15px; margin-top: 0px\">Для отдельных категорий\n",
       "                                        избирателей</a>\n",
       "<ul class=\"link_list\">\n",
       "<li><a href=\"/reception/dlya-otdelnykh-kategoriy-izbirateley/pravo_invalida/\">Избирательные\n",
       "                                                права инвалидов</a></li>\n",
       "<li>\n",
       "<a href=\"/reception/dlya-otdelnykh-kategoriy-izbirateley/izbiratelnye-prava-voennosluzhashchikh/\">Избирательные\n",
       "                                                права военнослужащих</a></li>\n",
       "<li><a href=\"/reception/dlya-otdelnykh-kategoriy-izbirateley/za-rubezhom/\">Избирательные\n",
       "                                                права граждан России за рубежом</a></li>\n",
       "</ul>\n",
       "<a class=\"mini_title popup_menu_border\" href=\"/reception/dlya-otdelnykh-kategoriy-izbirateley/mobilnii-izbiratel/\" style=\"padding-top: 5px;\">«Мобильный\n",
       "                                        избиратель»</a>\n",
       "</div>\n",
       "</div>\n",
       "</li>\n",
       "<li class=\"popup_menu_item_li\" data-name=\"menu2\">\n",
       "<div class=\"popup_menu_item\">\n",
       "<div class=\"col-xs-12 col-sm-3\">\n",
       "<!--<a class=\"link_ico\" href=\"/politparty/MinUst/last/\">\n",
       "\t\t\t\t\t\t\t\t\t<span style=\"font-size:15px;\">\n",
       "\t\t\t\t\t\t\t\t\t\t<img src=\"/local/templates/cikrf_v2_default/assets/images/sub_nav3.png\" alt=\"\"> Политические партии, имеющие право участвовать в выборах</span></a>-->\n",
       "<a class=\"link_ico\" href=\"/politparty/interaktivnyy-spravochnik/\">\n",
       "<span style=\"font-size:15px;\">\n",
       "<img alt=\"\" src=\"/local/templates/cikrf_v2_default/assets/images/sub_nav3.png\"/> Интерактивный справочник «Политические партии в <br/>Российской Федерации»</span></a>\n",
       "</div>\n",
       "<div class=\"col-xs-12 col-sm-3\">\n",
       "<a class=\"link_text popup_menu_border\" href=\"/politparty/MinUst/last/\">Политические партии, имеющие право участвовать в выборах</a>\n",
       "<a class=\"link_text popup_menu_border\" href=\"/politparty/spisok/\">Сведения о\n",
       "                                        политических партиях, выдвижение которыми кандидатов, списков кандидатов не\n",
       "                                        требует сбора подписей избирателей</a>\n",
       "<a class=\"link_text popup_menu_border\" href=\"/politparty/ustavy-i-programmy/\">Уставы\n",
       "                                        зарегистрированных политических партий</a>\n",
       "</div>\n",
       "<div class=\"col-xs-12 col-sm-3\">\n",
       "<a class=\"link_text popup_menu_border\" href=\"/politparty/biluten/\">Бюллетень «Региональные выборы. Партийная динамика»</a>\n",
       "<!--                        \n",
       "                                        <a href=\"/politparty/biluten/\" class=\"mini_title\">Справочники и бюллетени</a>\n",
       "                               <ul class=\"popup_menu_border link_list\">\n",
       "                                        <li><a href=\"/politparty/biluten/spravochniki/\">Справочник «Политические партии\n",
       "                                                в Российской Федерации»</a></li>\n",
       "                                        <li><a href=\"/politparty/biluten/byulleteni/\">Бюллетень «Региональные выборы:\n",
       "                                                партийная динамика»</a></li>\n",
       "                                    </ul>\n",
       "            -->\n",
       "<a class=\"link_text popup_menu_border\" href=\"/politparty/pravila-politicheskoy-agitatsii/garant/\" style=\"padding-top: 25px;padding-bottom: 25px;\">Учет объема эфирного времени</a>\n",
       "<a class=\"link_text popup_menu_border\" href=\"/politparty/finance/\">Финансовые\n",
       "                                        отчеты</a>\n",
       "</div>\n",
       "<div class=\"col-xs-12 col-sm-3\">\n",
       "<a class=\"mini_title\" href=\"/politparty/uchastie-v-vyborakh/\">Участие политических\n",
       "                                        партий в выборах</a>\n",
       "<ul class=\"popup_menu_border link_list\">\n",
       "<li><a href=\"/politparty/uchastie-v-vyborakh/elect_president/\">Сведения об\n",
       "                                                участии партий в федеральных выборах</a></li>\n",
       "<li><a href=\"/politparty/uchastie-v-vyborakh/perechni-i-formy-dokumentov/\">Перечни\n",
       "                                                и формы документов для участия в выборах</a></li>\n",
       "<li><a href=\"/politparty/uchastie-v-vyborakh/method/\">Методические рекомендации\n",
       "                                                по выдвижению и регистрации кандидатов</a></li>\n",
       "</ul>\n",
       "</div>\n",
       "</div>\n",
       "</li>\n",
       "<li class=\"popup_menu_item_li\" data-name=\"menu3\">\n",
       "<div class=\"popup_menu_item\">\n",
       "<div class=\"col-xs-12 col-sm-3\">\n",
       "<a class=\"link_ico\" href=\"/izbiratelnym-komissiyam/sroki-formirovaniya-iksrf/\"><span><img alt=\"\" src=\"/local/templates/cikrf_v2_default/assets/images/sub_nav6.png\"/> Сведения о формировании избирательных комиссий субъектов Российской Федерации</span></a>\n",
       "</div>\n",
       "<div class=\"col-xs-12 col-sm-3\">\n",
       "<a class=\"link_ico\" href=\"http://vestnik.cikrf.ru/vestnik/\" target=\"_blank\"><span><img alt=\"\" src=\"/local/templates/cikrf_v2_default/assets/images/sub_nav7.png\"/> Новости регионов</span></a>\n",
       "</div>\n",
       "<div class=\"col-xs-12 col-sm-3\">\n",
       "<a class=\"link_ico\" href=\"/izbiratelnym-komissiyam/spravochno-metodicheskie-materialy/\"><span><img alt=\"\" src=\"/local/templates/cikrf_v2_default/assets/images/sub_nav8.png\"/> Справочно-методические материалы</span></a>\n",
       "</div>\n",
       "<div class=\"col-xs-12 col-sm-3\">\n",
       "<div class=\"search region\">\n",
       "<div class=\"input-group\">\n",
       "<div class=\"cec-select\">\n",
       "<select aria-hidden=\"true\" class=\"select2-hidden-accessible\" tabindex=\"-1\"><option></option><option value=\"http://www.adygei.izbirkom.ru\">Республика Адыгея (Адыгея)</option><option value=\"http://www.altai-rep.izbirkom.ru\">Республика Алтай</option><option value=\"http://www.bashkortostan.izbirkom.ru\">Республика Башкортостан</option><option value=\"http://www.buriat.izbirkom.ru\">Республика Бурятия</option><option value=\"http://www.dagestan.izbirkom.ru\">Республика Дагестан</option><option value=\"http://www.ingush.izbirkom.ru\">Республика Ингушетия</option><option value=\"http://www.kabardin-balkar.izbirkom.ru\"> Кабардино-Балкарская Республика</option><option value=\"http://www.kalmyk.izbirkom.ru\">Республика Калмыкия</option><option value=\"http://www.karachaev-cherkess.izbirkom.ru/\">Карачаево-Черкесская Республика</option><option value=\"http://www.karel.izbirkom.ru\">Республика Карелия</option><option value=\"http://www.komi.izbirkom.ru\">Республика Коми</option><option value=\"http://www.crimea.izbirkom.ru\">Республика Крым</option><option value=\"http://www.mari-el.izbirkom.ru\">Республика Марий Эл</option><option value=\"http://www.mordov.izbirkom.ru\">Республика Мордовия</option><option value=\"http://www.yakut.izbirkom.ru\">Республика Саха (Якутия)</option><option value=\"http://www.n-osset-alania.izbirkom.ru\">Республика Северная Осетия - Алания</option><option value=\"http://www.tatarstan.izbirkom.ru\">Республика Татарстан (Татарстан)</option><option value=\"http://www.tyva.izbirkom.ru\">Республика Тыва</option><option value=\"http://www.udmurt.izbirkom.ru\">Удмуртская Республика</option><option value=\"http://www.khakas.izbirkom.ru\">Республика Хакасия</option><option value=\"http://www.chechen.izbirkom.ru\">Чеченская Республика</option><option value=\"http://www.chuvash.izbirkom.ru\">Чувашская Республика - Чувашия</option><option value=\"http://www.altai-terr.izbirkom.ru\">Алтайский край</option><option value=\"http://www.zabkray.izbirkom.ru\">Забайкальский край</option><option value=\"http://www.kamchatka-krai.izbirkom.ru\">Камчатский край</option><option value=\"http://www.krasnodar.izbirkom.ru\">Краснодарский край</option><option value=\"http://www.krasnoyarsk.izbirkom.ru\">Красноярский край</option><option value=\"http://www.permkrai.izbirkom.ru\">Пермский край</option><option value=\"http://www.primorsk.izbirkom.ru\">Приморский край</option><option value=\"http://www.stavropol.izbirkom.ru\">Ставропольский край</option><option value=\"http://www.khabarovsk.izbirkom.ru\">Хабаровский край</option><option value=\"http://www.amur.izbirkom.ru\">Амурская область</option><option value=\"http://www.arkhangelsk.izbirkom.ru\">Архангельская область</option><option value=\"http://www.astrakhan.izbirkom.ru\">Астраханская область</option><option value=\"http://www.belgorod.izbirkom.ru\">Белгородская область</option><option value=\"http://www.bryansk.izbirkom.ru\"> Брянская область</option><option value=\"http://www.vladimir.izbirkom.ru\"> Владимирская область</option><option value=\"http://www.volgograd.izbirkom.ru\">Волгоградская область</option><option value=\"http://www.vologod.izbirkom.ru\">Вологодская область</option><option value=\"http://www.voronezh.izbirkom.ru\">Воронежская область</option><option value=\"http://www.ivanovo.izbirkom.ru\">Ивановская область</option><option value=\"http://www.irkutsk.izbirkom.ru\">Иркутская область</option><option value=\"http://www.kaliningrad.izbirkom.ru\">Калининградская область</option><option value=\"http://www.kaluga.izbirkom.ru\">Калужская область</option><option value=\"http://www.kemerovo.izbirkom.ru\">Кемеровская область - Кузбасс</option><option value=\"http://www.kirov.izbirkom.ru\">Кировская область</option><option value=\"http://www.kostroma.izbirkom.ru\">Костромская область</option><option value=\"http://www.kurgan.izbirkom.ru\">Курганская область</option><option value=\"http://www.kursk.izbirkom.ru\">Курская область</option><option value=\"http://www.leningrad-reg.izbirkom.ru\">Ленинградская область</option><option value=\"http://www.lipetsk.izbirkom.ru\">Липецкая область</option><option value=\"http://www.magadan.izbirkom.ru\">Магаданская область</option><option value=\"http://www.moscow-reg.izbirkom.ru\">Московская область</option><option value=\"http://www.murmansk.izbirkom.ru\">Мурманская область</option><option value=\"http://www.nnov.izbirkom.ru\">Нижегородская область</option><option value=\"http://www.novgorod.izbirkom.ru\">Новгородская область</option><option value=\"http://www.novosibirsk.izbirkom.ru\">Новосибирская область</option><option value=\"http://www.omsk.izbirkom.ru\">Омская область</option><option value=\"http://www.orenburg.izbirkom.ru\">Оренбургская область</option><option value=\"http://www.orel.izbirkom.ru\">Орловская область</option><option value=\"http://www.penza.izbirkom.ru\">Пензенская область</option><option value=\"http://www.pskov.izbirkom.ru\">Псковская область</option><option value=\"http://www.rostov.izbirkom.ru\">Ростовская область</option><option value=\"http://www.ryazan.izbirkom.ru\">Рязанская область</option><option value=\"http://www.samara.izbirkom.ru\">Самарская область</option><option value=\"http://www.saratov.izbirkom.ru\">Саратовская область</option><option value=\"http://www.sakhalin.izbirkom.ru\">Сахалинская область</option><option value=\"http://www.sverdlovsk.izbirkom.ru\">Свердловская область</option><option value=\"http://www.smolensk.izbirkom.ru\">Смоленская область</option><option value=\"http://www.tambov.izbirkom.ru\">Тамбовская область</option><option value=\"http://www.tver.izbirkom.ru\">Тверская область</option><option value=\"http://www.tomsk.izbirkom.ru\">Томская область</option><option value=\"http://www.tula.izbirkom.ru\">Тульская область</option><option value=\"http://www.tyumen.izbirkom.ru\">Тюменская область</option><option value=\"http://www.ulyanovsk.izbirkom.ru\">Ульяновская область</option><option value=\"http://www.chelyabinsk.izbirkom.ru\">Челябинская область</option><option value=\"http://www.yaroslavl.izbirkom.ru\">Ярославская область</option><option value=\"http://www.moscow-city.izbirkom.ru\">город Москва</option><option value=\"http://www.st-petersburg.izbirkom.ru\">город Санкт-Петербург</option><option value=\"http://www.sevastopol.izbirkom.ru\">город Севастополь</option><option value=\"http://www.jewish-aut.izbirkom.ru\">Еврейская автономная область</option><option value=\"http://www.nenetsk.izbirkom.ru\">Ненецкий автономный округ</option><option value=\"http://www.hmao.izbirkom.ru\">Ханты-Мансийский автономный округ</option><option value=\"http://www.chukot.izbirkom.ru\">Чукотский автономный округ</option><option value=\"http://www.yamal-nenetsk.izbirkom.ru\">Ямало-Ненецкий автономный округ</option><option value=\"http://sirius.izbirkom.ru\"> Федеральная территория \"Сириус\"</option></select>\n",
       "<script>$(function () {\n",
       "                                                        $('.cec-select select').select2({\n",
       "                                                            placeholder: \"Выберите территорию\",\n",
       "                                                            \"language\": {\n",
       "                                                                \"noMatches\": function () {\n",
       "                                                                    return \"Select a territory\";\n",
       "                                                                }\n",
       "                                                            }\n",
       "                                                        }).change(function () {\n",
       "                                                            window.open($(this).val(), '_blank');\n",
       "                                                        });\n",
       "                                                    });</script>\n",
       "</div>\n",
       "<br/>\n",
       "</div>\n",
       "</div>\n",
       "<a class=\"mini_title\" href=\"/izbiratelnym-komissiyam/obuchenie/raspisanie/\">Обучение</a>\n",
       "<ul class=\"popup_menu_border link_list\">\n",
       "<li><a href=\"/izbiratelnym-komissiyam/obuchenie/raspisanie/\">Расписание\n",
       "                                                обучения</a></li>\n",
       "<li><a href=\"/izbiratelnym-komissiyam/obuchenie/raspisanie/arkhiv/\">Архив\n",
       "                                                обучающих мероприятий</a></li>\n",
       "</ul>\n",
       "</div>\n",
       "</div>\n",
       "</li>\n",
       "<li class=\"popup_menu_item_li\" data-name=\"menu4\">\n",
       "<div class=\"popup_menu_item\">\n",
       "<div class=\"col-xs-12 col-sm-3\">\n",
       "<a class=\"link_ico\" href=\"/smi/kontakt.php\"><span><img alt=\"\" src=\"/local/templates/cikrf_v2_default/assets/images/sub_nav4.png\"/> Пресс-служба ЦИК России</span></a>\n",
       "</div>\n",
       "<div class=\"col-xs-12 col-sm-3\">\n",
       "<a class=\"link_ico\" href=\"/smi/foto-i-videomaterialy/\"><span><img alt=\"\" src=\"/local/templates/cikrf_v2_default/assets/images/sub_nav5.png\"/> Фото и видеоматериалы</span></a>\n",
       "</div>\n",
       "<div class=\"col-xs-12 col-sm-3\">\n",
       "<a class=\"mini_title\" href=\"/smi/akkreditatsiya-zhurnalistov/\" style=\"text-decoration:none !important\">Аккредитация журналистов</a>\n",
       "<ul class=\"popup_menu_border link_list\">\n",
       "<li><a href=\"/smi/akkreditatsiya-zhurnalistov/dlya-raboty-na-vyborakh/\">Аккредитация\n",
       "                                                представителей средств массовой информации на выборах, референдумах</a></li>\n",
       "<li><a href=\"/smi/akkreditatsiya-zhurnalistov/dlya-raboty-v-infotsentre/\">Аккредитация\n",
       "                                                для работы в Информационном центре ЦИК России</a></li>\n",
       "<li><a href=\"/smi/akkreditatsiya-zhurnalistov/na-meropriyatiya/\">Аккредитация на\n",
       "                                                мероприятия ЦИК России</a></li>\n",
       "</ul>\n",
       "</div>\n",
       "<div class=\"col-xs-12 col-sm-3\">\n",
       "<ul class=\"popup_menu_border link_list\">\n",
       "<li><a href=\"/smi/brendbuk-i-geraldika/\">Брендбук и геральдика</a></li>\n",
       "<li><a href=\"/smi/informatsionnye-materialy/\">Информационные материалы</a></li>\n",
       "</ul>\n",
       "<!--<a class=\"mini_title popup_menu_border\" style=\"padding-top: 16px;\"\n",
       "                                       href=\"/smi/competition/\">Конкурс СМИ - 2019</a>-->\n",
       "</div>\n",
       "</div>\n",
       "</li>\n",
       "<li class=\"popup_menu_item_li\" data-name=\"menu5\">\n",
       "<div class=\"popup_menu_item\">\n",
       "<div class=\"col-xs-12 col-sm-3\">\n",
       "<a class=\"link_ico\" href=\"/nablyudatelyam-i-ekspertam/publichnoe-obsuzhdenie/\"><span><img alt=\"\" src=\"/local/templates/cikrf_v2_default/assets/images/sub_nav9.png\"/>Публичное обсуждение</span></a>\n",
       "</div>\n",
       "<div class=\"col-xs-12 col-sm-3\">\n",
       "<a class=\"link_ico\" href=\"/nablyudatelyam-i-ekspertam/konsultant/\"><span><img alt=\"\" src=\"/local/templates/cikrf_v2_default/assets/images/sub_nav10.png\"/> Взаимодействие с экспертами<br/>Консультативная площадка</span></a>\n",
       "</div>\n",
       "<div class=\"col-xs-12 col-sm-3\" style=\"margin-left: 0px; padding-right: 10px;\">\n",
       "<a class=\"mini_title\" href=\"/nablyudatelyam-i-ekspertam/obuchenie-nablyudateley/\">Обучение\n",
       "                                        наблюдателей</a>\n",
       "<ul class=\"popup_menu_border link_list\">\n",
       "<li><a href=\"/nablyudatelyam-i-ekspertam/obuchenie-nablyudateley/\">Анонсы</a>\n",
       "</li>\n",
       "<li>\n",
       "<a href=\"/nablyudatelyam-i-ekspertam/obuchenie-nablyudateley/arkhiv/\">Архив</a>\n",
       "</li>\n",
       "</ul>\n",
       "<div class=\"overflow:hidden\" style=\"height:10px;\"></div>\n",
       "<a class=\"mini_title\" href=\"/nablyudatelyam-i-ekspertam/metodicheskie-materialy/\">Методические материалы</a>\n",
       "<a class=\"mini_title popup_menu_border\" href=\"/nablyudatelyam-i-ekspertam/meropriyatiya/\">Мероприятия\n",
       "                                        ЦИК России</a>\n",
       "</div>\n",
       "<div class=\"col-xs-12 col-sm-3\">\n",
       "<div class=\"\" style=\"height:160px; margin-right: -5px; margin-left: -5px; border: 1px solid #5c96bf;\">\n",
       "<div class=\"overflow:hidden\" style=\"height:40px;\"></div>\n",
       "<!--\t<a  style=\"padding-left:6px\" href=\"/nablyudatelyam-i-ekspertam/analiz-soobscheniy-o-narusheniyakh/\" class=\"mini_title popup_menu_border\"><center>Информация об итогах анализа сообщений о предполагаемых нарушениях на выборах в единый день голосования 8 сентября 2019 года</center></a>\t-->\n",
       "<a class=\"mini_title popup_menu_border\" href=\"/nablyudatelyam-i-ekspertam/analiz-soobscheniy-o-narusheniyakh/\" style=\"padding-left:6px\"><center>Анализ сообщений о предполагаемых нарушениях на выборах</center></a>\n",
       "</div>\n",
       "<!--<div class=\"search event\" style=\"margin-top: 52px;\">\n",
       "                                        <div class=\"input-group\"><form action=\"/nablyudatelyam-i-ekspertam/obuchenie-nablyudateley/arkhiv/search/\">\n",
       "\t<input class=\"form-control\" placeholder=\"Поиск обучающих мероприятий\" type=\"text\" name=\"q\" size=\"15\">\n",
       "\t<input name=\"s\" type=\"hidden\" value=\"Поиск по сайту\">\n",
       "\t<button class=\"btn\" type=\"submit\"></button>\n",
       "</form>\n",
       "                                        </div>\n",
       "                                    </div>-->\n",
       "</div>\n",
       "</div>\n",
       "</li>\n",
       "</ul>\n",
       "</nav>\n",
       "</div>\n",
       "</div>\n",
       "<div class=\"header_row3\">\n",
       "<div class=\"container\">\n",
       "<div class=\"row\">\n",
       "<div class=\"col-xs-12 col-sm-6 logo\">\n",
       "<a href=\"/\"><img alt=\"Центральная избирательная комиссия Российской Федерации\" src=\"/local/templates/cikrf_v2_default/assets/images/logo.png\"/></a>\n",
       "</div>\n",
       "<div class=\"col-xs-12 col-sm-4 id-main\" style=\"width:28,5%;margin-left: -8px;margin-top: 20px;\"><a href=\"https://map.rostelecom-cc.ru/\" id=\"slogan\" style=\"overflow:hidden;\" target=\"_blank\" title=\"ТИК и УИК\">\n",
       "<img class=\"mini_border_img\" src=\"/upload/img/tik_370х125_re.jpg\"/>\n",
       "</a></div><div class=\"col-xs-12 col-sm-4 id-main-no\" style=\"width:28,5%;margin-left: -8px;margin-top: 20px;\"></div>\n",
       "<div class=\"col-xs-12 col-sm-3 header_phone\" style=\"width:28,5%;margin-left: -8%;\">\n",
       "<!--<a href=\"/analog/hot_line.php\"><img src=\"tik.jpg\"></a>-->\n",
       "<!--<a  style=\"margin-top:17px !important; background: transparent url(../images/) left center no-repeat;\" href=\"/analog/hot_line.php\" class=\"link\">\n",
       "<img class=\"\" src=\"/upload/img/ISC_265х125.jpg\"  />\n",
       "<span class=\"text\"><div align=\"center\"><font size=\"4px\">Информационно-справочный центр<br/> «Горячая линия»</font></div></span> \n",
       "<span class=\"tel\"><div align=\"center\" >8-800-200-00-20</div><div align=\"center\" style=\"margin-top: 5px\">+7-499-754-00-20</div><div align=\"center\" style=\"margin-top: -10px\"><font color=\"#31404b\" size=\"2px\" style=\"font-weight: normal;\">(для звонков из-за рубежа)</font></div></span>\n",
       "\n",
       "</a>\n",
       "<!--\n",
       "<a href=\"/analog/hot_line.php\" class=\"link\">\n",
       "\t<span class=\"text\"><div align=\"center\">Работает «горячая линия»</div></span> \n",
       "\t<span class=\"tel\"><div align=\"center\">+7 (495) 606-98-88</div></span> \t\n",
       "</a>\n",
       "-->\n",
       "<a class=\"link\" href=\"/analog/hot_line.php\" style=\"margin-top:17px !important; background: transparent url(../images/) left center no-repeat;\">\n",
       "<img class=\"\" src=\"/upload/img/ISTS_265х125_13.09.22.jpg\"/>\n",
       "</a> </div>\n",
       "</div>\n",
       "</div>\n",
       "</div>\n",
       "</div>\n",
       "<div class=\"mobile\"><!--копия шапки для мобилки-->\n",
       "<div class=\"col-xs-12\">\n",
       "<div class=\"open_logo\">\n",
       "<a class=\"open_bm_nav\" href=\"javascript:void(0);\" id=\"open_bm_nav\"></a>\n",
       "<a href=\"/\"><img alt=\"Центральная избирательная комиссия Российской Федерации\" src=\"/local/templates/cikrf_v2_default/assets/images/mb_logo_close.png\"/></a>\n",
       "</div>\n",
       "</div>\n",
       "<div class=\"mb_nav\">\n",
       "<div class=\"close_logo\">\n",
       "<a href=\"/\"><img alt=\"Центральная избирательная комиссия Российской Федерации\" src=\"/local/templates/cikrf_v2_default/assets/images/mb_logo_open.png\"/></a>\n",
       "<a class=\"close_bm_nav\" href=\"javascript:void(0);\" id=\"close_bm_nav\"></a>\n",
       "</div>\n",
       "<div class=\"search\">\n",
       "<div class=\"input-group\"><form action=\"/search/index.php\">\n",
       "<input class=\"form-control\" name=\"q\" placeholder=\"Поиск по сайту\" size=\"15\" type=\"text\"/>\n",
       "<input name=\"s\" type=\"hidden\" value=\"Поиск по сайту\"/>\n",
       "<button class=\"btn\" type=\"submit\"></button>\n",
       "</form></div>\n",
       "</div>\n",
       "<div class=\"mb_header_row1\">\n",
       "<ul>\n",
       "<li class=\"special\"><a href=\"#\" id=\"uhvb\" onclick=\"uvcl()\">Версия для слабовидящих</a></li>\n",
       "<li class=\"en_ru\"><a href=\"/eng/\">English version</a></li>\n",
       "<li class=\"phone\">\n",
       "<a href=\"tel:+74956069888\">Работает «горячая линия» +7 (495) 606-98-88</a>\n",
       "</li>\n",
       "</ul>\n",
       "</div>\n",
       "<nav class=\"mb_header_row2\">\n",
       "<ul class=\"header_menu_mb top_nav_ico\">\n",
       "<li><a class=\"link nav0\" href=\"/digital-services/\">Цифровые сервисы информирования избирателей</a>\n",
       "</li>\n",
       "<li><a class=\"link nav1\" href=\"/izbiratel/\">Избиратели</a></li>\n",
       "<li><a class=\"link nav2\" href=\"/politparty/\">Кандидаты и партии</a></li>\n",
       "<li><a class=\"link nav3\" href=\"/izbiratelnym-komissiyam/sroki-formirovaniya-iksrf/\">Избирательные\n",
       "                            комиссии</a></li>\n",
       "<li><a class=\"link nav4\" href=\"/smi/kontakt.php\">СМИ</a></li>\n",
       "<li><a class=\"link nav5\" href=\"/nablyudatelyam-i-ekspertam/publichnoe-obsuzhdenie/\">Наблюдатели и\n",
       "                            эксперты</a></li>\n",
       "</ul>\n",
       "</nav>\n",
       "<div class=\"mb_header_row3\">\n",
       "<!-- <a class=\"link_text popup_menu_border\" href=\"/analog/ediny-den-golosovaniya-2019/kategorii-viborov/\">Единый\n",
       "                    день голосования 8 сентября 2019 года</a>-->\n",
       "<a class=\"link_text popup_menu_border\" href=\"/about/\">О комиссии</a>\n",
       "<a class=\"link_text popup_menu_border\" href=\"/activity/relevant/\">Деятельность ЦИК России</a>\n",
       "<a class=\"link_text popup_menu_border\" href=\"http://cikrf.ru/personal/profile/\">Личный кабинет\n",
       "                    избирателя</a>\n",
       "<a class=\"link_text popup_menu_border\" href=\"/digital-services/naydi-svoy-izbiratelnyy-uchastok/\">Найди\n",
       "                    свой избирательный участок</a>\n",
       "<a class=\"link_text popup_menu_border\" href=\"/digital-services/naydi-sebya-v-spiske-izbirateley/\">Найди\n",
       "                    себя в списке избирателей</a>\n",
       "<a class=\"link_text popup_menu_border\" href=\"/law/constitution.php\">Избирательное законодательство</a>\n",
       "<a class=\"link_text popup_menu_border\" href=\"http://www.izbirkom.ru/region/izbirkom\">Информация о\n",
       "                    выборах и референдумах</a>\n",
       "<a class=\"link_text popup_menu_border\" href=\"/vid/\">Видеотрансляции заседаний ЦИК России</a>\n",
       "</div>\n",
       "</div>\n",
       "</div>\n",
       "<div class=\"visible-xs-block header_row3\">\n",
       "<div class=\"id-main-mob\"><a href=\"https://map.rostelecom-cc.ru/\" id=\"slogan\" style=\"overflow:hidden;\" target=\"_blank\" title=\"ТИК и УИК\">\n",
       "<img class=\"mini_border_img\" src=\"/upload/img/tik_370х125_re.jpg\"/>\n",
       "</a></div></div>\n",
       "<div class=\"visible-xs-block header_row3\">\n",
       "<div class=\"header_phone\">\n",
       "<!--<a href=\"/analog/hot_line.php\"><img src=\"tik.jpg\"></a>-->\n",
       "<!--<a  style=\"margin-top:17px !important; background: transparent url(../images/) left center no-repeat;\" href=\"/analog/hot_line.php\" class=\"link\">\n",
       "<img class=\"\" src=\"/upload/img/ISC_265х125.jpg\"  />\n",
       "<span class=\"text\"><div align=\"center\"><font size=\"4px\">Информационно-справочный центр<br/> «Горячая линия»</font></div></span> \n",
       "<span class=\"tel\"><div align=\"center\" >8-800-200-00-20</div><div align=\"center\" style=\"margin-top: 5px\">+7-499-754-00-20</div><div align=\"center\" style=\"margin-top: -10px\"><font color=\"#31404b\" size=\"2px\" style=\"font-weight: normal;\">(для звонков из-за рубежа)</font></div></span>\n",
       "\n",
       "</a>\n",
       "<!--\n",
       "<a href=\"/analog/hot_line.php\" class=\"link\">\n",
       "\t<span class=\"text\"><div align=\"center\">Работает «горячая линия»</div></span> \n",
       "\t<span class=\"tel\"><div align=\"center\">+7 (495) 606-98-88</div></span> \t\n",
       "</a>\n",
       "-->\n",
       "<a class=\"link\" href=\"/analog/hot_line.php\" style=\"margin-top:17px !important; background: transparent url(../images/) left center no-repeat;\">\n",
       "<img class=\"\" src=\"/upload/img/ISTS_265х125_13.09.22.jpg\"/>\n",
       "</a> </div>\n",
       "</div>\n",
       "</header><div class=\"container inner_page\">\n",
       "<div class=\"row\">\n",
       "<div class=\"col-md-12 visible-xs sidebar\">\n",
       "<div class=\"page_title\"></div>\n",
       "</div>\n",
       "<div class=\"col-md-12 content\">\n",
       "<h1 class=\"page_title\"></h1>\n",
       "<div class=\"content_body\">\n",
       "<a class=\"mobile-back hidden-xs\" href=\"/digital-services/\">Другие цифровые сервисы</a>\n",
       "<div class=\"digital-modal\" id=\"find-uik-fail\" style=\"display:none;\">\n",
       "<p><b>Информируем Вас, что сведения об избирательном участке по введенным Вами данным в системе ГАС \"ВЫБОРЫ\"\n",
       "            на момент создания запроса отсутствуют.</b>\n",
       "</p>\n",
       "<p>В случае необходимости получения дополнительной информации, вы можете обратиться в избирательную\n",
       "        комиссию субъекта Российской Федерации по месту жительства\n",
       "        (адреса избирательных комиссий субъектов Российской Федерации -\n",
       "        <a href=\"http://www.cikrf.ru/sites\">www.cikrf.ru/sites</a>).\n",
       "    </p>\n",
       "</div>\n",
       "<div class=\"digital-modal\" id=\"find-uik-members\" style=\"display:none;\">\n",
       "<h4 style=\"text-align: left; margin-bottom:0; font-size:24px\">Члены избирательной комиссии с правом решающего голоса</h4>\n",
       "<h4 class=\"digital-subtitle\" style=\"text-align: left; margin-top:0; font-size:18px\"></h4>\n",
       "<table class=\"digital-table greyborders hidden-xs\">\n",
       "<tr>\n",
       "<th></th>\n",
       "<th>ФИО</th>\n",
       "<th>Статус</th>\n",
       "<th>Кем предложен в состав комиссии</th>\n",
       "</tr>\n",
       "</table>\n",
       "<div class=\"visible-xs digital-list\"></div>\n",
       "</div>\n",
       "<div class=\"digital-result\" id=\"find-uik-result\" style=\"display: none\">\n",
       "<h1 class=\"digital-title\">Информирование об избирательных комиссиях и комиссиях референдума</h1>\n",
       "<div class=\"find-uik-commission\">\n",
       "<div class=\"find-uik-head\">\n",
       "<h4 class=\"digital-subtitle\"></h4>\n",
       "<div class=\"find-uik-select-container\">\n",
       "<select class=\"find-uik-select\"></select>\n",
       "</div>\n",
       "</div>\n",
       "<div class=\"row\">\n",
       "<div class=\"col-xs-12 col-md-6 find-uik-address\">\n",
       "<h4 class=\"address-head\">Избирательная комиссия</h4>\n",
       "<div class=\"find-uik-dd\">\n",
       "<label>Адрес: </label>\n",
       "<span class=\"address\"></span>\n",
       "</div>\n",
       "<div class=\"find-uik-dd\">\n",
       "<label>Телефон: </label>\n",
       "<span class=\"phone\"></span>\n",
       "</div>\n",
       "<a class=\"digital-button find-uik-button\" href=\"http://www.izbirkom.vybory.izbirkom.ru/\" style=\"height: auto\">Состав избирательной комиссии</a>\n",
       "</div>\n",
       "<div class=\"col-xs-12 col-md-6 find-uik-votingAddress\">\n",
       "<h4 class=\"address-head\">Помещение для голосования</h4>\n",
       "<div class=\"find-uik-dd\">\n",
       "<label>Адрес: </label>\n",
       "<span class=\"address\"></span>\n",
       "</div>\n",
       "<div class=\"find-uik-dd\">\n",
       "<label>Телефон: </label>\n",
       "<span class=\"phone\"></span>\n",
       "</div>\n",
       "</div>\n",
       "</div>\n",
       "</div>\n",
       "<!--<div class=\"row\">\n",
       "        <div class=\"col-md-12 digital-info\">\n",
       "            <img src=\"/digital-services/assets/img/qm.svg\" class=\"pull-left digital-qm\">\n",
       "            <div>\n",
       "                В случае необходимости получения дополнительной информации,\n",
       "                вы можете обратиться в избирательную комиссию субъекта Российской Федерации\n",
       "                по месту жительства (<a href=\"http://www.cikrf.ru/sites\">адреса избирательных комиссий субъектов Российской Федерации</a>)\n",
       "            </div>\n",
       "        </div>\n",
       "    </div>-->\n",
       "<div class=\"map-box\">\n",
       "<div class=\"map-container\"></div>\n",
       "</div>\n",
       "<div class=\"row digital-card-container\">\n",
       "<div class=\"col-xs-12 col-md-6\" style=\"flex: 0 0 auto\">\n",
       "<a class=\"digital-card\" href=\"/digital-services/spa/#/\" target=\"spa\">\n",
       "<div class=\"digital-card-body\">\n",
       "<div class=\"digital-card-heading\"></div>\n",
       "<div class=\"find-uik-dd\">\n",
       "<label>Дата голосования: </label>\n",
       "</div>\n",
       "<!--<div class=\"find-uik-commission\"></div>\n",
       "                    <div class=\"digital-card-details\">Подробные сведения</div>-->\n",
       "</div>\n",
       "<img class=\"digital-card-arrow\" src=\"/digital-services/assets/img/vector.png\"/>\n",
       "</a>\n",
       "</div>\n",
       "</div>\n",
       "</div>\n",
       "<div class=\"view\">\n",
       "<h1 class=\"digital-title\">Информирование об избирательных комиссиях и комиссиях референдума</h1>\n",
       "<form class=\"secure find-yourself address__form\" method=\"POST\" name=\"find-uik\" novalidate=\"novalidate\" onsubmit=\"return false\">\n",
       "<div class=\"address__tabs\">\n",
       "<div class=\"address__tab address__tab--active\" data-name=\"address\">\n",
       "                Найти свой избирательный участок по адресу места жительства\n",
       "            </div>\n",
       "<div class=\"address__tab\" data-name=\"region\">\n",
       "                Найти адрес избирательного участка по его номеру\n",
       "            </div>\n",
       "</div>\n",
       "<div class=\"row address__tabpane address__tabpane--active\" data-name=\"address\">\n",
       "<div class=\"col-md-12\">\n",
       "<label>Введите адрес   <a class=\"tooltip-card\" data-html=\"true\" data-toggle=\"tooltip\" style=\"vertical-align: middle;\" title=\"&lt;img src='/digital-services/assets/img/tooltip.svg' /&gt;\"><svg fill=\"none\" height=\"14\" viewbox=\"0 0 14 14\" width=\"14\" xmlns=\"http://www.w3.org/2000/svg\">\n",
       "<g clip-path=\"url(#clip0)\">\n",
       "<path d=\"M7 0C3.13438 0 0 3.13438 0 7C0 10.8656 3.13438 14 7 14C10.8656 14 14 10.8656 14 7C14 3.13438 10.8656 0 7 0ZM7 12.8125C3.79063 12.8125 1.1875 10.2094 1.1875 7C1.1875 3.79063 3.79063 1.1875 7 1.1875C10.2094 1.1875 12.8125 3.79063 12.8125 7C12.8125 10.2094 10.2094 12.8125 7 12.8125Z\" fill=\"#7D7D7D\"></path>\n",
       "<path d=\"M8.74375 3.94795C8.275 3.53701 7.65625 3.31201 7 3.31201C6.34375 3.31201 5.725 3.53857 5.25625 3.94795C4.76875 4.37451 4.5 4.94795 4.5 5.56201V5.68076C4.5 5.74951 4.55625 5.80576 4.625 5.80576H5.375C5.44375 5.80576 5.5 5.74951 5.5 5.68076V5.56201C5.5 4.87295 6.17344 4.31201 7 4.31201C7.82656 4.31201 8.5 4.87295 8.5 5.56201C8.5 6.04795 8.15625 6.49326 7.62344 6.69795C7.29219 6.82451 7.01094 7.04639 6.80937 7.33701C6.60469 7.63389 6.49844 7.99014 6.49844 8.35107V8.68701C6.49844 8.75576 6.55469 8.81201 6.62344 8.81201H7.37344C7.44219 8.81201 7.49844 8.75576 7.49844 8.68701V8.33232C7.49925 8.18064 7.54574 8.03272 7.63187 7.90785C7.71799 7.78298 7.83975 7.68697 7.98125 7.63232C8.90312 7.27764 9.49844 6.46514 9.49844 5.56201C9.5 4.94795 9.23125 4.37451 8.74375 3.94795ZM6.375 10.437C6.375 10.6028 6.44085 10.7617 6.55806 10.879C6.67527 10.9962 6.83424 11.062 7 11.062C7.16576 11.062 7.32473 10.9962 7.44194 10.879C7.55915 10.7617 7.625 10.6028 7.625 10.437C7.625 10.2713 7.55915 10.1123 7.44194 9.99507C7.32473 9.87786 7.16576 9.81201 7 9.81201C6.83424 9.81201 6.67527 9.87786 6.55806 9.99507C6.44085 10.1123 6.375 10.2713 6.375 10.437Z\" fill=\"#7D7D7D\"></path>\n",
       "</g>\n",
       "<defs>\n",
       "<clippath id=\"clip0\">\n",
       "<rect fill=\"white\" height=\"14\" width=\"14\"></rect>\n",
       "</clippath>\n",
       "</defs>\n",
       "</svg>\n",
       "</a>\n",
       "<a class=\"tooltip-card-mobile\" data-html=\"true\" data-toggle=\"tooltip-mobile\" style=\"vertical-align: middle;\" title=\"&lt;p&gt;Быстрый поиск адреса осуществляется &lt;br&gt;по ключевым словам, таким как &lt;br&gt; название города и улицы.&lt;/p&gt;\n",
       "&lt;p&gt;Выбирайте промежуточные варианты &lt;br&gt; из предлагаемых в списке и &lt;br&gt; дополняйте их уточняющей &lt;br&gt; информацией.&lt;/p&gt;\n",
       "&lt;p&gt;Не используйте при вводе адреса &lt;br&gt; знаки пунктуации, но обязательно &lt;br&gt; ставьте пробел между ключевыми &lt;br&gt; словами.&lt;/p&gt;\"><svg fill=\"none\" height=\"14\" viewbox=\"0 0 14 14\" width=\"14\" xmlns=\"http://www.w3.org/2000/svg\">\n",
       "<g clip-path=\"url(#clip0)\">\n",
       "<path d=\"M7 0C3.13438 0 0 3.13438 0 7C0 10.8656 3.13438 14 7 14C10.8656 14 14 10.8656 14 7C14 3.13438 10.8656 0 7 0ZM7 12.8125C3.79063 12.8125 1.1875 10.2094 1.1875 7C1.1875 3.79063 3.79063 1.1875 7 1.1875C10.2094 1.1875 12.8125 3.79063 12.8125 7C12.8125 10.2094 10.2094 12.8125 7 12.8125Z\" fill=\"#7D7D7D\"></path>\n",
       "<path d=\"M8.74375 3.94795C8.275 3.53701 7.65625 3.31201 7 3.31201C6.34375 3.31201 5.725 3.53857 5.25625 3.94795C4.76875 4.37451 4.5 4.94795 4.5 5.56201V5.68076C4.5 5.74951 4.55625 5.80576 4.625 5.80576H5.375C5.44375 5.80576 5.5 5.74951 5.5 5.68076V5.56201C5.5 4.87295 6.17344 4.31201 7 4.31201C7.82656 4.31201 8.5 4.87295 8.5 5.56201C8.5 6.04795 8.15625 6.49326 7.62344 6.69795C7.29219 6.82451 7.01094 7.04639 6.80937 7.33701C6.60469 7.63389 6.49844 7.99014 6.49844 8.35107V8.68701C6.49844 8.75576 6.55469 8.81201 6.62344 8.81201H7.37344C7.44219 8.81201 7.49844 8.75576 7.49844 8.68701V8.33232C7.49925 8.18064 7.54574 8.03272 7.63187 7.90785C7.71799 7.78298 7.83975 7.68697 7.98125 7.63232C8.90312 7.27764 9.49844 6.46514 9.49844 5.56201C9.5 4.94795 9.23125 4.37451 8.74375 3.94795ZM6.375 10.437C6.375 10.6028 6.44085 10.7617 6.55806 10.879C6.67527 10.9962 6.83424 11.062 7 11.062C7.16576 11.062 7.32473 10.9962 7.44194 10.879C7.55915 10.7617 7.625 10.6028 7.625 10.437C7.625 10.2713 7.55915 10.1123 7.44194 9.99507C7.32473 9.87786 7.16576 9.81201 7 9.81201C6.83424 9.81201 6.67527 9.87786 6.55806 9.99507C6.44085 10.1123 6.375 10.2713 6.375 10.437Z\" fill=\"#7D7D7D\"></path>\n",
       "</g>\n",
       "<defs>\n",
       "<clippath id=\"clip0\">\n",
       "<rect fill=\"white\" height=\"14\" width=\"14\"></rect>\n",
       "</clippath>\n",
       "</defs>\n",
       "</svg>\n",
       "</a>\n",
       "</label>\n",
       "<div class=\"form-group\">\n",
       "<select aria-required=\"true\" class=\"form-control\" data-msg-required=\"Выберите адрес места жительства\" field=\"Адрес места жительства\" name=\"address\" placeholder=\" \" required=\"\" size=\"50\">\n",
       "</select>\n",
       "</div>\n",
       "</div>\n",
       "</div>\n",
       "<div class=\"row address__tabpane\" data-name=\"region\">\n",
       "<div class=\"col-xs-12 col-md-12\">\n",
       "<label>Выберите регион</label>\n",
       "<div class=\"form-group\">\n",
       "<select aria-required=\"true\" class=\"form-control\" data-msg-required=\"Выберите регион\" field=\"Регион\" name=\"region\" placeholder=\"Регион *\" required=\"\" size=\"50\">\n",
       "</select>\n",
       "</div>\n",
       "</div>\n",
       "<div class=\"col-xs-12 col-md-12\">\n",
       "<label>Номер избирательного участка, участка референдума</label>\n",
       "<div class=\"form-group\">\n",
       "<input aria-required=\"true\" class=\"form-control\" data-msg-required=\"Укажите номер избирательного участка\" disabled=\"\" max=\"100000000\" min=\"1\" name=\"uik\" placeholder=\"Номер избирательного участка, участка референдума\" required=\"\" size=\"9\" type=\"number\"/>\n",
       "</div>\n",
       "</div>\n",
       "</div>\n",
       "<div class=\"row\">\n",
       "<div class=\"col-xs-12 col-sm-4 col-sm-push-8\">\n",
       "<input class=\"digital-button digital-button-blue\" id=\"send\" name=\"submit\" type=\"submit\" value=\"Искать\"/>\n",
       "</div>\n",
       "<div class=\"digital-info col-xs-12 col-sm-8 col-sm-pull-4\">\n",
       "                Сведения о соответствующем избирательном участке, участке референдума и участковой комиссии.\n",
       "            </div>\n",
       "</div>\n",
       "</form>\n",
       "<div class=\"address__info\">\n",
       "    Если у вас возникли трудности в процессе ввода адреса своего места жительства, вы можете\n",
       "  <a href=\"/digital-services/address-clarification/\"><b>\n",
       "    заполнить заявление об уточнении данных в части адреса своего места жительства\n",
       "  </b></a>\n",
       "  или обратиться в избирательную комиссию субъекта Российской Федерации по месту жительства\n",
       "  (<a href=\"/sites\">\n",
       "    адреса избирательных комиссий субъектов Российской Федерации\n",
       "  </a>)\n",
       "</div>\n",
       "<!--<div class=\"address__info\">\n",
       "\tЕсли у вас возникли трудности в процессе ввода адреса своего места жительства, вы можете <a href=\"/digital-services/zayavlenie-na-ytochenie/\">заполнить заявление на уточнение данных в части адреса своего места жительства</a> или обратиться в избирательную комиссию субъекта Российской Федерации по месту жительства (<a href=\"/sites\">адреса избирательных комиссий субъектов Российской Федерации</a>)\n",
       "\n",
       "    </div>-->\n",
       "</div>\n",
       "</div></div></div></div><footer class=\"container footer\">\n",
       "<div class=\"row_footer\">\n",
       "<div class=\"visible-xs\" style=\"text-align: center\">\n",
       "<a href=\"http://vestnik.cikrf.ru/\" target=\"_blank\"><img alt=\"Вестник\" src=\"/assets/img/home/img3.png\"/> </a>\n",
       "</div>\n",
       "<div class=\"visible-xs\" style=\"text-align: center\">\n",
       "<a href=\"http://www.rcoit.ru/\"><img src=\"/assets/img/RZOIT.jpg\" style=\"width: 25%;\"/></a>\n",
       "</div>\n",
       "<div class=\"visible-xs\" style=\"text-align: center\">\n",
       "<a href=\"http://www.rfsv.ru/\"><img src=\"/assets/img/home/img345.jpg\"/></a>\n",
       "</div>\n",
       "<div class=\"col-xs-12 col-sm-6 col-md-3 footer_1\">\n",
       "<div class=\"footer_contacts\">© ЦИК России<br/>\n",
       "\t\t\t\t\t109012, Москва, Б. Черкасский пер., д.9<br/>\n",
       "\t\t\t\tтелефон: \t\t\t\t\t8-800-200-00-20, <br/>+7 (495) 606-98-88\n",
       "\t\t\t\t\t\t\t</div>\n",
       "<ul class=\"footer_social_list\">\n",
       "<li><a href=\"https://vk.com/cikrussia\" target=\"_blank\"><img alt=\"\" src=\"/local/templates/cikrf_v2_default/assets/images/s1.png\"/></a></li>\n",
       "<li><a href=\"https://ok.ru/cikrussia\" target=\"_blank\"><img alt=\"\" src=\"/local/templates/cikrf_v2_default/assets/images/s2.png\"/></a></li>\n",
       "<!--<li><a href=\"http://www.facebook.com/CIKRussia\" target=\"_blank\"><img src=\"/local/templates/cikrf_v2_default/assets/images/s3.png\" alt=\"\"></a></li>\n",
       "\t\t\t\t<li><a href=\"https://twitter.com/CIKRussia\" target=\"_blank\"><img src=\"/local/templates/cikrf_v2_default/assets/images/s4.png\" alt=\"\"></a></li>-->\n",
       "<li><a href=\"https://www.youtube.com/cikrussia\" target=\"_blank\"><img alt=\"\" src=\"/local/templates/cikrf_v2_default/assets/images/s6.png\"/></a></li>\n",
       "<!--<li><a href=\"https://www.instagram.com/cikrussia\" target=\"_blank\"><img src=\"/local/templates/cikrf_v2_default/assets/images/s7.png\" alt=\"\"></a></li>-->\n",
       "<li><a href=\"https://t.me/cikrossii\" target=\"_blank\"><img alt=\"\" src=\"/local/templates/cikrf_v2_default/assets/images/s5.png\"/></a></li>\n",
       "</ul>\n",
       "</div>\n",
       "<div class=\"col-xs-12 col-sm-6 col-md-3 footer_2\">\n",
       "<ul class=\"footer_menu\">\n",
       "<li><a href=\"/opendata/\">Открытые данные</a></li>\n",
       "<li><a href=\"/map/\">Карта сайта</a></li>\n",
       "<li><a href=\"http://www.gov.ru/\" target=\"_blank\">Официальная Россия</a></li>\n",
       "<li><!--<a href=\"/cik_info/feedback.php\">Обратная связь</a>--></li>\n",
       "</ul>\n",
       "</div>\n",
       "<div class=\"col-xs-12 col-sm-6 col-md-3 footer_3\">\n",
       "<ul class=\"footer_menu\">\n",
       "<li><a href=\"/contact/\">Контакты</a></li>\n",
       "<li><a href=\"http://old.cikrf.ru/\" target=\"_blank\">Архивная версия сайта</a></li>\n",
       "<li><a href=\"/activity/relevant/detail/30637/\">Противодействие коррупции</a></li>\n",
       "<li><a href=\"/pers-data/\">О персональных данных пользователей</a></li>\n",
       "</ul>\n",
       "</div>\n",
       "<div class=\"col-xs-12 col-sm-6 col-md-3 top_select_block footer_4\">\n",
       "<ul class=\"footer_menu\">\n",
       "<li><a href=\"/zakazy/\">Информация о закупках</a>\n",
       "<ul class=\"footer_menu_sub\">\n",
       "<li><a href=\"/zakazy/zakcik/\">Закупки ЦИК России</a></li>\n",
       "<li><a href=\"/zakazy/zakfci/\">Закупки ФЦИ при ЦИК России</a></li>\n",
       "<li><a href=\"http://www.rcoit.ru/about/documents/tenders/\">Закупки РЦОИТ при ЦИК России</a></li>\n",
       "</ul>\n",
       "</li>\n",
       "</ul>\n",
       "</div>\n",
       "</div>\n",
       "</footer>\n",
       "<script type=\"text/javascript\">\n",
       "       (function(d, t, p) {\n",
       "           var j = d.createElement(t); j.async = true; j.type = \"text/javascript\";\n",
       "           j.src = (\"https:\" == p ? \"https:\" : \"http:\") + \"//stat.sputnik.ru/cnt.js\";\n",
       "           var s = d.getElementsByTagName(t)[0]; s.parentNode.insertBefore(j, s);\n",
       "       })(document, \"script\", document.location.protocol);\n",
       "    </script>\n",
       "</body></html>"
      ]
     },
     "execution_count": 8,
     "metadata": {},
     "output_type": "execute_result"
    }
   ],
   "source": [
    "BeautifulSoup(response.text)"
   ]
  },
  {
   "cell_type": "code",
   "execution_count": 9,
   "metadata": {},
   "outputs": [],
   "source": [
    "driver.get(\"http://cikrf.ru/digital-services/naydi-svoy-izbiratelnyy-uchastok/\")"
   ]
  },
  {
   "cell_type": "markdown",
   "metadata": {},
   "source": [
    "Раньше эта ссылка работала иначе! За время этих лекций сайт успел несколько раз измениться, так что нам придется переконфигурировать нашу работу :)\n",
    "У нас открывается страница, которая мешает просмотру (там что-то написано о персональных данных пользователей). Ее надо закрыть. Чтобы закрыть ее, нужно ткнуть в какой-то кликабельный элемент, прямо как если бы вы физически открывали эту страницу. Чтобы найти кликабельный элемент, нужно зайти в код страницы, навести на интересующий вас элемент и,например, скопировать его XPath. Что за  XPath, спросите вы. Это путь, по которому можно найти элемент в Xml- или html-размеченном документе. Скажем, в документе вида:"
   ]
  },
  {
   "cell_type": "markdown",
   "metadata": {},
   "source": [
    "    <tag1>\n",
    "        <tag2>\n",
    "            <tag3>\n",
    "            </tag3>\n",
    "        </tag2>\n",
    "    </tag1>\n",
    "\n",
    "Путь до tag3 будет иметь вид:\n",
    "\n",
    "    /tag1/tag2/tag3"
   ]
  },
  {
   "cell_type": "code",
   "execution_count": 10,
   "metadata": {},
   "outputs": [
    {
     "data": {
      "text/plain": [
       "'/html/body/div[2]/div/div/button'"
      ]
     },
     "execution_count": 10,
     "metadata": {},
     "output_type": "execute_result"
    }
   ],
   "source": [
    "'/html/body/div[2]/div/div/button'"
   ]
  },
  {
   "cell_type": "code",
   "execution_count": 11,
   "metadata": {},
   "outputs": [
    {
     "name": "stderr",
     "output_type": "stream",
     "text": [
      "/var/folders/4l/wvvj0csx3cd5ksl4vg3g_knm0000gn/T/ipykernel_42740/3976171054.py:1: DeprecationWarning: find_element_by_xpath is deprecated. Please use find_element(by=By.XPATH, value=xpath) instead\n",
      "  fld = driver.find_element_by_xpath('/html/body/div[2]/div/div/button')\n"
     ]
    },
    {
     "data": {
      "text/plain": [
       "<selenium.webdriver.remote.webelement.WebElement (session=\"3d05d4609c7e2a99b374349a89701498\", element=\"05d2200d-c281-4603-9f10-a353a4194549\")>"
      ]
     },
     "execution_count": 11,
     "metadata": {},
     "output_type": "execute_result"
    }
   ],
   "source": [
    "fld = driver.find_element_by_xpath('/html/body/div[2]/div/div/button')\n",
    "fld"
   ]
  },
  {
   "cell_type": "code",
   "execution_count": 12,
   "metadata": {},
   "outputs": [],
   "source": [
    "fld.click()"
   ]
  },
  {
   "cell_type": "markdown",
   "metadata": {},
   "source": [
    "Ура, страница открылась. Мы хоти искать по региону и номеру учатка, стало быть нужно два поля. Сохраним номер участка в переменную `n_uik`, а регион ‒ в `reg`."
   ]
  },
  {
   "cell_type": "code",
   "execution_count": 13,
   "metadata": {},
   "outputs": [],
   "source": [
    "n_uik = 244\n",
    "reg = \"Ивановская область\""
   ]
  },
  {
   "cell_type": "markdown",
   "metadata": {},
   "source": [
    "Вопрос: как эти два поля заполнить? Нужно найти их на странице, открытой в браузере, и вписать туда нужные строки. Только сделать это нужно через Python. "
   ]
  },
  {
   "cell_type": "markdown",
   "metadata": {},
   "source": [
    "![](selenium1.png)"
   ]
  },
  {
   "cell_type": "markdown",
   "metadata": {},
   "source": [
    "Надо найти этот элемент, как в прошлый раз:\n",
    "Код элемента -> Скопировать XPath"
   ]
  },
  {
   "cell_type": "markdown",
   "metadata": {},
   "source": [
    "![](selenium2.png)"
   ]
  },
  {
   "cell_type": "markdown",
   "metadata": {},
   "source": [
    "Теперь туда надо нажать"
   ]
  },
  {
   "cell_type": "code",
   "execution_count": 14,
   "metadata": {},
   "outputs": [
    {
     "name": "stderr",
     "output_type": "stream",
     "text": [
      "/var/folders/4l/wvvj0csx3cd5ksl4vg3g_knm0000gn/T/ipykernel_42740/714244861.py:1: DeprecationWarning: find_element_by_xpath is deprecated. Please use find_element(by=By.XPATH, value=xpath) instead\n",
      "  fld = driver.find_element_by_xpath(\n"
     ]
    }
   ],
   "source": [
    "fld = driver.find_element_by_xpath(\n",
    "    \"/html/body/div[1]/div/div[2]/div/div[4]/form/div[1]/div[2]\")\n",
    "fld.click()"
   ]
  },
  {
   "cell_type": "markdown",
   "metadata": {},
   "source": [
    "Мы, наконец, попали на отображение функциональности с выбором поля УИК и Региона. Чтоб ввести регион, нужно в соответствующее место кликнуть. Мы такое уже делали:"
   ]
  },
  {
   "cell_type": "code",
   "execution_count": 15,
   "metadata": {},
   "outputs": [
    {
     "name": "stderr",
     "output_type": "stream",
     "text": [
      "/var/folders/4l/wvvj0csx3cd5ksl4vg3g_knm0000gn/T/ipykernel_42740/1802059659.py:1: DeprecationWarning: find_element_by_xpath is deprecated. Please use find_element(by=By.XPATH, value=xpath) instead\n",
      "  fld = driver.find_element_by_xpath(\n"
     ]
    }
   ],
   "source": [
    "fld = driver.find_element_by_xpath(\n",
    "    '/html/body/div[1]/div/div[2]/div/div[4]/form/div[3]/div[1]/div/span/span[1]/span/span[2]'\n",
    ")\n",
    "fld.click()"
   ]
  },
  {
   "cell_type": "markdown",
   "metadata": {},
   "source": [
    "В реальной жизни мы бы после нажали ENTER. Здесь тоже так можно (последняя команда)"
   ]
  },
  {
   "cell_type": "code",
   "execution_count": 16,
   "metadata": {},
   "outputs": [
    {
     "data": {
      "text/plain": [
       "'Ивановская область'"
      ]
     },
     "execution_count": 16,
     "metadata": {},
     "output_type": "execute_result"
    }
   ],
   "source": [
    "reg"
   ]
  },
  {
   "cell_type": "code",
   "execution_count": 17,
   "metadata": {},
   "outputs": [
    {
     "name": "stderr",
     "output_type": "stream",
     "text": [
      "/var/folders/4l/wvvj0csx3cd5ksl4vg3g_knm0000gn/T/ipykernel_42740/116666981.py:2: DeprecationWarning: find_element_by_xpath is deprecated. Please use find_element(by=By.XPATH, value=xpath) instead\n",
      "  reg_field = driver.find_element_by_xpath('/html/body/span/span/span[1]/input')\n"
     ]
    }
   ],
   "source": [
    "# вводим название региона в поле - метод send_keys\n",
    "reg_field = driver.find_element_by_xpath('/html/body/span/span/span[1]/input')\n",
    "reg_field.send_keys(reg)\n"
   ]
  },
  {
   "cell_type": "code",
   "execution_count": 18,
   "metadata": {},
   "outputs": [],
   "source": [
    "reg_field.send_keys(Keys.RETURN)"
   ]
  },
  {
   "cell_type": "markdown",
   "metadata": {},
   "source": [
    "Теперь нужно выбрать номер участка. Для этого осталось ввести в поле нужный нам номер (пока что у нас 244)"
   ]
  },
  {
   "cell_type": "markdown",
   "metadata": {},
   "source": [
    "![](selenium3.png)"
   ]
  },
  {
   "cell_type": "markdown",
   "metadata": {},
   "source": [
    "Все, заталкиваем в это поле наш УИК и пытаемся искать :)"
   ]
  },
  {
   "cell_type": "code",
   "execution_count": 19,
   "metadata": {},
   "outputs": [
    {
     "data": {
      "text/plain": [
       "244"
      ]
     },
     "execution_count": 19,
     "metadata": {},
     "output_type": "execute_result"
    }
   ],
   "source": [
    "n_uik"
   ]
  },
  {
   "cell_type": "code",
   "execution_count": 20,
   "metadata": {},
   "outputs": [
    {
     "name": "stderr",
     "output_type": "stream",
     "text": [
      "/var/folders/4l/wvvj0csx3cd5ksl4vg3g_knm0000gn/T/ipykernel_42740/2181476396.py:2: DeprecationWarning: find_element_by_xpath is deprecated. Please use find_element(by=By.XPATH, value=xpath) instead\n",
      "  uik_field = driver.find_element_by_xpath('/html/body/div[1]/div/div[2]/div/div[4]/form/div[3]/div[2]/div/input')\n"
     ]
    }
   ],
   "source": [
    "# вводим номер УИКа в поле - метод send_keys\n",
    "uik_field = driver.find_element_by_xpath('/html/body/div[1]/div/div[2]/div/div[4]/form/div[3]/div[2]/div/input')\n",
    "uik_field.click()\n",
    "uik_field.send_keys(n_uik)\n"
   ]
  },
  {
   "cell_type": "code",
   "execution_count": 21,
   "metadata": {},
   "outputs": [],
   "source": [
    "uik_field.send_keys(Keys.RETURN)"
   ]
  },
  {
   "cell_type": "markdown",
   "metadata": {},
   "source": [
    "В браузере открылась страница с адресом избирательного участка. "
   ]
  },
  {
   "cell_type": "markdown",
   "metadata": {},
   "source": [
    "![](selenium4.png)"
   ]
  },
  {
   "cell_type": "markdown",
   "metadata": {},
   "source": [
    "Осталось подгрузить `re` и найти на странице адрес участка с помощью,например, регулярных выражений."
   ]
  },
  {
   "cell_type": "code",
   "execution_count": 22,
   "metadata": {},
   "outputs": [],
   "source": [
    "driver.close()"
   ]
  },
  {
   "cell_type": "code",
   "execution_count": 23,
   "metadata": {},
   "outputs": [
    {
     "name": "stdout",
     "output_type": "stream",
     "text": [
      "\n"
     ]
    },
    {
     "name": "stderr",
     "output_type": "stream",
     "text": [
      "[WDM] - ====== WebDriver manager ======\n",
      "[WDM] - Current google-chrome version is 106.0.5249\n",
      "[WDM] - Get LATEST chromedriver version for 106.0.5249 google-chrome\n",
      "[WDM] - Driver [/Users/Dell/.wdm/drivers/chromedriver/mac64/106.0.5249.61/chromedriver] found in cache\n",
      "/var/folders/4l/wvvj0csx3cd5ksl4vg3g_knm0000gn/T/ipykernel_42740/1503906442.py:1: DeprecationWarning: executable_path has been deprecated, please pass in a Service object\n",
      "  driver = webdriver.Chrome(ChromeDriverManager().install())\n"
     ]
    }
   ],
   "source": [
    "driver = webdriver.Chrome(ChromeDriverManager().install())"
   ]
  },
  {
   "cell_type": "code",
   "execution_count": 24,
   "metadata": {},
   "outputs": [
    {
     "name": "stderr",
     "output_type": "stream",
     "text": [
      "/var/folders/4l/wvvj0csx3cd5ksl4vg3g_knm0000gn/T/ipykernel_42740/3199531990.py:5: DeprecationWarning: find_element_by_xpath is deprecated. Please use find_element(by=By.XPATH, value=xpath) instead\n",
      "  fld = driver.find_element_by_xpath(\"/html/body/div[2]/div/div/button\")\n",
      "/var/folders/4l/wvvj0csx3cd5ksl4vg3g_knm0000gn/T/ipykernel_42740/3199531990.py:10: DeprecationWarning: find_element_by_xpath is deprecated. Please use find_element(by=By.XPATH, value=xpath) instead\n",
      "  fld = driver.find_element_by_xpath(\"/html/body/div[1]/div/div[2]/div/div[4]/form/div[1]/div[2]\")\n",
      "/var/folders/4l/wvvj0csx3cd5ksl4vg3g_knm0000gn/T/ipykernel_42740/3199531990.py:15: DeprecationWarning: find_element_by_xpath is deprecated. Please use find_element(by=By.XPATH, value=xpath) instead\n",
      "  fld = driver.find_element_by_xpath('/html/body/div[1]/div/div[2]/div/div[4]/form/div[3]/div[1]/div/span/span[1]/span/span[2]')\n",
      "/var/folders/4l/wvvj0csx3cd5ksl4vg3g_knm0000gn/T/ipykernel_42740/3199531990.py:20: DeprecationWarning: find_element_by_xpath is deprecated. Please use find_element(by=By.XPATH, value=xpath) instead\n",
      "  reg_field = driver.find_element_by_xpath('/html/body/span/span/span[1]/input')\n",
      "/var/folders/4l/wvvj0csx3cd5ksl4vg3g_knm0000gn/T/ipykernel_42740/3199531990.py:29: DeprecationWarning: find_element_by_xpath is deprecated. Please use find_element(by=By.XPATH, value=xpath) instead\n",
      "  uik_field = driver.find_element_by_xpath('/html/body/div[1]/div/div[2]/div/div[4]/form/div[3]/div[2]/div/input')\n"
     ]
    }
   ],
   "source": [
    "from time import sleep\n",
    "\n",
    "driver.get(\"http://www.cikrf.ru/services/lk_address/?do=find_by_uik\")\n",
    "\n",
    "fld = driver.find_element_by_xpath(\"/html/body/div[2]/div/div/button\")\n",
    "fld.click()\n",
    "\n",
    "sleep(1.5)\n",
    "\n",
    "fld = driver.find_element_by_xpath(\"/html/body/div[1]/div/div[2]/div/div[4]/form/div[1]/div[2]\")\n",
    "fld.click()\n",
    "\n",
    "sleep(1.5)\n",
    "\n",
    "fld = driver.find_element_by_xpath('/html/body/div[1]/div/div[2]/div/div[4]/form/div[3]/div[1]/div/span/span[1]/span/span[2]')\n",
    "fld.click()\n",
    "\n",
    "sleep(1.5)\n",
    "\n",
    "reg_field = driver.find_element_by_xpath('/html/body/span/span/span[1]/input')\n",
    "reg_field.send_keys(reg)\n",
    "\n",
    "sleep(1.5)\n",
    "\n",
    "reg_field.send_keys(Keys.RETURN)\n",
    "\n",
    "sleep(1.5)\n",
    "\n",
    "uik_field = driver.find_element_by_xpath('/html/body/div[1]/div/div[2]/div/div[4]/form/div[3]/div[2]/div/input')\n",
    "uik_field.click()\n",
    "uik_field.send_keys(n_uik)\n",
    "\n",
    "sleep(1.5)\n",
    "\n",
    "uik_field.send_keys(Keys.RETURN)"
   ]
  },
  {
   "cell_type": "markdown",
   "metadata": {},
   "source": [
    "Осталось выгрузить адрес для голосования. "
   ]
  },
  {
   "cell_type": "code",
   "execution_count": 25,
   "metadata": {},
   "outputs": [],
   "source": [
    "from bs4 import BeautifulSoup"
   ]
  },
  {
   "cell_type": "code",
   "execution_count": 26,
   "metadata": {},
   "outputs": [],
   "source": [
    "my_page = BeautifulSoup(driver.page_source)"
   ]
  },
  {
   "cell_type": "code",
   "execution_count": 27,
   "metadata": {},
   "outputs": [],
   "source": [
    "# my_page.text"
   ]
  },
  {
   "cell_type": "code",
   "execution_count": 28,
   "metadata": {},
   "outputs": [
    {
     "data": {
      "text/plain": [
       "[<span class=\"address\"></span>, <span class=\"address\"></span>]"
      ]
     },
     "execution_count": 28,
     "metadata": {},
     "output_type": "execute_result"
    }
   ],
   "source": [
    "my_page.find_all('span',{'class':'address'})"
   ]
  },
  {
   "cell_type": "code",
   "execution_count": 29,
   "metadata": {},
   "outputs": [
    {
     "data": {
      "text/plain": [
       "['', '']"
      ]
     },
     "execution_count": 29,
     "metadata": {},
     "output_type": "execute_result"
    }
   ],
   "source": [
    "[i.text for i in my_page.find_all('span',{'class':'address'})]"
   ]
  },
  {
   "cell_type": "code",
   "execution_count": 30,
   "metadata": {},
   "outputs": [],
   "source": [
    "p = filter(lambda x: x not in ('', None),\n",
    "           [i.text for i in my_page.find_all('span', {'class': 'address'})])"
   ]
  },
  {
   "cell_type": "code",
   "execution_count": 31,
   "metadata": {},
   "outputs": [
    {
     "data": {
      "text/plain": [
       "<filter at 0x10a26b550>"
      ]
     },
     "execution_count": 31,
     "metadata": {},
     "output_type": "execute_result"
    }
   ],
   "source": [
    "p"
   ]
  },
  {
   "cell_type": "code",
   "execution_count": 32,
   "metadata": {},
   "outputs": [
    {
     "ename": "StopIteration",
     "evalue": "",
     "output_type": "error",
     "traceback": [
      "\u001b[0;31m---------------------------------------------------------------------------\u001b[0m",
      "\u001b[0;31mStopIteration\u001b[0m                             Traceback (most recent call last)",
      "Input \u001b[0;32mIn [32]\u001b[0m, in \u001b[0;36m<cell line: 1>\u001b[0;34m()\u001b[0m\n\u001b[0;32m----> 1\u001b[0m p \u001b[38;5;241m=\u001b[39m \u001b[38;5;28;43mnext\u001b[39;49m\u001b[43m(\u001b[49m\u001b[43mp\u001b[49m\u001b[43m)\u001b[49m\n",
      "\u001b[0;31mStopIteration\u001b[0m: "
     ]
    }
   ],
   "source": [
    "p = next(p)"
   ]
  },
  {
   "cell_type": "code",
   "execution_count": null,
   "metadata": {},
   "outputs": [],
   "source": [
    "p"
   ]
  },
  {
   "cell_type": "markdown",
   "metadata": {},
   "source": [
    "Получилось! Единственное, хорошо бы учесть случаи, когда адреса участка в таком виде на странице нет (такие случаи бывают: иногда страница создана не по шаблону, иногда указан адрес территориальной комиссии). Для этого нам понадобится условие. Добавим «развилку»: пусть Python пробует найти адрес через указанное регулярное выражение, а если не найдет, то ищет его с помощью другого регулярного выражения. "
   ]
  },
  {
   "cell_type": "code",
   "execution_count": null,
   "metadata": {},
   "outputs": [],
   "source": [
    "# if p is None or p=='':\n",
    "#     p = 'Адреса не нашлось'\n",
    "p"
   ]
  },
  {
   "cell_type": "markdown",
   "metadata": {},
   "source": [
    "Теперь у нас есть +- универсальный код, который позволяет найти адрес избирательного участка по номеру. В следующий раз мы оформим этот код в функцию, чтобы можно было подставлять в нее любой номер и регион, и применять ее в цикле, итерируя по номерам участков."
   ]
  },
  {
   "cell_type": "code",
   "execution_count": 33,
   "metadata": {},
   "outputs": [],
   "source": [
    "driver.close()"
   ]
  },
  {
   "cell_type": "code",
   "execution_count": null,
   "metadata": {},
   "outputs": [],
   "source": []
  }
 ],
 "metadata": {
  "kernelspec": {
   "display_name": "Python 3 (ipykernel)",
   "language": "python",
   "name": "python3"
  },
  "language_info": {
   "codemirror_mode": {
    "name": "ipython",
    "version": 3
   },
   "file_extension": ".py",
   "mimetype": "text/x-python",
   "name": "python",
   "nbconvert_exporter": "python",
   "pygments_lexer": "ipython3",
   "version": "3.10.2"
  },
  "toc": {
   "base_numbering": 1,
   "nav_menu": {},
   "number_sections": true,
   "sideBar": true,
   "skip_h1_title": false,
   "title_cell": "Table of Contents",
   "title_sidebar": "Contents",
   "toc_cell": false,
   "toc_position": {},
   "toc_section_display": true,
   "toc_window_display": false
  },
  "varInspector": {
   "cols": {
    "lenName": 16,
    "lenType": 16,
    "lenVar": 40
   },
   "kernels_config": {
    "python": {
     "delete_cmd_postfix": "",
     "delete_cmd_prefix": "del ",
     "library": "var_list.py",
     "varRefreshCmd": "print(var_dic_list())"
    },
    "r": {
     "delete_cmd_postfix": ") ",
     "delete_cmd_prefix": "rm(",
     "library": "var_list.r",
     "varRefreshCmd": "cat(var_dic_list()) "
    }
   },
   "types_to_exclude": [
    "module",
    "function",
    "builtin_function_or_method",
    "instance",
    "_Feature"
   ],
   "window_display": false
  }
 },
 "nbformat": 4,
 "nbformat_minor": 2
}
