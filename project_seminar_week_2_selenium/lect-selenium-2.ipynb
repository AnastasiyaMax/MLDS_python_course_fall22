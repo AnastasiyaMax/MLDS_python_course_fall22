{
 "cells": [
  {
   "cell_type": "markdown",
   "metadata": {},
   "source": [
    "# Python для анализа данных\n",
    "\n",
    "*Алла Тамбовцева, НИУ ВШЭ*\n",
    "\n",
    "дополнения: *Ян Пиле, НИУ ВШЭ*\n",
    "\n",
    "### Работа с `selenium`: продолжение"
   ]
  },
  {
   "cell_type": "markdown",
   "metadata": {},
   "source": [
    "Сегодня мы продолжим работать над задачей, поставленной на прошлом занятии ‒ выгрузка адресов всех участковых избирательных комиссий Ивановской области. Сначала загрузим все необходимые для работы библиотеки:\n",
    "\n",
    "* `selenium` ‒ для автоматизации работы в браузере\n",
    "* `re` ‒ для поиска адреса на странице с помощью регулярных выражений \n",
    "* `time` ‒ для добавления задержки\n",
    "* `pandas` ‒ для сохранения результатов в датафрейм"
   ]
  },
  {
   "cell_type": "code",
   "execution_count": 1,
   "metadata": {},
   "outputs": [],
   "source": [
    "from selenium import webdriver as wb\n",
    "from selenium import webdriver\n",
    "from selenium.webdriver.common.keys import Keys\n",
    "from selenium.webdriver.support.ui import Select\n",
    "# driver = wb.Firefox()\n",
    "\n",
    "# driver.implicitly_wait(2)"
   ]
  },
  {
   "cell_type": "code",
   "execution_count": 2,
   "metadata": {},
   "outputs": [
    {
     "name": "stdout",
     "output_type": "stream",
     "text": [
      "\n"
     ]
    },
    {
     "name": "stderr",
     "output_type": "stream",
     "text": [
      "[WDM] - ====== WebDriver manager ======\n",
      "[WDM] - Current google-chrome version is 106.0.5249\n",
      "[WDM] - Get LATEST chromedriver version for 106.0.5249 google-chrome\n",
      "[WDM] - Driver [/Users/Dell/.wdm/drivers/chromedriver/mac64/106.0.5249.61/chromedriver] found in cache\n",
      "/var/folders/4l/wvvj0csx3cd5ksl4vg3g_knm0000gn/T/ipykernel_42748/2160715986.py:4: DeprecationWarning: executable_path has been deprecated, please pass in a Service object\n",
      "  driver = webdriver.Chrome(ChromeDriverManager().install())\n"
     ]
    }
   ],
   "source": [
    "from selenium import webdriver\n",
    "from webdriver_manager.chrome import ChromeDriverManager\n",
    "\n",
    "driver = webdriver.Chrome(ChromeDriverManager().install())"
   ]
  },
  {
   "cell_type": "code",
   "execution_count": 3,
   "metadata": {},
   "outputs": [],
   "source": [
    "import re\n",
    "from time import sleep\n",
    "import pandas as pd\n",
    "from bs4 import BeautifulSoup"
   ]
  },
  {
   "cell_type": "code",
   "execution_count": 4,
   "metadata": {},
   "outputs": [
    {
     "name": "stderr",
     "output_type": "stream",
     "text": [
      "/var/folders/4l/wvvj0csx3cd5ksl4vg3g_knm0000gn/T/ipykernel_42748/3525716967.py:3: DeprecationWarning: find_element_by_xpath is deprecated. Please use find_element(by=By.XPATH, value=xpath) instead\n",
      "  fld = driver.find_element_by_xpath(\"/html/body/div[2]/div/div/button\")\n"
     ]
    }
   ],
   "source": [
    "driver.get(\"http://cikrf.ru/digital-services/naydi-svoy-izbiratelnyy-uchastok/\")\n",
    "\n",
    "fld = driver.find_element_by_xpath(\"/html/body/div[2]/div/div/button\")\n",
    "fld.click()"
   ]
  },
  {
   "cell_type": "markdown",
   "metadata": {},
   "source": [
    "Теперь напишем функцию `get_uik_address()`, которая принимает на вход два аргумента, номер участка и регион, и возвращает строку с адресом. Для этого в тело функции скопируем код с прошлого занятия:"
   ]
  },
  {
   "cell_type": "code",
   "execution_count": 5,
   "metadata": {},
   "outputs": [],
   "source": [
    "def get_uik_address(n_uik, reg):\n",
    "    \n",
    "    driver.get(\"http://cikrf.ru/digital-services/naydi-svoy-izbiratelnyy-uchastok/\")\n",
    "\n",
    "#     fld = driver.find_element_by_xpath(\"/html/body/div[2]/div/div/button\")\n",
    "#     fld.click()\n",
    "\n",
    "#     sleep(1.5)\n",
    "\n",
    "    fld = driver.find_element_by_xpath(\"/html/body/div[1]/div/div[2]/div/div[4]/form/div[1]/div[2]\")\n",
    "    fld.click()\n",
    "\n",
    "    sleep(1.5)\n",
    "\n",
    "    fld = driver.find_element_by_xpath('/html/body/div[1]/div/div[2]/div/div[4]/form/div[3]/div[1]/div/span/span[1]/span/span[2]')\n",
    "    fld.click()\n",
    "\n",
    "    sleep(1.5)\n",
    "\n",
    "    reg_field = driver.find_element_by_xpath('/html/body/span/span/span[1]/input')\n",
    "    reg_field.send_keys(reg)\n",
    "\n",
    "    sleep(1.5)\n",
    "\n",
    "    reg_field.send_keys(Keys.RETURN)\n",
    "\n",
    "    sleep(1.5)\n",
    "\n",
    "    uik_field = driver.find_element_by_xpath('/html/body/div[1]/div/div[2]/div/div[4]/form/div[3]/div[2]/div/input')\n",
    "    uik_field.click()\n",
    "    uik_field.clear()\n",
    "    uik_field.send_keys(n_uik)\n",
    "\n",
    "    sleep(1.5)\n",
    "\n",
    "    uik_field.send_keys(Keys.RETURN)\n",
    "    \n",
    "    sleep(1.5)\n",
    "    \n",
    "    my_page = BeautifulSoup(driver.page_source)\n",
    "    p = filter(lambda x: x not in ('',None),[i.text for i in my_page.find_all('span',{'class':'address'})])\n",
    "    p = next(p)\n",
    "    \n",
    "    if p is None or p=='':\n",
    "        p = 'Адреса не нашлось'\n",
    "        \n",
    "    return p"
   ]
  },
  {
   "cell_type": "markdown",
   "metadata": {},
   "source": [
    "Теперь попробуем взять несколько номеров участков и посмотреть, что получается в цикле. Только давайте перестрахуемся ‒ напишем выражение с исключением, чтобы в случае, если страница не содержит адреса или загружается некорректно, наш код не ломался и не происходило выхода из цикла. В случае, если все хорошо (адрес есть), Python будет его сохранять («ветка» c `try`), в случае, если все плохо (адреса нет ни в каком виде), Python будет записывать вместо него пустую строку (ветка с `except`) и двигаться дальше. "
   ]
  },
  {
   "cell_type": "code",
   "execution_count": 6,
   "metadata": {},
   "outputs": [],
   "source": [
    "uiks = range(240, 245)"
   ]
  },
  {
   "cell_type": "code",
   "execution_count": 7,
   "metadata": {},
   "outputs": [
    {
     "name": "stderr",
     "output_type": "stream",
     "text": [
      "/var/folders/4l/wvvj0csx3cd5ksl4vg3g_knm0000gn/T/ipykernel_42748/4207432635.py:10: DeprecationWarning: find_element_by_xpath is deprecated. Please use find_element(by=By.XPATH, value=xpath) instead\n",
      "  fld = driver.find_element_by_xpath(\"/html/body/div[1]/div/div[2]/div/div[4]/form/div[1]/div[2]\")\n",
      "/var/folders/4l/wvvj0csx3cd5ksl4vg3g_knm0000gn/T/ipykernel_42748/4207432635.py:15: DeprecationWarning: find_element_by_xpath is deprecated. Please use find_element(by=By.XPATH, value=xpath) instead\n",
      "  fld = driver.find_element_by_xpath('/html/body/div[1]/div/div[2]/div/div[4]/form/div[3]/div[1]/div/span/span[1]/span/span[2]')\n",
      "/var/folders/4l/wvvj0csx3cd5ksl4vg3g_knm0000gn/T/ipykernel_42748/4207432635.py:20: DeprecationWarning: find_element_by_xpath is deprecated. Please use find_element(by=By.XPATH, value=xpath) instead\n",
      "  reg_field = driver.find_element_by_xpath('/html/body/span/span/span[1]/input')\n",
      "/var/folders/4l/wvvj0csx3cd5ksl4vg3g_knm0000gn/T/ipykernel_42748/4207432635.py:29: DeprecationWarning: find_element_by_xpath is deprecated. Please use find_element(by=By.XPATH, value=xpath) instead\n",
      "  uik_field = driver.find_element_by_xpath('/html/body/div[1]/div/div[2]/div/div[4]/form/div[3]/div[2]/div/input')\n"
     ]
    },
    {
     "data": {
      "text/plain": [
       "'155800, Ивановская область, город Кинешма, улица Григория Королева, дом 10, здание \"Кинешемский политехнический колледж\"'"
      ]
     },
     "execution_count": 7,
     "metadata": {},
     "output_type": "execute_result"
    }
   ],
   "source": [
    "get_uik_address(244, \"Ивановская область\")"
   ]
  },
  {
   "cell_type": "code",
   "execution_count": 8,
   "metadata": {},
   "outputs": [
    {
     "name": "stderr",
     "output_type": "stream",
     "text": [
      "/var/folders/4l/wvvj0csx3cd5ksl4vg3g_knm0000gn/T/ipykernel_42748/4207432635.py:10: DeprecationWarning: find_element_by_xpath is deprecated. Please use find_element(by=By.XPATH, value=xpath) instead\n",
      "  fld = driver.find_element_by_xpath(\"/html/body/div[1]/div/div[2]/div/div[4]/form/div[1]/div[2]\")\n",
      "/var/folders/4l/wvvj0csx3cd5ksl4vg3g_knm0000gn/T/ipykernel_42748/4207432635.py:15: DeprecationWarning: find_element_by_xpath is deprecated. Please use find_element(by=By.XPATH, value=xpath) instead\n",
      "  fld = driver.find_element_by_xpath('/html/body/div[1]/div/div[2]/div/div[4]/form/div[3]/div[1]/div/span/span[1]/span/span[2]')\n",
      "/var/folders/4l/wvvj0csx3cd5ksl4vg3g_knm0000gn/T/ipykernel_42748/4207432635.py:20: DeprecationWarning: find_element_by_xpath is deprecated. Please use find_element(by=By.XPATH, value=xpath) instead\n",
      "  reg_field = driver.find_element_by_xpath('/html/body/span/span/span[1]/input')\n",
      "/var/folders/4l/wvvj0csx3cd5ksl4vg3g_knm0000gn/T/ipykernel_42748/4207432635.py:29: DeprecationWarning: find_element_by_xpath is deprecated. Please use find_element(by=By.XPATH, value=xpath) instead\n",
      "  uik_field = driver.find_element_by_xpath('/html/body/div[1]/div/div[2]/div/div[4]/form/div[3]/div[2]/div/input')\n"
     ]
    },
    {
     "name": "stdout",
     "output_type": "stream",
     "text": [
      "240 \n",
      "241 155330, Ивановская область, городской округ Вичуга, город Вичуга, улица Желябова, дом 6, здание МБОУ ООШ №6\n",
      "242 155330, Ивановская область, городской округ Вичуга, город Вичуга, улица Ленинская, дом 26, здание МБУК \"Клуб имени Шагова\"\n",
      "243 \n",
      "244 \n"
     ]
    }
   ],
   "source": [
    "addresses = []\n",
    "\n",
    "for u in uiks:\n",
    "    try:\n",
    "        address = get_uik_address(u, \"Ивановская область\")\n",
    "    except:\n",
    "        address = \"\"\n",
    "    addresses.append(address)\n",
    "    print(u, address)"
   ]
  },
  {
   "cell_type": "markdown",
   "metadata": {},
   "source": [
    "Работает! Создадим список со всеми номерами избирательных участков Ивановской области:"
   ]
  },
  {
   "cell_type": "code",
   "execution_count": 9,
   "metadata": {},
   "outputs": [
    {
     "data": {
      "text/plain": [
       "['',\n",
       " '155330, Ивановская область, городской округ Вичуга, город Вичуга, улица Желябова, дом 6, здание МБОУ ООШ №6',\n",
       " '155330, Ивановская область, городской округ Вичуга, город Вичуга, улица Ленинская, дом 26, здание МБУК \"Клуб имени Шагова\"',\n",
       " '',\n",
       " '']"
      ]
     },
     "execution_count": 9,
     "metadata": {},
     "output_type": "execute_result"
    }
   ],
   "source": [
    "addresses"
   ]
  },
  {
   "cell_type": "markdown",
   "metadata": {},
   "source": [
    "**Важно:** периодически открывайте окно браузера, в котором Python ищет избирательные участки! Это не только приятно (смотреть, как в полях для поиска все заполняется без нашего участия), но и полезно: так можно заметить, если что-то пошло не так. "
   ]
  },
  {
   "cell_type": "markdown",
   "metadata": {},
   "source": [
    "Создадим датафрейм из словаря, ключами которого служат названия столбцов таблицы, а значениями – списки элементов этих столбцов."
   ]
  },
  {
   "cell_type": "code",
   "execution_count": 10,
   "metadata": {},
   "outputs": [],
   "source": [
    "df = pd.DataFrame({'uik': uiks, 'address': addresses})"
   ]
  },
  {
   "cell_type": "code",
   "execution_count": 11,
   "metadata": {},
   "outputs": [
    {
     "data": {
      "text/html": [
       "<div>\n",
       "<style scoped>\n",
       "    .dataframe tbody tr th:only-of-type {\n",
       "        vertical-align: middle;\n",
       "    }\n",
       "\n",
       "    .dataframe tbody tr th {\n",
       "        vertical-align: top;\n",
       "    }\n",
       "\n",
       "    .dataframe thead th {\n",
       "        text-align: right;\n",
       "    }\n",
       "</style>\n",
       "<table border=\"1\" class=\"dataframe\">\n",
       "  <thead>\n",
       "    <tr style=\"text-align: right;\">\n",
       "      <th></th>\n",
       "      <th>uik</th>\n",
       "      <th>address</th>\n",
       "    </tr>\n",
       "  </thead>\n",
       "  <tbody>\n",
       "    <tr>\n",
       "      <th>0</th>\n",
       "      <td>240</td>\n",
       "      <td></td>\n",
       "    </tr>\n",
       "    <tr>\n",
       "      <th>1</th>\n",
       "      <td>241</td>\n",
       "      <td>155330, Ивановская область, городской округ Ви...</td>\n",
       "    </tr>\n",
       "    <tr>\n",
       "      <th>2</th>\n",
       "      <td>242</td>\n",
       "      <td>155330, Ивановская область, городской округ Ви...</td>\n",
       "    </tr>\n",
       "    <tr>\n",
       "      <th>3</th>\n",
       "      <td>243</td>\n",
       "      <td></td>\n",
       "    </tr>\n",
       "    <tr>\n",
       "      <th>4</th>\n",
       "      <td>244</td>\n",
       "      <td></td>\n",
       "    </tr>\n",
       "  </tbody>\n",
       "</table>\n",
       "</div>"
      ],
      "text/plain": [
       "   uik                                            address\n",
       "0  240                                                   \n",
       "1  241  155330, Ивановская область, городской округ Ви...\n",
       "2  242  155330, Ивановская область, городской округ Ви...\n",
       "3  243                                                   \n",
       "4  244                                                   "
      ]
     },
     "execution_count": 11,
     "metadata": {},
     "output_type": "execute_result"
    }
   ],
   "source": [
    "df.head()"
   ]
  },
  {
   "cell_type": "code",
   "execution_count": 12,
   "metadata": {},
   "outputs": [
    {
     "data": {
      "text/plain": [
       "['',\n",
       " '155330, Ивановская область, городской округ Вичуга, город Вичуга, улица Желябова, дом 6, здание МБОУ ООШ №6',\n",
       " '155330, Ивановская область, городской округ Вичуга, город Вичуга, улица Ленинская, дом 26, здание МБУК \"Клуб имени Шагова\"',\n",
       " '',\n",
       " '']"
      ]
     },
     "execution_count": 12,
     "metadata": {},
     "output_type": "execute_result"
    }
   ],
   "source": [
    "list(df.address)[0:10]"
   ]
  },
  {
   "cell_type": "markdown",
   "metadata": {},
   "source": [
    "Сохраним таблицу в csv-файл:"
   ]
  },
  {
   "cell_type": "code",
   "execution_count": 13,
   "metadata": {},
   "outputs": [],
   "source": [
    "df.to_csv('Ivanovo.csv', index=False)"
   ]
  },
  {
   "cell_type": "code",
   "execution_count": 14,
   "metadata": {},
   "outputs": [],
   "source": [
    "driver.close()"
   ]
  }
 ],
 "metadata": {
  "kernelspec": {
   "display_name": "Python 3 (ipykernel)",
   "language": "python",
   "name": "python3"
  },
  "language_info": {
   "codemirror_mode": {
    "name": "ipython",
    "version": 3
   },
   "file_extension": ".py",
   "mimetype": "text/x-python",
   "name": "python",
   "nbconvert_exporter": "python",
   "pygments_lexer": "ipython3",
   "version": "3.10.2"
  },
  "toc": {
   "base_numbering": 1,
   "nav_menu": {},
   "number_sections": true,
   "sideBar": true,
   "skip_h1_title": false,
   "title_cell": "Table of Contents",
   "title_sidebar": "Contents",
   "toc_cell": false,
   "toc_position": {},
   "toc_section_display": true,
   "toc_window_display": false
  },
  "varInspector": {
   "cols": {
    "lenName": 16,
    "lenType": 16,
    "lenVar": 40
   },
   "kernels_config": {
    "python": {
     "delete_cmd_postfix": "",
     "delete_cmd_prefix": "del ",
     "library": "var_list.py",
     "varRefreshCmd": "print(var_dic_list())"
    },
    "r": {
     "delete_cmd_postfix": ") ",
     "delete_cmd_prefix": "rm(",
     "library": "var_list.r",
     "varRefreshCmd": "cat(var_dic_list()) "
    }
   },
   "types_to_exclude": [
    "module",
    "function",
    "builtin_function_or_method",
    "instance",
    "_Feature"
   ],
   "window_display": false
  }
 },
 "nbformat": 4,
 "nbformat_minor": 2
}
