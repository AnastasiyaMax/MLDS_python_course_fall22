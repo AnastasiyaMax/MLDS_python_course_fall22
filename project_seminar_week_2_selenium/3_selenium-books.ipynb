{
 "cells": [
  {
   "cell_type": "markdown",
   "metadata": {},
   "source": [
    "# Python для анализа данных\n",
    "\n",
    "*Алла Тамбовцева, НИУ ВШЭ*\n",
    "\n",
    "дополнения: *Ян Пиле, НИУ ВШЭ*"
   ]
  },
  {
   "cell_type": "markdown",
   "metadata": {},
   "source": [
    "Посмотрим на другие примеры использования `selenium`. \n",
    "\n",
    "**Пример.** Зайдем на сайт книжного магазина и найдем все книги про Python. Загрузим библиотеку, веб-драйвер и откроем страницу в браузере через Python."
   ]
  },
  {
   "cell_type": "code",
   "execution_count": 1,
   "metadata": {},
   "outputs": [
    {
     "name": "stdout",
     "output_type": "stream",
     "text": [
      "\n"
     ]
    },
    {
     "name": "stderr",
     "output_type": "stream",
     "text": [
      "[WDM] - ====== WebDriver manager ======\n",
      "[WDM] - Current google-chrome version is 106.0.5249\n",
      "[WDM] - Get LATEST chromedriver version for 106.0.5249 google-chrome\n",
      "[WDM] - Driver [/Users/Dell/.wdm/drivers/chromedriver/mac64/106.0.5249.61/chromedriver] found in cache\n",
      "/var/folders/4l/wvvj0csx3cd5ksl4vg3g_knm0000gn/T/ipykernel_43982/4226385456.py:7: DeprecationWarning: executable_path has been deprecated, please pass in a Service object\n",
      "  br = webdriver.Chrome(ChromeDriverManager().install())\n"
     ]
    }
   ],
   "source": [
    "# from selenium import webdriver as wb\n",
    "# br = wb.Firefox()\n",
    "\n",
    "from selenium import webdriver\n",
    "from webdriver_manager.chrome import ChromeDriverManager\n",
    "\n",
    "br = webdriver.Chrome(ChromeDriverManager().install())\n",
    "\n",
    "# открываем страницу в Chrome в автоматическом режиме\n",
    "br.get(\"http://www.biblio-globus.ru/\")"
   ]
  },
  {
   "cell_type": "markdown",
   "metadata": {},
   "source": [
    "Найдем с помощью CSS Selector'а (*SelectorGadget*) поле для ввода названия книги или автора. "
   ]
  },
  {
   "cell_type": "code",
   "execution_count": 2,
   "metadata": {},
   "outputs": [
    {
     "name": "stderr",
     "output_type": "stream",
     "text": [
      "/var/folders/4l/wvvj0csx3cd5ksl4vg3g_knm0000gn/T/ipykernel_43982/3434598410.py:1: DeprecationWarning: find_element_by_css_selector is deprecated. Please use find_element(by=By.CSS_SELECTOR, value=css_selector) instead\n",
      "  field = br.find_element_by_css_selector(\"input\")\n"
     ]
    }
   ],
   "source": [
    "field = br.find_element_by_css_selector(\"input\")"
   ]
  },
  {
   "cell_type": "markdown",
   "metadata": {},
   "source": [
    "Сохраним запрос:"
   ]
  },
  {
   "cell_type": "code",
   "execution_count": 3,
   "metadata": {},
   "outputs": [],
   "source": [
    "author = \"Python\"  # переменная author - условность"
   ]
  },
  {
   "cell_type": "markdown",
   "metadata": {},
   "source": [
    "Введем запрос в поле для поиска (`.send_keys`) и подождем чуть-чуть:"
   ]
  },
  {
   "cell_type": "code",
   "execution_count": 4,
   "metadata": {},
   "outputs": [],
   "source": [
    "field.send_keys(author)\n",
    "br.implicitly_wait(2)  # подождем пару секунд"
   ]
  },
  {
   "cell_type": "markdown",
   "metadata": {},
   "source": [
    "Теперь найдем кнопку для поиска (значок *лупа* рядом со строкой поиска) через CSS Selector:"
   ]
  },
  {
   "cell_type": "code",
   "execution_count": 5,
   "metadata": {},
   "outputs": [
    {
     "name": "stderr",
     "output_type": "stream",
     "text": [
      "/var/folders/4l/wvvj0csx3cd5ksl4vg3g_knm0000gn/T/ipykernel_43982/2983545942.py:1: DeprecationWarning: find_element_by_css_selector is deprecated. Please use find_element(by=By.CSS_SELECTOR, value=css_selector) instead\n",
      "  submit = br.find_element_by_css_selector(\"#search-btn\")\n"
     ]
    }
   ],
   "source": [
    "submit = br.find_element_by_css_selector(\"#search-btn\")"
   ]
  },
  {
   "cell_type": "markdown",
   "metadata": {},
   "source": [
    "Кликнем на нее:"
   ]
  },
  {
   "cell_type": "code",
   "execution_count": 6,
   "metadata": {},
   "outputs": [],
   "source": [
    "submit.click()"
   ]
  },
  {
   "cell_type": "markdown",
   "metadata": {},
   "source": [
    "Сохраним первую страницу с результатами в переменную `page1`."
   ]
  },
  {
   "cell_type": "code",
   "execution_count": 7,
   "metadata": {},
   "outputs": [],
   "source": [
    "page1 = br.page_source"
   ]
  },
  {
   "cell_type": "code",
   "execution_count": 8,
   "metadata": {},
   "outputs": [],
   "source": [
    "# page1"
   ]
  },
  {
   "cell_type": "markdown",
   "metadata": {},
   "source": [
    "Теперь обработаем эту страницу через `BeautifulSoup`:"
   ]
  },
  {
   "cell_type": "code",
   "execution_count": 9,
   "metadata": {},
   "outputs": [],
   "source": [
    "from bs4 import BeautifulSoup"
   ]
  },
  {
   "cell_type": "code",
   "execution_count": 10,
   "metadata": {},
   "outputs": [],
   "source": [
    "soup1 = BeautifulSoup(page1, 'lxml')"
   ]
  },
  {
   "cell_type": "markdown",
   "metadata": {},
   "source": [
    "Найдем все названия книг на этой странице. По исходному коду можно увидеть, что они имеют тэг `div` с атрибутом `class`, равным `card-title`:"
   ]
  },
  {
   "cell_type": "code",
   "execution_count": 11,
   "metadata": {},
   "outputs": [
    {
     "data": {
      "text/plain": [
       "[<div class=\"card-title\" style=\"font-size:.92rem; line-height:1.2; margin-top:.3rem;\"><a href=\"/product/10727655\" style=\"color:#444;\">Компьютерное зрение на Python. Первые шаги</a></div>,\n",
       " <div class=\"card-title\" style=\"font-size:.92rem; line-height:1.2; margin-top:.3rem;\"><a href=\"/product/10839595\" style=\"color:#444;\">Python для юных программистов</a></div>,\n",
       " <div class=\"card-title\" style=\"font-size:.92rem; line-height:1.2; margin-top:.3rem;\"><a href=\"/product/10776656\" style=\"color:#444;\">Справочник PYTHON.  Кратко, быстро, под...</a></div>,\n",
       " <div class=\"card-title\" style=\"font-size:.92rem; line-height:1.2; margin-top:.3rem;\"><a href=\"/product/10532193\" style=\"color:#444;\">Python. Экспресс-курс</a></div>,\n",
       " <div class=\"card-title\" style=\"font-size:.92rem; line-height:1.2; margin-top:.3rem;\"><a href=\"/product/10473444\" style=\"color:#444;\">HTML, CSS, SCRATCH, PYTHON. Моя первая ...</a></div>,\n",
       " <div class=\"card-title\" style=\"font-size:.92rem; line-height:1.2; margin-top:.3rem;\"><a href=\"/product/10224348\" style=\"color:#444;\">Программирование на Python для начинающих</a></div>,\n",
       " <div class=\"card-title\" style=\"font-size:.92rem; line-height:1.2; margin-top:.3rem;\"><a href=\"/product/10831874\" style=\"color:#444;\">Глубокое обучение с подкреплением: теор...</a></div>,\n",
       " <div class=\"card-title\" style=\"font-size:.92rem; line-height:1.2; margin-top:.3rem;\"><a href=\"/product/10713630\" style=\"color:#444;\">Python и наука о данных для чайников, 2...</a></div>,\n",
       " <div class=\"card-title\" style=\"font-size:.92rem; line-height:1.2; margin-top:.3rem;\"><a href=\"/product/10645085\" style=\"color:#444;\">Легкий способ выучить Python 3 еще глубже</a></div>,\n",
       " <div class=\"card-title\" style=\"font-size:.92rem; line-height:1.2; margin-top:.3rem;\"><a href=\"/product/10627655\" style=\"color:#444;\">Байесовский анализ на Python</a></div>,\n",
       " <div class=\"card-title\" style=\"font-size:.92rem; line-height:1.2; margin-top:.3rem;\"><a href=\"/product/10577109\" style=\"color:#444;\">Вероятностное программирование на Pytho...</a></div>,\n",
       " <div class=\"card-title\" style=\"font-size:.92rem; line-height:1.2; margin-top:.3rem;\"><a href=\"/product/10546976\" style=\"color:#444;\">Искусственный интеллект с примерами на ...</a></div>,\n",
       " <div class=\"card-title\" style=\"font-size:.92rem; line-height:1.2; margin-top:.3rem;\"><a href=\"/product/10493284\" style=\"color:#444;\">Стандартная библиотека Python 3</a></div>,\n",
       " <div class=\"card-title\" style=\"font-size:.92rem; line-height:1.2; margin-top:.3rem;\"><a href=\"/product/10487932\" style=\"color:#444;\">Python для сложных задач: наука о данны...</a></div>,\n",
       " <div class=\"card-title\" style=\"font-size:.92rem; line-height:1.2; margin-top:.3rem;\"><a href=\"/product/10483871\" style=\"color:#444;\">Глубокое обучение на Python</a></div>,\n",
       " <div class=\"card-title\" style=\"font-size:.92rem; line-height:1.2; margin-top:.3rem;\"><a href=\"/product/10873807\" style=\"color:#444;\">Объяснимые модели искусственного интелл...</a></div>,\n",
       " <div class=\"card-title\" style=\"font-size:.92rem; line-height:1.2; margin-top:.3rem;\"><a href=\"/product/10870208\" style=\"color:#444;\">PYTHON. К вершинам мастерства. </a></div>,\n",
       " <div class=\"card-title\" style=\"font-size:.92rem; line-height:1.2; margin-top:.3rem;\"><a href=\"/product/10854863\" style=\"color:#444;\">Python.Создаем программы и игры</a></div>,\n",
       " <div class=\"card-title\" style=\"font-size:.92rem; line-height:1.2; margin-top:.3rem;\"><a href=\"/product/10849439\" style=\"color:#444;\">Начинаем программировать на Python</a></div>,\n",
       " <div class=\"card-title\" style=\"font-size:.92rem; line-height:1.2; margin-top:.3rem;\"><a href=\"/product/10814639\" style=\"color:#444;\">Python и DevOps: Ключ к автоматизации L...</a></div>]"
      ]
     },
     "execution_count": 11,
     "metadata": {},
     "output_type": "execute_result"
    }
   ],
   "source": [
    "soup1.find_all('div', {'class':'card-title'})"
   ]
  },
  {
   "cell_type": "markdown",
   "metadata": {},
   "source": [
    "С помощью списковых включений выберем из ссылок с тэгом `<a>` текст (так мы уже делали, и не раз)."
   ]
  },
  {
   "cell_type": "code",
   "execution_count": 12,
   "metadata": {},
   "outputs": [],
   "source": [
    "books1 = [b.a.text for b in soup1.find_all('div', {'class':'card-title'})]"
   ]
  },
  {
   "cell_type": "code",
   "execution_count": 13,
   "metadata": {},
   "outputs": [
    {
     "data": {
      "text/plain": [
       "['Компьютерное зрение на Python. Первые шаги',\n",
       " 'Python для юных программистов',\n",
       " 'Справочник PYTHON.  Кратко, быстро, под...',\n",
       " 'Python. Экспресс-курс',\n",
       " 'HTML, CSS, SCRATCH, PYTHON. Моя первая ...',\n",
       " 'Программирование на Python для начинающих',\n",
       " 'Глубокое обучение с подкреплением: теор...',\n",
       " 'Python и наука о данных для чайников, 2...',\n",
       " 'Легкий способ выучить Python 3 еще глубже',\n",
       " 'Байесовский анализ на Python',\n",
       " 'Вероятностное программирование на Pytho...',\n",
       " 'Искусственный интеллект с примерами на ...',\n",
       " 'Стандартная библиотека Python 3',\n",
       " 'Python для сложных задач: наука о данны...',\n",
       " 'Глубокое обучение на Python',\n",
       " 'Объяснимые модели искусственного интелл...',\n",
       " 'PYTHON. К вершинам мастерства. ',\n",
       " 'Python.Создаем программы и игры',\n",
       " 'Начинаем программировать на Python',\n",
       " 'Python и DevOps: Ключ к автоматизации L...']"
      ]
     },
     "execution_count": 13,
     "metadata": {},
     "output_type": "execute_result"
    }
   ],
   "source": [
    "books1"
   ]
  },
  {
   "cell_type": "markdown",
   "metadata": {},
   "source": [
    "Теперь аналогичным образом сгрузим описания:"
   ]
  },
  {
   "cell_type": "code",
   "execution_count": 15,
   "metadata": {},
   "outputs": [],
   "source": [
    "descr1 = []\n",
    "for a in soup1.find_all('p', {'class': 'card-text'}):\n",
    "    descr1.append(a.text)"
   ]
  },
  {
   "cell_type": "code",
   "execution_count": 16,
   "metadata": {},
   "outputs": [
    {
     "data": {
      "text/plain": [
       "['В книге изложен учебный курс для школьников, начинающих изучать компьютерное ...',\n",
       " 'Книга написана на основе опыта обучения программированию на языке Python в кр...',\n",
       " 'Данный справочник содержит всю ключевую информацию о Python в удобной и нагля...',\n",
       " 'Вы уже умеете кодить на одном или нескольких языках программирования? Тогда н...',\n",
       " 'Хотите научиться создавать программы и сайты,  но не знаете, как это сделать?...',\n",
       " 'Книга \"Программирование на  Python для начинающих\" является исчерпывающим рук...',\n",
       " 'Глубокое обучение с подкреплением (глубокое RL) сочетает в себе два подхода к...',\n",
       " 'Наука о данных - это вовсе не страшно!Интересуетесь наукой о данных, но немно...',\n",
       " 'Воплотите ваши идеи в код самого высокого качества!\\r\\nЗед Шоу – один из тех, к...',\n",
       " 'Эта книга, посвященная методике вероятностного программирования, научит вас с...',\n",
       " 'Байесовские методы пугают формулами многих «айтишников», но без анализа стати...',\n",
       " 'В этой книге исследуются различные сценарии применения искусственного интелле...',\n",
       " 'В этой книге Даг Хеллман, эксперт по языку Python, описывает все основные раз...',\n",
       " 'Книга «Python Data Science Handbook» - это подробное руководство по самым раз...',\n",
       " 'Глубокое обучение — Deep learning — это набор алгоритмов машинного обучения, ...',\n",
       " 'В этой книге рассматриваются так называемые модели \"черного ящика\" для повыше...',\n",
       " 'Не тратьте зря времени, пытаясь подогнать Python под способы программирования...',\n",
       " 'Данная книга позволяет уже с первых шагов создавать свои программы на языке P...',\n",
       " 'Изложены принципы программирования, с помощью которых читатель приобретет нав...',\n",
       " 'За последнее десятилетие технологии сильно изменились. Данные стали хитом, об...']"
      ]
     },
     "execution_count": 16,
     "metadata": {},
     "output_type": "execute_result"
    }
   ],
   "source": [
    "descr1"
   ]
  },
  {
   "cell_type": "code",
   "execution_count": 17,
   "metadata": {},
   "outputs": [
    {
     "data": {
      "text/plain": [
       "[<p class=\"card-text\" style=\"color:#555;\">В книге изложен учебный курс для школьников, начинающих изучать компьютерное ...</p>,\n",
       " <p class=\"card-text\" style=\"color:#555;\">Книга написана на основе опыта обучения программированию на языке Python в кр...</p>,\n",
       " <p class=\"card-text\" style=\"color:#555;\">Данный справочник содержит всю ключевую информацию о Python в удобной и нагля...</p>,\n",
       " <p class=\"card-text\" style=\"color:#555;\">Вы уже умеете кодить на одном или нескольких языках программирования? Тогда н...</p>,\n",
       " <p class=\"card-text\" style=\"color:#555;\">Хотите научиться создавать программы и сайты,  но не знаете, как это сделать?...</p>,\n",
       " <p class=\"card-text\" style=\"color:#555;\">Книга \"Программирование на  Python для начинающих\" является исчерпывающим рук...</p>,\n",
       " <p class=\"card-text\" style=\"color:#555;\">Глубокое обучение с подкреплением (глубокое RL) сочетает в себе два подхода к...</p>,\n",
       " <p class=\"card-text\" style=\"color:#555;\">Наука о данных - это вовсе не страшно!Интересуетесь наукой о данных, но немно...</p>,\n",
       " <p class=\"card-text\" style=\"color:#555;\">Воплотите ваши идеи в код самого высокого качества!\n",
       " Зед Шоу – один из тех, к...</p>,\n",
       " <p class=\"card-text\" style=\"color:#555;\">Эта книга, посвященная методике вероятностного программирования, научит вас с...</p>,\n",
       " <p class=\"card-text\" style=\"color:#555;\">Байесовские методы пугают формулами многих «айтишников», но без анализа стати...</p>,\n",
       " <p class=\"card-text\" style=\"color:#555;\">В этой книге исследуются различные сценарии применения искусственного интелле...</p>,\n",
       " <p class=\"card-text\" style=\"color:#555;\">В этой книге Даг Хеллман, эксперт по языку Python, описывает все основные раз...</p>,\n",
       " <p class=\"card-text\" style=\"color:#555;\">Книга «Python Data Science Handbook» - это подробное руководство по самым раз...</p>,\n",
       " <p class=\"card-text\" style=\"color:#555;\">Глубокое обучение — Deep learning — это набор алгоритмов машинного обучения, ...</p>,\n",
       " <p class=\"card-text\" style=\"color:#555;\">В этой книге рассматриваются так называемые модели \"черного ящика\" для повыше...</p>,\n",
       " <p class=\"card-text\" style=\"color:#555;\">Не тратьте зря времени, пытаясь подогнать Python под способы программирования...</p>,\n",
       " <p class=\"card-text\" style=\"color:#555;\">Данная книга позволяет уже с первых шагов создавать свои программы на языке P...</p>,\n",
       " <p class=\"card-text\" style=\"color:#555;\">Изложены принципы программирования, с помощью которых читатель приобретет нав...</p>,\n",
       " <p class=\"card-text\" style=\"color:#555;\">За последнее десятилетие технологии сильно изменились. Данные стали хитом, об...</p>]"
      ]
     },
     "execution_count": 17,
     "metadata": {},
     "output_type": "execute_result"
    }
   ],
   "source": [
    "soup1.find_all('p', {'class': 'card-text'})"
   ]
  },
  {
   "cell_type": "code",
   "execution_count": 18,
   "metadata": {},
   "outputs": [],
   "source": [
    "descr1 = [a.text for a in soup1.find_all('p', {'class': 'card-text'})]"
   ]
  },
  {
   "cell_type": "markdown",
   "metadata": {},
   "source": [
    "И, конечно, цену:"
   ]
  },
  {
   "cell_type": "code",
   "execution_count": 19,
   "metadata": {},
   "outputs": [],
   "source": [
    "price1 = [p.div.text.strip() for p in soup1.find_all('div', \n",
    "                                         {'class':'card-body'})]"
   ]
  },
  {
   "cell_type": "code",
   "execution_count": 20,
   "metadata": {},
   "outputs": [
    {
     "data": {
      "text/plain": [
       "['559\\xa0₽',\n",
       " '1059\\xa0₽',\n",
       " '519\\xa0₽',\n",
       " '2039\\xa0₽',\n",
       " '609\\xa0₽',\n",
       " '809\\xa0₽',\n",
       " '2509\\xa0₽',\n",
       " '2119\\xa0₽',\n",
       " '1029\\xa0₽',\n",
       " '2359\\xa0₽',\n",
       " '1999\\xa0₽',\n",
       " '2349\\xa0₽',\n",
       " '6449\\xa0₽',\n",
       " '1959\\xa0₽',\n",
       " '1739\\xa0₽',\n",
       " '3409\\xa0₽\\n\\n\\t\\t\\t\\t\\t\\t\\t\\t\\tНовинка',\n",
       " '6549\\xa0₽',\n",
       " '679\\xa0₽',\n",
       " '2619\\xa0₽',\n",
       " '2529\\xa0₽']"
      ]
     },
     "execution_count": 20,
     "metadata": {},
     "output_type": "execute_result"
    }
   ],
   "source": [
    "price1"
   ]
  },
  {
   "cell_type": "markdown",
   "metadata": {},
   "source": [
    "Осталось пройтись по всем страницам, которые были выданы в результате поиска. Для примера перейдем на страницу 2 и на этом остановимся."
   ]
  },
  {
   "cell_type": "code",
   "execution_count": 21,
   "metadata": {},
   "outputs": [
    {
     "name": "stderr",
     "output_type": "stream",
     "text": [
      "/var/folders/4l/wvvj0csx3cd5ksl4vg3g_knm0000gn/T/ipykernel_43982/3754551509.py:1: DeprecationWarning: find_element_by_css_selector is deprecated. Please use find_element(by=By.CSS_SELECTOR, value=css_selector) instead\n",
      "  next_p = br.find_element_by_css_selector(\\\n"
     ]
    }
   ],
   "source": [
    "next_p = br.find_element_by_css_selector(\\\n",
    "                        'body > main > div > div > div > nav > ul > li:nth-child(4) > a')"
   ]
  },
  {
   "cell_type": "code",
   "execution_count": 22,
   "metadata": {},
   "outputs": [],
   "source": [
    "next_p.click()"
   ]
  },
  {
   "cell_type": "markdown",
   "metadata": {},
   "source": [
    "Проделаем то же самое, что и с первой страницей. По-хорошему нужно написать функцию, которая будет искать на странице названия книг, их расположение и цену. Но оставим это в качестве задания читателю :)"
   ]
  },
  {
   "cell_type": "code",
   "execution_count": 23,
   "metadata": {},
   "outputs": [],
   "source": [
    "page2 = br.page_source\n",
    "soup2 = BeautifulSoup(page2, 'lxml')\n",
    "books2 = [b.a.text for b in soup2.find_all('div', {'class':'card-title'})]\n",
    "descr2 = [a.text for a in soup2.find_all('p', {'class': 'card-text'})]\n",
    "price2 = [p.div.text.strip() for p in soup2.find_all('div', \n",
    "                                         {'class':'card-body'})]"
   ]
  },
  {
   "cell_type": "markdown",
   "metadata": {},
   "source": [
    "Расширим списки результатов с первой страницы данными, полученными со второй страницы, используя метод `.extend()`."
   ]
  },
  {
   "cell_type": "code",
   "execution_count": 24,
   "metadata": {},
   "outputs": [],
   "source": [
    "books1.extend(books2) # books1 + books2\n",
    "descr1.extend(descr2)\n",
    "price1.extend(price2)"
   ]
  },
  {
   "cell_type": "markdown",
   "metadata": {},
   "source": [
    "Осталось импортировать библиотеку `pandas` и создать датафрейм."
   ]
  },
  {
   "cell_type": "code",
   "execution_count": 25,
   "metadata": {},
   "outputs": [],
   "source": [
    "import pandas as pd"
   ]
  },
  {
   "cell_type": "markdown",
   "metadata": {},
   "source": [
    "Для разнообразия создадим датафрейм не из списка списков, а из словаря. Ключами словаря будут названия столбцов в таблице, а значениями – списки с сохраненной информацией (названия книг, цены и проч.)."
   ]
  },
  {
   "cell_type": "code",
   "execution_count": 26,
   "metadata": {},
   "outputs": [],
   "source": [
    "df = pd.DataFrame({'book': books1, 'description': descr1,\n",
    "                   'price': price1})"
   ]
  },
  {
   "cell_type": "code",
   "execution_count": 27,
   "metadata": {},
   "outputs": [
    {
     "data": {
      "text/html": [
       "<div>\n",
       "<style scoped>\n",
       "    .dataframe tbody tr th:only-of-type {\n",
       "        vertical-align: middle;\n",
       "    }\n",
       "\n",
       "    .dataframe tbody tr th {\n",
       "        vertical-align: top;\n",
       "    }\n",
       "\n",
       "    .dataframe thead th {\n",
       "        text-align: right;\n",
       "    }\n",
       "</style>\n",
       "<table border=\"1\" class=\"dataframe\">\n",
       "  <thead>\n",
       "    <tr style=\"text-align: right;\">\n",
       "      <th></th>\n",
       "      <th>book</th>\n",
       "      <th>description</th>\n",
       "      <th>price</th>\n",
       "    </tr>\n",
       "  </thead>\n",
       "  <tbody>\n",
       "    <tr>\n",
       "      <th>0</th>\n",
       "      <td>Компьютерное зрение на Python. Первые шаги</td>\n",
       "      <td>В книге изложен учебный курс для школьников, н...</td>\n",
       "      <td>559 ₽</td>\n",
       "    </tr>\n",
       "    <tr>\n",
       "      <th>1</th>\n",
       "      <td>Python для юных программистов</td>\n",
       "      <td>Книга написана на основе опыта обучения програ...</td>\n",
       "      <td>1059 ₽</td>\n",
       "    </tr>\n",
       "    <tr>\n",
       "      <th>2</th>\n",
       "      <td>Справочник PYTHON.  Кратко, быстро, под...</td>\n",
       "      <td>Данный справочник содержит всю ключевую информ...</td>\n",
       "      <td>519 ₽</td>\n",
       "    </tr>\n",
       "    <tr>\n",
       "      <th>3</th>\n",
       "      <td>Python. Экспресс-курс</td>\n",
       "      <td>Вы уже умеете кодить на одном или нескольких я...</td>\n",
       "      <td>2039 ₽</td>\n",
       "    </tr>\n",
       "    <tr>\n",
       "      <th>4</th>\n",
       "      <td>HTML, CSS, SCRATCH, PYTHON. Моя первая ...</td>\n",
       "      <td>Хотите научиться создавать программы и сайты, ...</td>\n",
       "      <td>609 ₽</td>\n",
       "    </tr>\n",
       "  </tbody>\n",
       "</table>\n",
       "</div>"
      ],
      "text/plain": [
       "                                         book  \\\n",
       "0  Компьютерное зрение на Python. Первые шаги   \n",
       "1               Python для юных программистов   \n",
       "2  Справочник PYTHON.  Кратко, быстро, под...   \n",
       "3                       Python. Экспресс-курс   \n",
       "4  HTML, CSS, SCRATCH, PYTHON. Моя первая ...   \n",
       "\n",
       "                                         description   price  \n",
       "0  В книге изложен учебный курс для школьников, н...   559 ₽  \n",
       "1  Книга написана на основе опыта обучения програ...  1059 ₽  \n",
       "2  Данный справочник содержит всю ключевую информ...   519 ₽  \n",
       "3  Вы уже умеете кодить на одном или нескольких я...  2039 ₽  \n",
       "4  Хотите научиться создавать программы и сайты, ...   609 ₽  "
      ]
     },
     "execution_count": 27,
     "metadata": {},
     "output_type": "execute_result"
    }
   ],
   "source": [
    "df.head()"
   ]
  },
  {
   "cell_type": "markdown",
   "metadata": {},
   "source": [
    "Давайте приведем столбец с ценой к числовому типу. Уберем слова *Цена* и *руб*, а потом сконвертируем строки в числа с плавающей точкой. Напишем функцию `get_price()`,"
   ]
  },
  {
   "cell_type": "code",
   "execution_count": 31,
   "metadata": {},
   "outputs": [
    {
     "data": {
      "text/plain": [
       "'1059\\xa0₽'"
      ]
     },
     "execution_count": 31,
     "metadata": {},
     "output_type": "execute_result"
    }
   ],
   "source": [
    "df.iloc[1, 2]"
   ]
  },
  {
   "cell_type": "code",
   "execution_count": 35,
   "metadata": {},
   "outputs": [
    {
     "data": {
      "text/plain": [
       "1059"
      ]
     },
     "execution_count": 35,
     "metadata": {},
     "output_type": "execute_result"
    }
   ],
   "source": [
    "int(''.join([c for c in df.iloc[1, 2] if c.isdigit()]))"
   ]
  },
  {
   "cell_type": "code",
   "execution_count": 38,
   "metadata": {},
   "outputs": [
    {
     "data": {
      "text/plain": [
       "1059.0"
      ]
     },
     "execution_count": 38,
     "metadata": {},
     "output_type": "execute_result"
    }
   ],
   "source": [
    "import re\n",
    "float('.'.join(re.findall(r'\\d+', df.iloc[1, 2])))"
   ]
  },
  {
   "cell_type": "code",
   "execution_count": 39,
   "metadata": {},
   "outputs": [],
   "source": [
    "def get_price(price):\n",
    "    price_num = int(''.join([c for c in price if c.isdigit()]))\n",
    "    return price_num"
   ]
  },
  {
   "cell_type": "code",
   "execution_count": 40,
   "metadata": {},
   "outputs": [],
   "source": [
    "import re\n",
    "def preis(x):\n",
    "    return float('.'.join(re.findall(r'\\d+',x)))"
   ]
  },
  {
   "cell_type": "code",
   "execution_count": 41,
   "metadata": {},
   "outputs": [
    {
     "data": {
      "text/plain": [
       "559"
      ]
     },
     "execution_count": 41,
     "metadata": {},
     "output_type": "execute_result"
    }
   ],
   "source": [
    "# проверка\n",
    "get_price(df.price[0])"
   ]
  },
  {
   "cell_type": "code",
   "execution_count": 42,
   "metadata": {},
   "outputs": [
    {
     "data": {
      "text/plain": [
       "559.0"
      ]
     },
     "execution_count": 42,
     "metadata": {},
     "output_type": "execute_result"
    }
   ],
   "source": [
    "preis(df.price[0])"
   ]
  },
  {
   "cell_type": "markdown",
   "metadata": {},
   "source": [
    "Всё отлично работает! Применим функцию к столбцу *price* и создадим новый столбец *nprice*."
   ]
  },
  {
   "cell_type": "code",
   "execution_count": 43,
   "metadata": {},
   "outputs": [],
   "source": [
    "df['nprice'] = df.price.apply(preis)"
   ]
  },
  {
   "cell_type": "code",
   "execution_count": 44,
   "metadata": {},
   "outputs": [
    {
     "data": {
      "text/html": [
       "<div>\n",
       "<style scoped>\n",
       "    .dataframe tbody tr th:only-of-type {\n",
       "        vertical-align: middle;\n",
       "    }\n",
       "\n",
       "    .dataframe tbody tr th {\n",
       "        vertical-align: top;\n",
       "    }\n",
       "\n",
       "    .dataframe thead th {\n",
       "        text-align: right;\n",
       "    }\n",
       "</style>\n",
       "<table border=\"1\" class=\"dataframe\">\n",
       "  <thead>\n",
       "    <tr style=\"text-align: right;\">\n",
       "      <th></th>\n",
       "      <th>book</th>\n",
       "      <th>description</th>\n",
       "      <th>price</th>\n",
       "      <th>nprice</th>\n",
       "    </tr>\n",
       "  </thead>\n",
       "  <tbody>\n",
       "    <tr>\n",
       "      <th>0</th>\n",
       "      <td>Компьютерное зрение на Python. Первые шаги</td>\n",
       "      <td>В книге изложен учебный курс для школьников, н...</td>\n",
       "      <td>559 ₽</td>\n",
       "      <td>559.0</td>\n",
       "    </tr>\n",
       "    <tr>\n",
       "      <th>1</th>\n",
       "      <td>Python для юных программистов</td>\n",
       "      <td>Книга написана на основе опыта обучения програ...</td>\n",
       "      <td>1059 ₽</td>\n",
       "      <td>1059.0</td>\n",
       "    </tr>\n",
       "    <tr>\n",
       "      <th>2</th>\n",
       "      <td>Справочник PYTHON.  Кратко, быстро, под...</td>\n",
       "      <td>Данный справочник содержит всю ключевую информ...</td>\n",
       "      <td>519 ₽</td>\n",
       "      <td>519.0</td>\n",
       "    </tr>\n",
       "    <tr>\n",
       "      <th>3</th>\n",
       "      <td>Python. Экспресс-курс</td>\n",
       "      <td>Вы уже умеете кодить на одном или нескольких я...</td>\n",
       "      <td>2039 ₽</td>\n",
       "      <td>2039.0</td>\n",
       "    </tr>\n",
       "    <tr>\n",
       "      <th>4</th>\n",
       "      <td>HTML, CSS, SCRATCH, PYTHON. Моя первая ...</td>\n",
       "      <td>Хотите научиться создавать программы и сайты, ...</td>\n",
       "      <td>609 ₽</td>\n",
       "      <td>609.0</td>\n",
       "    </tr>\n",
       "  </tbody>\n",
       "</table>\n",
       "</div>"
      ],
      "text/plain": [
       "                                         book  \\\n",
       "0  Компьютерное зрение на Python. Первые шаги   \n",
       "1               Python для юных программистов   \n",
       "2  Справочник PYTHON.  Кратко, быстро, под...   \n",
       "3                       Python. Экспресс-курс   \n",
       "4  HTML, CSS, SCRATCH, PYTHON. Моя первая ...   \n",
       "\n",
       "                                         description   price  nprice  \n",
       "0  В книге изложен учебный курс для школьников, н...   559 ₽   559.0  \n",
       "1  Книга написана на основе опыта обучения програ...  1059 ₽  1059.0  \n",
       "2  Данный справочник содержит всю ключевую информ...   519 ₽   519.0  \n",
       "3  Вы уже умеете кодить на одном или нескольких я...  2039 ₽  2039.0  \n",
       "4  Хотите научиться создавать программы и сайты, ...   609 ₽   609.0  "
      ]
     },
     "execution_count": 44,
     "metadata": {},
     "output_type": "execute_result"
    }
   ],
   "source": [
    "df.head()"
   ]
  },
  {
   "cell_type": "markdown",
   "metadata": {},
   "source": [
    "Теперь можем расположить книги по цене в порядке возрастания:"
   ]
  },
  {
   "cell_type": "code",
   "execution_count": 45,
   "metadata": {},
   "outputs": [
    {
     "data": {
      "text/html": [
       "<div>\n",
       "<style scoped>\n",
       "    .dataframe tbody tr th:only-of-type {\n",
       "        vertical-align: middle;\n",
       "    }\n",
       "\n",
       "    .dataframe tbody tr th {\n",
       "        vertical-align: top;\n",
       "    }\n",
       "\n",
       "    .dataframe thead th {\n",
       "        text-align: right;\n",
       "    }\n",
       "</style>\n",
       "<table border=\"1\" class=\"dataframe\">\n",
       "  <thead>\n",
       "    <tr style=\"text-align: right;\">\n",
       "      <th></th>\n",
       "      <th>book</th>\n",
       "      <th>description</th>\n",
       "      <th>price</th>\n",
       "      <th>nprice</th>\n",
       "    </tr>\n",
       "  </thead>\n",
       "  <tbody>\n",
       "    <tr>\n",
       "      <th>2</th>\n",
       "      <td>Справочник PYTHON.  Кратко, быстро, под...</td>\n",
       "      <td>Данный справочник содержит всю ключевую информ...</td>\n",
       "      <td>519 ₽</td>\n",
       "      <td>519.0</td>\n",
       "    </tr>\n",
       "    <tr>\n",
       "      <th>0</th>\n",
       "      <td>Компьютерное зрение на Python. Первые шаги</td>\n",
       "      <td>В книге изложен учебный курс для школьников, н...</td>\n",
       "      <td>559 ₽</td>\n",
       "      <td>559.0</td>\n",
       "    </tr>\n",
       "    <tr>\n",
       "      <th>4</th>\n",
       "      <td>HTML, CSS, SCRATCH, PYTHON. Моя первая ...</td>\n",
       "      <td>Хотите научиться создавать программы и сайты, ...</td>\n",
       "      <td>609 ₽</td>\n",
       "      <td>609.0</td>\n",
       "    </tr>\n",
       "    <tr>\n",
       "      <th>17</th>\n",
       "      <td>Python.Создаем программы и игры</td>\n",
       "      <td>Данная книга позволяет уже с первых шагов созд...</td>\n",
       "      <td>679 ₽</td>\n",
       "      <td>679.0</td>\n",
       "    </tr>\n",
       "    <tr>\n",
       "      <th>35</th>\n",
       "      <td>Программирование на языке Python. Среды...</td>\n",
       "      <td>Рассмотрены основные практические навыки работ...</td>\n",
       "      <td>719 ₽</td>\n",
       "      <td>719.0</td>\n",
       "    </tr>\n",
       "    <tr>\n",
       "      <th>5</th>\n",
       "      <td>Программирование на Python для начинающих</td>\n",
       "      <td>Книга \"Программирование на  Python для начинаю...</td>\n",
       "      <td>809 ₽</td>\n",
       "      <td>809.0</td>\n",
       "    </tr>\n",
       "    <tr>\n",
       "      <th>25</th>\n",
       "      <td>Легкий способ выучить Python 3</td>\n",
       "      <td>Новая книга автора знаменитого бестселлера-сам...</td>\n",
       "      <td>1029 ₽</td>\n",
       "      <td>1029.0</td>\n",
       "    </tr>\n",
       "    <tr>\n",
       "      <th>8</th>\n",
       "      <td>Легкий способ выучить Python 3 еще глубже</td>\n",
       "      <td>Воплотите ваши идеи в код самого высокого каче...</td>\n",
       "      <td>1029 ₽</td>\n",
       "      <td>1029.0</td>\n",
       "    </tr>\n",
       "    <tr>\n",
       "      <th>1</th>\n",
       "      <td>Python для юных программистов</td>\n",
       "      <td>Книга написана на основе опыта обучения програ...</td>\n",
       "      <td>1059 ₽</td>\n",
       "      <td>1059.0</td>\n",
       "    </tr>\n",
       "    <tr>\n",
       "      <th>37</th>\n",
       "      <td>Python для детей, которые пока не прогр...</td>\n",
       "      <td>Назначение книги - помочь ребёнку 10-13 лет сд...</td>\n",
       "      <td>1159 ₽</td>\n",
       "      <td>1159.0</td>\n",
       "    </tr>\n",
       "    <tr>\n",
       "      <th>20</th>\n",
       "      <td>Основы искусственного интеллекта в прим...</td>\n",
       "      <td>Описаны инструментальные средства для разработ...</td>\n",
       "      <td>1239 ₽</td>\n",
       "      <td>1239.0</td>\n",
       "    </tr>\n",
       "    <tr>\n",
       "      <th>26</th>\n",
       "      <td>Программируем на Python</td>\n",
       "      <td>Эта книга — идеальное пособие для начинающих и...</td>\n",
       "      <td>1359 ₽</td>\n",
       "      <td>1359.0</td>\n",
       "    </tr>\n",
       "    <tr>\n",
       "      <th>27</th>\n",
       "      <td>Python : Карманный справочник</td>\n",
       "      <td>Этот краткий справочник по Python карманного т...</td>\n",
       "      <td>1409 ₽</td>\n",
       "      <td>1409.0</td>\n",
       "    </tr>\n",
       "    <tr>\n",
       "      <th>24</th>\n",
       "      <td>Python. Непрерывная интеграция и доставка</td>\n",
       "      <td>Изучите методы и инструменты, которые обеспечи...</td>\n",
       "      <td>1439 ₽</td>\n",
       "      <td>1439.0</td>\n",
       "    </tr>\n",
       "    <tr>\n",
       "      <th>28</th>\n",
       "      <td>Чистый Python. Тонкости программировани...</td>\n",
       "      <td>Изучение всех возможностей Python — сложная за...</td>\n",
       "      <td>1529 ₽</td>\n",
       "      <td>1529.0</td>\n",
       "    </tr>\n",
       "    <tr>\n",
       "      <th>21</th>\n",
       "      <td>Обработка естественного языка. Python и...</td>\n",
       "      <td>Python и spaCy помогут вам быстро и легко созд...</td>\n",
       "      <td>1539 ₽</td>\n",
       "      <td>1539.0</td>\n",
       "    </tr>\n",
       "    <tr>\n",
       "      <th>30</th>\n",
       "      <td>Миссия: Python. Создаем игры вместе с д...</td>\n",
       "      <td>Добро пожаловать в увлекательное космическое п...</td>\n",
       "      <td>1589 ₽\\n\\n\\t\\t\\t\\t\\t\\t\\t\\t\\tНовинка</td>\n",
       "      <td>1589.0</td>\n",
       "    </tr>\n",
       "    <tr>\n",
       "      <th>34</th>\n",
       "      <td>Python без проблем: решаем реальные зад...</td>\n",
       "      <td>Компьютеры - это мощные машины для решения зад...</td>\n",
       "      <td>1599 ₽</td>\n",
       "      <td>1599.0</td>\n",
       "    </tr>\n",
       "    <tr>\n",
       "      <th>14</th>\n",
       "      <td>Глубокое обучение на Python</td>\n",
       "      <td>Глубокое обучение — Deep learning — это набор ...</td>\n",
       "      <td>1739 ₽</td>\n",
       "      <td>1739.0</td>\n",
       "    </tr>\n",
       "    <tr>\n",
       "      <th>32</th>\n",
       "      <td>Высокопроизводительные Python-приложени...</td>\n",
       "      <td>Эта книга ориентирована на профессиональных Py...</td>\n",
       "      <td>1809 ₽</td>\n",
       "      <td>1809.0</td>\n",
       "    </tr>\n",
       "    <tr>\n",
       "      <th>13</th>\n",
       "      <td>Python для сложных задач: наука о данны...</td>\n",
       "      <td>Книга «Python Data Science Handbook» - это под...</td>\n",
       "      <td>1959 ₽</td>\n",
       "      <td>1959.0</td>\n",
       "    </tr>\n",
       "    <tr>\n",
       "      <th>10</th>\n",
       "      <td>Вероятностное программирование на Pytho...</td>\n",
       "      <td>Байесовские методы пугают формулами многих «ай...</td>\n",
       "      <td>1999 ₽</td>\n",
       "      <td>1999.0</td>\n",
       "    </tr>\n",
       "    <tr>\n",
       "      <th>3</th>\n",
       "      <td>Python. Экспресс-курс</td>\n",
       "      <td>Вы уже умеете кодить на одном или нескольких я...</td>\n",
       "      <td>2039 ₽</td>\n",
       "      <td>2039.0</td>\n",
       "    </tr>\n",
       "    <tr>\n",
       "      <th>7</th>\n",
       "      <td>Python и наука о данных для чайников, 2...</td>\n",
       "      <td>Наука о данных - это вовсе не страшно!Интересу...</td>\n",
       "      <td>2119 ₽</td>\n",
       "      <td>2119.0</td>\n",
       "    </tr>\n",
       "    <tr>\n",
       "      <th>36</th>\n",
       "      <td>Задачи по дискретной математике  с алго...</td>\n",
       "      <td>В учебном пособии включены задачи и упражнения...</td>\n",
       "      <td>2159 ₽</td>\n",
       "      <td>2159.0</td>\n",
       "    </tr>\n",
       "    <tr>\n",
       "      <th>31</th>\n",
       "      <td>Python. Исчерпывающее руководство</td>\n",
       "      <td>Разнообразие возможностей современного Python ...</td>\n",
       "      <td>2219 ₽</td>\n",
       "      <td>2219.0</td>\n",
       "    </tr>\n",
       "    <tr>\n",
       "      <th>11</th>\n",
       "      <td>Искусственный интеллект с примерами на ...</td>\n",
       "      <td>В этой книге исследуются различные сценарии пр...</td>\n",
       "      <td>2349 ₽</td>\n",
       "      <td>2349.0</td>\n",
       "    </tr>\n",
       "    <tr>\n",
       "      <th>9</th>\n",
       "      <td>Байесовский анализ на Python</td>\n",
       "      <td>Эта книга, посвященная методике вероятностного...</td>\n",
       "      <td>2359 ₽</td>\n",
       "      <td>2359.0</td>\n",
       "    </tr>\n",
       "    <tr>\n",
       "      <th>6</th>\n",
       "      <td>Глубокое обучение с подкреплением: теор...</td>\n",
       "      <td>Глубокое обучение с подкреплением (глубокое RL...</td>\n",
       "      <td>2509 ₽</td>\n",
       "      <td>2509.0</td>\n",
       "    </tr>\n",
       "    <tr>\n",
       "      <th>19</th>\n",
       "      <td>Python и DevOps: Ключ к автоматизации L...</td>\n",
       "      <td>За последнее десятилетие технологии сильно изм...</td>\n",
       "      <td>2529 ₽</td>\n",
       "      <td>2529.0</td>\n",
       "    </tr>\n",
       "    <tr>\n",
       "      <th>18</th>\n",
       "      <td>Начинаем программировать на Python</td>\n",
       "      <td>Изложены принципы программирования, с помощью ...</td>\n",
       "      <td>2619 ₽</td>\n",
       "      <td>2619.0</td>\n",
       "    </tr>\n",
       "    <tr>\n",
       "      <th>29</th>\n",
       "      <td>Алгоритмы. Справочник с примерами на C,...</td>\n",
       "      <td>Если вы считаете, что скорость решения той или...</td>\n",
       "      <td>2699 ₽</td>\n",
       "      <td>2699.0</td>\n",
       "    </tr>\n",
       "    <tr>\n",
       "      <th>15</th>\n",
       "      <td>Объяснимые модели искусственного интелл...</td>\n",
       "      <td>В этой книге рассматриваются так называемые мо...</td>\n",
       "      <td>3409 ₽\\n\\n\\t\\t\\t\\t\\t\\t\\t\\t\\tНовинка</td>\n",
       "      <td>3409.0</td>\n",
       "    </tr>\n",
       "    <tr>\n",
       "      <th>39</th>\n",
       "      <td>Устройство и программирование автономны...</td>\n",
       "      <td>Эта книга посвящена созданию интеллектуального...</td>\n",
       "      <td>3409 ₽</td>\n",
       "      <td>3409.0</td>\n",
       "    </tr>\n",
       "    <tr>\n",
       "      <th>33</th>\n",
       "      <td>Искусственный интеллект и компьютерное ...</td>\n",
       "      <td>Кем бы вы ни были — инженером-программистом, с...</td>\n",
       "      <td>3739 ₽</td>\n",
       "      <td>3739.0</td>\n",
       "    </tr>\n",
       "    <tr>\n",
       "      <th>38</th>\n",
       "      <td>Python для сетевых инженеров. Автоматиз...</td>\n",
       "      <td>Сети образуют основу для развертывания, поддер...</td>\n",
       "      <td>3769 ₽</td>\n",
       "      <td>3769.0</td>\n",
       "    </tr>\n",
       "    <tr>\n",
       "      <th>22</th>\n",
       "      <td>Научное программирование на Python</td>\n",
       "      <td>Книга начинается с общих концепций программиро...</td>\n",
       "      <td>4189 ₽</td>\n",
       "      <td>4189.0</td>\n",
       "    </tr>\n",
       "    <tr>\n",
       "      <th>23</th>\n",
       "      <td>Профессиональная разработка на Python</td>\n",
       "      <td>В книге описаны современные передовые практики...</td>\n",
       "      <td>4459 ₽</td>\n",
       "      <td>4459.0</td>\n",
       "    </tr>\n",
       "    <tr>\n",
       "      <th>12</th>\n",
       "      <td>Стандартная библиотека Python 3</td>\n",
       "      <td>В этой книге Даг Хеллман, эксперт по языку Pyt...</td>\n",
       "      <td>6449 ₽</td>\n",
       "      <td>6449.0</td>\n",
       "    </tr>\n",
       "    <tr>\n",
       "      <th>16</th>\n",
       "      <td>PYTHON. К вершинам мастерства.</td>\n",
       "      <td>Не тратьте зря времени, пытаясь подогнать Pyth...</td>\n",
       "      <td>6549 ₽</td>\n",
       "      <td>6549.0</td>\n",
       "    </tr>\n",
       "  </tbody>\n",
       "</table>\n",
       "</div>"
      ],
      "text/plain": [
       "                                          book  \\\n",
       "2   Справочник PYTHON.  Кратко, быстро, под...   \n",
       "0   Компьютерное зрение на Python. Первые шаги   \n",
       "4   HTML, CSS, SCRATCH, PYTHON. Моя первая ...   \n",
       "17             Python.Создаем программы и игры   \n",
       "35  Программирование на языке Python. Среды...   \n",
       "5    Программирование на Python для начинающих   \n",
       "25              Легкий способ выучить Python 3   \n",
       "8    Легкий способ выучить Python 3 еще глубже   \n",
       "1                Python для юных программистов   \n",
       "37  Python для детей, которые пока не прогр...   \n",
       "20  Основы искусственного интеллекта в прим...   \n",
       "26                     Программируем на Python   \n",
       "27               Python : Карманный справочник   \n",
       "24   Python. Непрерывная интеграция и доставка   \n",
       "28  Чистый Python. Тонкости программировани...   \n",
       "21  Обработка естественного языка. Python и...   \n",
       "30  Миссия: Python. Создаем игры вместе с д...   \n",
       "34  Python без проблем: решаем реальные зад...   \n",
       "14                 Глубокое обучение на Python   \n",
       "32  Высокопроизводительные Python-приложени...   \n",
       "13  Python для сложных задач: наука о данны...   \n",
       "10  Вероятностное программирование на Pytho...   \n",
       "3                        Python. Экспресс-курс   \n",
       "7   Python и наука о данных для чайников, 2...   \n",
       "36  Задачи по дискретной математике  с алго...   \n",
       "31           Python. Исчерпывающее руководство   \n",
       "11  Искусственный интеллект с примерами на ...   \n",
       "9                 Байесовский анализ на Python   \n",
       "6   Глубокое обучение с подкреплением: теор...   \n",
       "19  Python и DevOps: Ключ к автоматизации L...   \n",
       "18          Начинаем программировать на Python   \n",
       "29  Алгоритмы. Справочник с примерами на C,...   \n",
       "15  Объяснимые модели искусственного интелл...   \n",
       "39  Устройство и программирование автономны...   \n",
       "33  Искусственный интеллект и компьютерное ...   \n",
       "38  Python для сетевых инженеров. Автоматиз...   \n",
       "22          Научное программирование на Python   \n",
       "23       Профессиональная разработка на Python   \n",
       "12             Стандартная библиотека Python 3   \n",
       "16             PYTHON. К вершинам мастерства.    \n",
       "\n",
       "                                          description  \\\n",
       "2   Данный справочник содержит всю ключевую информ...   \n",
       "0   В книге изложен учебный курс для школьников, н...   \n",
       "4   Хотите научиться создавать программы и сайты, ...   \n",
       "17  Данная книга позволяет уже с первых шагов созд...   \n",
       "35  Рассмотрены основные практические навыки работ...   \n",
       "5   Книга \"Программирование на  Python для начинаю...   \n",
       "25  Новая книга автора знаменитого бестселлера-сам...   \n",
       "8   Воплотите ваши идеи в код самого высокого каче...   \n",
       "1   Книга написана на основе опыта обучения програ...   \n",
       "37  Назначение книги - помочь ребёнку 10-13 лет сд...   \n",
       "20  Описаны инструментальные средства для разработ...   \n",
       "26  Эта книга — идеальное пособие для начинающих и...   \n",
       "27  Этот краткий справочник по Python карманного т...   \n",
       "24  Изучите методы и инструменты, которые обеспечи...   \n",
       "28  Изучение всех возможностей Python — сложная за...   \n",
       "21  Python и spaCy помогут вам быстро и легко созд...   \n",
       "30  Добро пожаловать в увлекательное космическое п...   \n",
       "34  Компьютеры - это мощные машины для решения зад...   \n",
       "14  Глубокое обучение — Deep learning — это набор ...   \n",
       "32  Эта книга ориентирована на профессиональных Py...   \n",
       "13  Книга «Python Data Science Handbook» - это под...   \n",
       "10  Байесовские методы пугают формулами многих «ай...   \n",
       "3   Вы уже умеете кодить на одном или нескольких я...   \n",
       "7   Наука о данных - это вовсе не страшно!Интересу...   \n",
       "36  В учебном пособии включены задачи и упражнения...   \n",
       "31  Разнообразие возможностей современного Python ...   \n",
       "11  В этой книге исследуются различные сценарии пр...   \n",
       "9   Эта книга, посвященная методике вероятностного...   \n",
       "6   Глубокое обучение с подкреплением (глубокое RL...   \n",
       "19  За последнее десятилетие технологии сильно изм...   \n",
       "18  Изложены принципы программирования, с помощью ...   \n",
       "29  Если вы считаете, что скорость решения той или...   \n",
       "15  В этой книге рассматриваются так называемые мо...   \n",
       "39  Эта книга посвящена созданию интеллектуального...   \n",
       "33  Кем бы вы ни были — инженером-программистом, с...   \n",
       "38  Сети образуют основу для развертывания, поддер...   \n",
       "22  Книга начинается с общих концепций программиро...   \n",
       "23  В книге описаны современные передовые практики...   \n",
       "12  В этой книге Даг Хеллман, эксперт по языку Pyt...   \n",
       "16  Не тратьте зря времени, пытаясь подогнать Pyth...   \n",
       "\n",
       "                                  price  nprice  \n",
       "2                                 519 ₽   519.0  \n",
       "0                                 559 ₽   559.0  \n",
       "4                                 609 ₽   609.0  \n",
       "17                                679 ₽   679.0  \n",
       "35                                719 ₽   719.0  \n",
       "5                                 809 ₽   809.0  \n",
       "25                               1029 ₽  1029.0  \n",
       "8                                1029 ₽  1029.0  \n",
       "1                                1059 ₽  1059.0  \n",
       "37                               1159 ₽  1159.0  \n",
       "20                               1239 ₽  1239.0  \n",
       "26                               1359 ₽  1359.0  \n",
       "27                               1409 ₽  1409.0  \n",
       "24                               1439 ₽  1439.0  \n",
       "28                               1529 ₽  1529.0  \n",
       "21                               1539 ₽  1539.0  \n",
       "30  1589 ₽\\n\\n\\t\\t\\t\\t\\t\\t\\t\\t\\tНовинка  1589.0  \n",
       "34                               1599 ₽  1599.0  \n",
       "14                               1739 ₽  1739.0  \n",
       "32                               1809 ₽  1809.0  \n",
       "13                               1959 ₽  1959.0  \n",
       "10                               1999 ₽  1999.0  \n",
       "3                                2039 ₽  2039.0  \n",
       "7                                2119 ₽  2119.0  \n",
       "36                               2159 ₽  2159.0  \n",
       "31                               2219 ₽  2219.0  \n",
       "11                               2349 ₽  2349.0  \n",
       "9                                2359 ₽  2359.0  \n",
       "6                                2509 ₽  2509.0  \n",
       "19                               2529 ₽  2529.0  \n",
       "18                               2619 ₽  2619.0  \n",
       "29                               2699 ₽  2699.0  \n",
       "15  3409 ₽\\n\\n\\t\\t\\t\\t\\t\\t\\t\\t\\tНовинка  3409.0  \n",
       "39                               3409 ₽  3409.0  \n",
       "33                               3739 ₽  3739.0  \n",
       "38                               3769 ₽  3769.0  \n",
       "22                               4189 ₽  4189.0  \n",
       "23                               4459 ₽  4459.0  \n",
       "12                               6449 ₽  6449.0  \n",
       "16                               6549 ₽  6549.0  "
      ]
     },
     "execution_count": 45,
     "metadata": {},
     "output_type": "execute_result"
    }
   ],
   "source": [
    "df.sort_values('nprice')"
   ]
  },
  {
   "cell_type": "markdown",
   "metadata": {},
   "source": [
    "И сохраним всю таблицу в csv-файл:"
   ]
  },
  {
   "cell_type": "code",
   "execution_count": 46,
   "metadata": {},
   "outputs": [],
   "source": [
    "df.to_csv(\"books.csv\", index=False)"
   ]
  },
  {
   "cell_type": "code",
   "execution_count": 51,
   "metadata": {},
   "outputs": [],
   "source": [
    "br.close()"
   ]
  }
 ],
 "metadata": {
  "kernelspec": {
   "display_name": "Python 3 (ipykernel)",
   "language": "python",
   "name": "python3"
  },
  "language_info": {
   "codemirror_mode": {
    "name": "ipython",
    "version": 3
   },
   "file_extension": ".py",
   "mimetype": "text/x-python",
   "name": "python",
   "nbconvert_exporter": "python",
   "pygments_lexer": "ipython3",
   "version": "3.10.2"
  },
  "toc": {
   "base_numbering": 1,
   "nav_menu": {},
   "number_sections": true,
   "sideBar": true,
   "skip_h1_title": false,
   "title_cell": "Table of Contents",
   "title_sidebar": "Contents",
   "toc_cell": false,
   "toc_position": {},
   "toc_section_display": true,
   "toc_window_display": false
  },
  "varInspector": {
   "cols": {
    "lenName": 16,
    "lenType": 16,
    "lenVar": 40
   },
   "kernels_config": {
    "python": {
     "delete_cmd_postfix": "",
     "delete_cmd_prefix": "del ",
     "library": "var_list.py",
     "varRefreshCmd": "print(var_dic_list())"
    },
    "r": {
     "delete_cmd_postfix": ") ",
     "delete_cmd_prefix": "rm(",
     "library": "var_list.r",
     "varRefreshCmd": "cat(var_dic_list()) "
    }
   },
   "types_to_exclude": [
    "module",
    "function",
    "builtin_function_or_method",
    "instance",
    "_Feature"
   ],
   "window_display": false
  }
 },
 "nbformat": 4,
 "nbformat_minor": 2
}
